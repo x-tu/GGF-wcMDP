{
 "cells": [
  {
   "cell_type": "markdown",
   "id": "04adfba6-bd5d-45d7-ac47-a96311e3e363",
   "metadata": {
    "tags": []
   },
   "source": [
    "# Fix policy in Q-Learning & Policy Iteration\n",
    "\n",
    "This script is used to compare the tabular Q-Learning and policy iteration with the optimal policy from dual LP.\n",
    "\n",
    "**Logs**:\n",
    "+ 2023-07-25 Results from q-learning does not converge away from the optimal. We tried the PI, which converges and gives better results."
   ]
  },
  {
   "cell_type": "code",
   "execution_count": 2,
   "id": "dab76571-7858-4486-a04b-bd5959678eaa",
   "metadata": {
    "tags": []
   },
   "outputs": [
    {
     "name": "stdout",
     "output_type": "stream",
     "text": [
      "/Users/xiaohui/SpyderProjects/PhD/Fair-RL/src\n"
     ]
    }
   ],
   "source": [
    "# a temporary solution, run twice to set the current path as '../Fair-RL/src'\n",
    "%cd .."
   ]
  },
  {
   "cell_type": "code",
   "execution_count": 4,
   "id": "cd2f65bc-4315-4015-beb6-a5ac711a528b",
   "metadata": {
    "tags": []
   },
   "outputs": [
    {
     "data": {
      "text/plain": [
       "Namespace(ggi=False, n_action=2, n_group=3, n_state=3, weight=2)"
      ]
     },
     "execution_count": 4,
     "metadata": {},
     "output_type": "execute_result"
    }
   ],
   "source": [
    "import argparse\n",
    "\n",
    "from env.mrp_env import MachineReplace\n",
    "from experiments.configs.config_shared import prs_parser_setup\n",
    "import seaborn as sns\n",
    "import numpy as np\n",
    "\n",
    "\n",
    "# configuration parameters\n",
    "prs = argparse.ArgumentParser(\n",
    "    formatter_class=argparse.ArgumentDefaultsHelpFormatter,\n",
    "    description=\"\"\"Tabular Q Learning.\"\"\",\n",
    ")\n",
    "prs = prs_parser_setup(prs)\n",
    "args, _ = prs.parse_known_args()\n",
    "\n",
    "# check parameters\n",
    "args"
   ]
  },
  {
   "cell_type": "markdown",
   "id": "1cfdaf01-eba6-45d4-9878-ffd88425fb0a",
   "metadata": {
    "tags": []
   },
   "source": [
    "## Q-learning"
   ]
  },
  {
   "cell_type": "code",
   "execution_count": 24,
   "id": "b507cfbf-21a9-4551-8ab7-3f09cbbb0ef3",
   "metadata": {
    "tags": []
   },
   "outputs": [],
   "source": [
    "class QAgent:\n",
    "    def __init__(self, env, num_states, num_actions, alpha, epsilon, gamma):\n",
    "        self.env = env\n",
    "        self.num_states = num_states\n",
    "        self.num_actions = num_actions\n",
    "        self.q_table = np.random.uniform(\n",
    "            low=0, high=0.01, size=(num_states, num_actions)\n",
    "        )\n",
    "        self.epsilon = epsilon\n",
    "        self.alpha = alpha\n",
    "        self.gamma = gamma\n",
    "\n",
    "    def get_action(self, state):\n",
    "        # We use epsilon-greedy to get an action\n",
    "        if np.random.random() < self.epsilon:\n",
    "            action = np.random.choice(self.num_actions)\n",
    "        else:\n",
    "            action = np.argmax(self.q_table[state][:])\n",
    "        return action\n",
    "\n",
    "    def update_q_function(self, state, action, reward, state_next):\n",
    "        # Update the Q function with linear function approximation\n",
    "        # In this case, equivalent to the tabular Q-Learning\n",
    "        q_next = max(self.q_table[state_next][:])\n",
    "        self.q_table[state, action] = self.q_table[state, action] + self.alpha * (\n",
    "            reward + self.gamma * q_next - self.q_table[state, action]\n",
    "        )\n",
    "\n",
    "    def get_policy(self):\n",
    "        # We use greedy to decide an optimal policy\n",
    "        state_action_pair = {}\n",
    "        for state in range(self.num_states):\n",
    "            state_action_pair[state] = np.argmax(self.q_table[state][:])\n",
    "        return state_action_pair\n",
    "\n",
    "\n",
    "def run_tabular_q(\n",
    "    env, num_episodes=200, len_episode=1000, alpha=0.1, epsilon=0.2, gamma=0.99\n",
    "):\n",
    "    episode_rewards = []\n",
    "    agent = QAgent(\n",
    "        env=env,\n",
    "        num_states=env.observation_space.n,\n",
    "        num_actions=env.action_space.n,\n",
    "        alpha=alpha,\n",
    "        epsilon=epsilon,\n",
    "        gamma=gamma,\n",
    "    )\n",
    "    # Run 1000 episodes\n",
    "    for episode in range(num_episodes):\n",
    "        # Initialize environment\n",
    "        state = env.reset()\n",
    "        total_reward = 0\n",
    "        for t in range(len_episode):\n",
    "            # Get an action\n",
    "            action = agent.get_action(state)\n",
    "            # Move\n",
    "            state_next, reward, done, _ = env.step(action)\n",
    "            # Update Q table\n",
    "            agent.update_q_function(state, action, reward, state_next)\n",
    "            # Update observation\n",
    "            state = state_next\n",
    "            total_reward += (gamma ** t) * reward\n",
    "        # Display running rewards\n",
    "        if episode % 20 == 0:\n",
    "            print(f\"Episode: {episode}; \" f\"Running reward: {total_reward:.1f}.\")\n",
    "        episode_rewards.append(total_reward)\n",
    "    state_action_pair = agent.get_policy()\n",
    "    return state_action_pair, episode_rewards"
   ]
  },
  {
   "cell_type": "code",
   "execution_count": 16,
   "id": "efd89515-a022-4427-9da5-d7cf39172a55",
   "metadata": {
    "tags": []
   },
   "outputs": [
    {
     "name": "stdout",
     "output_type": "stream",
     "text": [
      "Episode: 0; Running reward: 1740.7.\n",
      "Episode: 20; Running reward: 1669.3.\n",
      "Episode: 40; Running reward: 1699.8.\n",
      "Episode: 60; Running reward: 1853.2.\n",
      "Episode: 80; Running reward: 1837.3.\n",
      "Episode: 100; Running reward: 1923.0.\n",
      "Episode: 120; Running reward: 1881.8.\n",
      "Episode: 140; Running reward: 1926.7.\n",
      "Episode: 160; Running reward: 1926.1.\n",
      "Episode: 180; Running reward: 1913.5.\n"
     ]
    }
   ],
   "source": [
    "# initialize the MRP environment\n",
    "env = MachineReplace(\n",
    "    n_group=args.n_group,\n",
    "    n_state=args.n_state,\n",
    "    n_action=args.n_action,\n",
    "    init_state=0,\n",
    "    ggi=args.ggi,\n",
    ")\n",
    "\n",
    "tabular_q_policy, episode_rewards = run_tabular_q(\n",
    "    env=env, num_episodes=200, len_episode=1500, alpha=0.05, epsilon=0.2, gamma=0.90\n",
    ")"
   ]
  },
  {
   "cell_type": "code",
   "execution_count": 17,
   "id": "478b6214-8f67-4a45-b0af-32320f05258f",
   "metadata": {
    "tags": []
   },
   "outputs": [
    {
     "data": {
      "text/plain": [
       "<AxesSubplot:>"
      ]
     },
     "execution_count": 17,
     "metadata": {},
     "output_type": "execute_result"
    },
    {
     "data": {
      "image/png": "[encoded data removed]",
      "text/plain": [
       "<Figure size 640x480 with 1 Axes>"
      ]
     },
     "metadata": {},
     "output_type": "display_data"
    }
   ],
   "source": [
    "sns.lineplot(episode_rewards)"
   ]
  },
  {
   "cell_type": "markdown",
   "id": "44ace741-caec-422a-a6d5-d33efa48a53a",
   "metadata": {},
   "source": [
    "Next, we fix the policy from q-learning and solve."
   ]
  },
  {
   "cell_type": "code",
   "execution_count": 18,
   "id": "563745ae-a811-4f7c-8b8f-732488416b15",
   "metadata": {
    "tags": []
   },
   "outputs": [
    {
     "name": "stdout",
     "output_type": "stream",
     "text": [
      "Gurobi Optimizer version 10.0.0 build v10.0.0rc2 (mac64[x86])\n",
      "\n",
      "CPU model: Intel(R) Core(TM) i7-8750H CPU @ 2.20GHz\n",
      "Thread count: 6 physical cores, 12 logical processors, using up to 12 threads\n",
      "\n",
      "Optimize a model with 144 rows, 114 columns and 1754 nonzeros\n",
      "Model fingerprint: 0x034d72f4\n",
      "Coefficient statistics:\n",
      "  Matrix range     [1e-01, 6e+01]\n",
      "  Objective range  [1e+00, 1e+00]\n",
      "  Bounds range     [0e+00, 0e+00]\n",
      "  RHS range        [4e-02, 4e-02]\n",
      "Presolve removed 128 rows and 101 columns\n",
      "Presolve time: 0.01s\n",
      "Presolved: 16 rows, 13 columns, 102 nonzeros\n",
      "\n",
      "Iteration    Objective       Primal Inf.    Dual Inf.      Time\n",
      "       0    0.0000000e+00   1.135632e+02   0.000000e+00      0s\n",
      "      14    3.8486426e+02   0.000000e+00   0.000000e+00      0s\n",
      "\n",
      "Solved in 14 iterations and 0.01 seconds (0.00 work units)\n",
      "Optimal objective  3.848642613e+02\n",
      "x((0, 0, 0), 1): 0.39708094596922544\n",
      "x((0, 0, 1), 0): 0.3051970260198111\n",
      "x((0, 0, 2), 3): 0.285969558303222\n",
      "x((0, 1, 0), 2): 0.3748066749633743\n",
      "x((0, 1, 1), 0): 0.38555953671840615\n",
      "x((0, 1, 2), 0): 0.3391528885805681\n",
      "x((0, 2, 0), 0): 0.381659690272958\n",
      "x((0, 2, 1), 1): 0.42028717569482954\n",
      "x((0, 2, 2), 0): 0.3703703703703703\n",
      "x((1, 0, 0), 0): 0.48110222481360854\n",
      "x((1, 0, 1), 3): 0.3588662223717721\n",
      "x((1, 0, 2), 0): 0.3249372727666501\n",
      "x((1, 1, 0), 0): 0.49068975935685555\n",
      "x((1, 1, 1), 0): 0.40708791140639927\n",
      "x((1, 1, 2), 0): 0.2628434886499403\n",
      "x((1, 2, 0), 2): 0.5293100164148417\n",
      "x((1, 2, 1), 0): 0.5423060331546187\n",
      "x((1, 2, 2), 0): 0.37037037037037035\n",
      "x((2, 0, 0), 3): 0.4895029296301992\n",
      "x((2, 0, 1), 0): 0.3761050562876858\n",
      "x((2, 0, 2), 0): 0.2675912658251488\n",
      "x((2, 1, 0), 0): 0.5730413410294841\n",
      "x((2, 1, 1), 0): 0.3737697227042941\n",
      "x((2, 1, 2), 1): 0.20370370370370372\n",
      "x((2, 2, 0), 0): 0.6829806663417312\n",
      "x((2, 2, 1), 0): 0.5423060331546188\n",
      "x((2, 2, 2), 0): 0.3703703703703704\n",
      "policy((0, 0, 0), 1): 1.0\n",
      "policy((0, 0, 1), 0): 1.0\n",
      "policy((0, 0, 2), 3): 1.0\n",
      "policy((0, 1, 0), 2): 1.0\n",
      "policy((0, 1, 1), 0): 1.0\n",
      "policy((0, 1, 2), 0): 1.0\n",
      "policy((0, 2, 0), 0): 1.0\n",
      "policy((0, 2, 1), 1): 1.0\n",
      "policy((0, 2, 2), 0): 1.0\n",
      "policy((1, 0, 0), 0): 1.0\n",
      "policy((1, 0, 1), 3): 1.0\n",
      "policy((1, 0, 2), 0): 1.0\n",
      "policy((1, 1, 0), 0): 1.0\n",
      "policy((1, 1, 1), 0): 1.0\n",
      "policy((1, 1, 2), 0): 1.0\n",
      "policy((1, 2, 0), 2): 1.0\n",
      "policy((1, 2, 1), 0): 1.0\n",
      "policy((1, 2, 2), 0): 1.0\n",
      "policy((2, 0, 0), 3): 1.0\n",
      "policy((2, 0, 1), 0): 1.0\n",
      "policy((2, 0, 2), 0): 1.0\n",
      "policy((2, 1, 0), 0): 1.0\n",
      "policy((2, 1, 1), 0): 1.0\n",
      "policy((2, 1, 2), 1): 1.0\n",
      "policy((2, 2, 0), 0): 1.0\n",
      "policy((2, 2, 1), 0): 1.0\n",
      "policy((2, 2, 2), 0): 1.0\n",
      "lambda0: 158.64786499454118\n",
      "lambda1: 50.91476110855164\n",
      "lambda2: 0.0\n",
      "nu0: 67.56853128889782\n",
      "nu1: 56.81834277743791\n",
      "nu2: 50.91476110855164\n",
      "group 0: 980.0\n",
      "group 1: 870.0\n",
      "group 2: 970.0\n"
     ]
    },
    {
     "data": {
      "text/plain": [
       "[980.0, 870.0, 970.0]"
      ]
     },
     "execution_count": 18,
     "metadata": {},
     "output_type": "execute_result"
    }
   ],
   "source": [
    "import numpy as np\n",
    "\n",
    "# results for fixing the RL policy\n",
    "from solver.fix_policy import (\n",
    "    build_ggf_fix,\n",
    "    extract_results as extract_results_fix,\n",
    "    solve_ggf_fix,\n",
    ")\n",
    "\n",
    "# Build data\n",
    "from utils.mrp_lp import MRPData\n",
    "\n",
    "weight_coef = np.array([1 / (2 ** i) for i in range(args.n_group)])\n",
    "data_mrp = MRPData(\n",
    "    n_group=args.n_group,\n",
    "    n_state=args.n_state,\n",
    "    n_action=args.n_action,\n",
    "    weight=weight_coef,\n",
    ")  # TODO: not by default\n",
    "\n",
    "model = build_ggf_fix(data_mrp, tabular_q_policy)\n",
    "# Solve the GGF model\n",
    "results, ggf_model = solve_ggf_fix(model=model)\n",
    "extract_results_fix(model=ggf_model, data=data_mrp, policy_rl=tabular_q_policy)"
   ]
  },
  {
   "cell_type": "markdown",
   "id": "2344821e-6ae6-47e9-8d59-eb358c121e75",
   "metadata": {
    "tags": []
   },
   "source": [
    "## Dual LP\n",
    "Optimal solutions from dual LP is given as:"
   ]
  },
  {
   "cell_type": "code",
   "execution_count": 21,
   "id": "1042412c-ef25-4d58-8e3d-e625c17325cb",
   "metadata": {
    "tags": []
   },
   "outputs": [
    {
     "name": "stdout",
     "output_type": "stream",
     "text": [
      "Gurobi Optimizer version 10.0.0 build v10.0.0rc2 (mac64[x86])\n",
      "\n",
      "CPU model: Intel(R) Core(TM) i7-8750H CPU @ 2.20GHz\n",
      "Thread count: 6 physical cores, 12 logical processors, using up to 12 threads\n",
      "\n",
      "Optimize a model with 36 rows, 114 columns and 1592 nonzeros\n",
      "Model fingerprint: 0xcfb725c3\n",
      "Coefficient statistics:\n",
      "  Matrix range     [1e-01, 6e+01]\n",
      "  Objective range  [1e+00, 1e+00]\n",
      "  Bounds range     [0e+00, 0e+00]\n",
      "  RHS range        [4e-02, 4e-02]\n",
      "Presolve time: 0.00s\n",
      "Presolved: 36 rows, 114 columns, 1592 nonzeros\n",
      "\n",
      "Iteration    Objective       Primal Inf.    Dual Inf.      Time\n",
      "       0    0.0000000e+00   3.259259e+00   0.000000e+00      0s\n",
      "      60    4.1508739e+01   0.000000e+00   0.000000e+00      0s\n",
      "\n",
      "Solved in 60 iterations and 0.01 seconds (0.00 work units)\n",
      "Optimal objective  4.150873891e+01\n",
      "x((0, 0, 0), 0): 0.08962194783040893\n",
      "x((0, 0, 1), 0): 0.065000707827664\n",
      "x((0, 0, 2), 0): 0.04778972520908004\n",
      "x((0, 1, 0), 0): 0.065000707827664\n",
      "x((0, 1, 1), 0): 0.04702182841440925\n",
      "x((0, 1, 2), 3): 0.037037037037037035\n",
      "x((0, 2, 0), 0): 0.04778972520908004\n",
      "x((0, 2, 1), 2): 0.037037037037037035\n",
      "x((0, 2, 2), 2): 0.024691358024691305\n",
      "x((0, 2, 2), 3): 0.01234567901234573\n",
      "x((1, 0, 0), 0): 0.065000707827664\n",
      "x((1, 0, 1), 0): 0.04702182841440925\n",
      "x((1, 0, 2), 3): 0.037037037037037035\n",
      "x((1, 1, 0), 0): 0.04702182841440925\n",
      "x((1, 1, 1), 0): 0.04173187271778821\n",
      "x((1, 1, 2), 3): 0.037037037037037035\n",
      "x((1, 2, 0), 2): 0.037037037037037035\n",
      "x((1, 2, 1), 2): 0.037037037037037035\n",
      "x((1, 2, 2), 3): 0.037037037037037035\n",
      "x((2, 0, 0), 0): 0.04778972520908004\n",
      "x((2, 0, 1), 1): 0.037037037037037035\n",
      "x((2, 0, 2), 1): 0.037037037037037035\n",
      "x((2, 1, 0), 1): 0.037037037037037035\n",
      "x((2, 1, 1), 1): 0.037037037037037035\n",
      "x((2, 1, 2), 3): 0.037037037037037035\n",
      "x((2, 2, 0), 2): 0.037037037037037035\n",
      "x((2, 2, 1), 1): 0.01234567901234556\n",
      "x((2, 2, 1), 2): 0.024691358024691475\n",
      "x((2, 2, 2), 1): 0.037037037037037035\n",
      "policy((0, 0, 0), 0): 1.0\n",
      "policy((0, 0, 1), 0): 1.0\n",
      "policy((0, 0, 2), 0): 1.0\n",
      "policy((0, 1, 0), 0): 1.0\n",
      "policy((0, 1, 1), 0): 1.0\n",
      "policy((0, 1, 2), 3): 1.0\n",
      "policy((0, 2, 0), 0): 1.0\n",
      "policy((0, 2, 1), 2): 1.0\n",
      "policy((0, 2, 2), 2): 0.6666666666666653\n",
      "policy((0, 2, 2), 3): 0.33333333333333476\n",
      "policy((1, 0, 0), 0): 1.0\n",
      "policy((1, 0, 1), 0): 1.0\n",
      "policy((1, 0, 2), 3): 1.0\n",
      "policy((1, 1, 0), 0): 1.0\n",
      "policy((1, 1, 1), 0): 1.0\n",
      "policy((1, 1, 2), 3): 1.0\n",
      "policy((1, 2, 0), 2): 1.0\n",
      "policy((1, 2, 1), 2): 1.0\n",
      "policy((1, 2, 2), 3): 1.0\n",
      "policy((2, 0, 0), 0): 1.0\n",
      "policy((2, 0, 1), 1): 1.0\n",
      "policy((2, 0, 2), 1): 1.0\n",
      "policy((2, 1, 0), 1): 1.0\n",
      "policy((2, 1, 1), 1): 1.0\n",
      "policy((2, 1, 2), 3): 1.0\n",
      "policy((2, 2, 0), 2): 1.0\n",
      "policy((2, 2, 1), 1): 0.33333333333333015\n",
      "policy((2, 2, 1), 2): 0.6666666666666698\n",
      "policy((2, 2, 2), 1): 1.0\n",
      "lambda0: 23.719279378630837\n",
      "lambda1: 11.859639689315419\n",
      "lambda2: 5.929819844657709\n",
      "nu0: 0.0\n",
      "nu1: 0.0\n",
      "nu2: 0.0\n",
      "group 0: 41.50873891260395\n",
      "group 1: 41.508738912603974\n",
      "group 2: 41.508738912603974\n"
     ]
    },
    {
     "data": {
      "text/plain": [
       "[41.50873891260395, 41.508738912603974, 41.508738912603974]"
      ]
     },
     "execution_count": 21,
     "metadata": {},
     "output_type": "execute_result"
    }
   ],
   "source": [
    "import numpy as np\n",
    "\n",
    "# Build data\n",
    "from utils.mrp_lp import MRPData\n",
    "\n",
    "weight_coef = np.array([1 / (2 ** i) for i in range(args.n_group)])\n",
    "data_mrp = MRPData(\n",
    "    n_group=args.n_group,\n",
    "    n_state=args.n_state,\n",
    "    n_action=args.n_action,\n",
    "    weight=weight_coef,\n",
    ")  # TODO: not by default\n",
    "\n",
    "# results for ggf dual\n",
    "from solver.ggf_dual import build_ggf, extract_results, solve_ggf\n",
    "\n",
    "# Build t1he GGF model\n",
    "ggf_model_lp = build_ggf(data=data_mrp)\n",
    "# Solve the GGF model\n",
    "results_lp, ggf_model_lp = solve_ggf(model=ggf_model_lp)\n",
    "# Extract the results\n",
    "extract_results(model=ggf_model_lp, data=data_mrp)"
   ]
  },
  {
   "cell_type": "markdown",
   "id": "18f06033-ee9c-4227-aff9-6f69e2fd0303",
   "metadata": {},
   "source": [
    "## Policy Iteration"
   ]
  },
  {
   "cell_type": "code",
   "execution_count": 23,
   "id": "afb1a09e-f5db-4f02-9931-a3ea0bc231ad",
   "metadata": {
    "tags": []
   },
   "outputs": [
    {
     "name": "stdout",
     "output_type": "stream",
     "text": [
      "Gurobi Optimizer version 10.0.0 build v10.0.0rc2 (mac64[x86])\n",
      "\n",
      "CPU model: Intel(R) Core(TM) i7-8750H CPU @ 2.20GHz\n",
      "Thread count: 6 physical cores, 12 logical processors, using up to 12 threads\n",
      "\n",
      "Optimize a model with 144 rows, 114 columns and 1754 nonzeros\n",
      "Model fingerprint: 0x3cdd362e\n",
      "Coefficient statistics:\n",
      "  Matrix range     [1e-01, 4e+01]\n",
      "  Objective range  [1e+00, 1e+00]\n",
      "  Bounds range     [0e+00, 0e+00]\n",
      "  RHS range        [4e-02, 4e-02]\n",
      "Presolve removed 135 rows and 108 columns\n",
      "Presolve time: 0.01s\n",
      "Presolved: 9 rows, 6 columns, 18 nonzeros\n",
      "\n",
      "Iteration    Objective       Primal Inf.    Dual Inf.      Time\n",
      "       0    0.0000000e+00   1.281388e+02   0.000000e+00      0s\n",
      "       5    4.2712922e+01   0.000000e+00   0.000000e+00      0s\n",
      "\n",
      "Solved in 5 iterations and 0.01 seconds (0.00 work units)\n",
      "Optimal objective  4.271292196e+01\n",
      "x((0, 0, 0), 0): 0.08731825744639655\n",
      "x((0, 0, 1), 0): 0.058942855336372155\n",
      "x((0, 0, 2), 3): 0.037037037037037035\n",
      "x((0, 1, 0), 0): 0.058942855336372155\n",
      "x((0, 1, 1), 0): 0.04702182841440925\n",
      "x((0, 1, 2), 3): 0.037037037037037035\n",
      "x((0, 2, 0), 2): 0.037037037037037035\n",
      "x((0, 2, 1), 2): 0.037037037037037035\n",
      "x((0, 2, 2), 2): 0.037037037037037035\n",
      "x((1, 0, 0), 0): 0.058942855336372155\n",
      "x((1, 0, 1), 0): 0.04702182841440925\n",
      "x((1, 0, 2), 3): 0.037037037037037035\n",
      "x((1, 1, 0), 0): 0.04702182841440925\n",
      "x((1, 1, 1), 0): 0.04173187271778821\n",
      "x((1, 1, 2), 3): 0.037037037037037035\n",
      "x((1, 2, 0), 2): 0.037037037037037035\n",
      "x((1, 2, 1), 2): 0.037037037037037035\n",
      "x((1, 2, 2), 2): 0.037037037037037035\n",
      "x((2, 0, 0), 1): 0.037037037037037035\n",
      "x((2, 0, 1), 1): 0.037037037037037035\n",
      "x((2, 0, 2), 1): 0.037037037037037035\n",
      "x((2, 1, 0), 1): 0.037037037037037035\n",
      "x((2, 1, 1), 1): 0.037037037037037035\n",
      "x((2, 1, 2), 1): 0.037037037037037035\n",
      "x((2, 2, 0), 1): 0.037037037037037035\n",
      "x((2, 2, 1), 1): 0.037037037037037035\n",
      "x((2, 2, 2), 1): 0.037037037037037035\n",
      "policy((0, 0, 0), 0): 1.0\n",
      "policy((0, 0, 1), 0): 1.0\n",
      "policy((0, 0, 2), 3): 1.0\n",
      "policy((0, 1, 0), 0): 1.0\n",
      "policy((0, 1, 1), 0): 1.0\n",
      "policy((0, 1, 2), 3): 1.0\n",
      "policy((0, 2, 0), 2): 1.0\n",
      "policy((0, 2, 1), 2): 1.0\n",
      "policy((0, 2, 2), 2): 1.0\n",
      "policy((1, 0, 0), 0): 1.0\n",
      "policy((1, 0, 1), 0): 1.0\n",
      "policy((1, 0, 2), 3): 1.0\n",
      "policy((1, 1, 0), 0): 1.0\n",
      "policy((1, 1, 1), 0): 1.0\n",
      "policy((1, 1, 2), 3): 1.0\n",
      "policy((1, 2, 0), 2): 1.0\n",
      "policy((1, 2, 1), 2): 1.0\n",
      "policy((1, 2, 2), 2): 1.0\n",
      "policy((2, 0, 0), 1): 1.0\n",
      "policy((2, 0, 1), 1): 1.0\n",
      "policy((2, 0, 2), 1): 1.0\n",
      "policy((2, 1, 0), 1): 1.0\n",
      "policy((2, 1, 1), 1): 1.0\n",
      "policy((2, 1, 2), 1): 1.0\n",
      "policy((2, 2, 0), 1): 1.0\n",
      "policy((2, 2, 1), 1): 1.0\n",
      "policy((2, 2, 2), 1): 1.0\n",
      "lambda0: 12.509245591368725\n",
      "lambda1: 12.509245591368725\n",
      "lambda2: 12.509245591368725\n",
      "nu0: 3.703703703703706\n",
      "nu1: 1.4814814814814863\n",
      "nu2: 0.0\n",
      "group 0: 1260.0\n",
      "group 1: 1080.0\n",
      "group 2: 960.0\n"
     ]
    },
    {
     "data": {
      "text/plain": [
       "[1260.0, 1080.0, 960.0]"
      ]
     },
     "execution_count": 23,
     "metadata": {},
     "output_type": "execute_result"
    }
   ],
   "source": [
    "\"\"\"This script is used to run policy iteration algorithm.\"\"\"\n",
    "\n",
    "import numpy as np\n",
    "\n",
    "from utils.mrp_lp import MRPData\n",
    "\n",
    "\n",
    "class PIAgent:\n",
    "    def __init__(self, params, gamma=0.99, theta=1e-10):\n",
    "        self.mrp_data = MRPData(\n",
    "            n_group=params[\"n_group\"],\n",
    "            n_state=params[\"n_state\"],\n",
    "            n_action=params[\"n_action\"],\n",
    "            weight=None\n",
    "        )\n",
    "        self.ggi = params[\"ggi\"]\n",
    "        self.gamma = gamma  # discount factor\n",
    "        self.theta = theta  # threshold to stop policy evaluation\n",
    "        self.n_state = len(self.mrp_data.idx_list_s)\n",
    "        self.n_action = len(self.mrp_data.idx_list_a)\n",
    "\n",
    "    def policy_evaluation(self, pi):\n",
    "        prev_V = np.zeros(self.n_state, dtype=np.float64)\n",
    "        while True:\n",
    "            V = np.zeros(self.n_state, dtype=np.float64)\n",
    "            for s in range(self.n_state):\n",
    "                next_state_prob = self.mrp_data.bigT[s, :, pi(s)]\n",
    "                reward = sum(-self.mrp_data.bigC[s, pi(s), :] + 110)\n",
    "                V[s] += reward + self.gamma * np.dot(prev_V, next_state_prob)\n",
    "            if np.max(np.abs(prev_V - V)) < self.theta:\n",
    "                break\n",
    "            prev_V = V.copy()\n",
    "        return V\n",
    "\n",
    "    def policy_improvement(self, V):\n",
    "        Q = np.zeros((self.n_state, self.n_action), dtype=np.float64)\n",
    "        for s in range(self.n_state):\n",
    "            for a in range(self.n_action):\n",
    "                next_state_prob = self.mrp_data.bigT[s, :, a]\n",
    "                reward = sum(-self.mrp_data.bigC[s, a, :] + 110)\n",
    "                Q[s][a] += reward + self.gamma * np.dot(V, next_state_prob)\n",
    "        new_pi = lambda s: {s: a for s, a in enumerate(np.argmax(Q, axis=1))}[s]\n",
    "        return new_pi\n",
    "\n",
    "    def run_policy_iteration(self):\n",
    "        init_actions = [0 for s in range(self.n_state)]\n",
    "        pi = lambda s: {s: 0 for s, a in enumerate(init_actions)}[s]\n",
    "        while True:\n",
    "            old_pi = {s: pi(s) for s in range(self.n_state)}\n",
    "            if not self.ggi:\n",
    "                Vs = self.policy_evaluation(pi)\n",
    "                pi = self.policy_improvement(Vs)\n",
    "            else:\n",
    "                # TODO: add GGF policy evaluation and improvement\n",
    "                Vs = self.policy_evaluation(pi)\n",
    "                pi = self.policy_improvement(Vs)\n",
    "            # convergence check\n",
    "            if old_pi == {s: pi(s) for s in range(self.n_state)}:\n",
    "                break\n",
    "        return Vs, pi\n",
    "\n",
    "\n",
    "# initialize the environment\n",
    "params = {\"n_group\": 3, \"n_state\": 3, \"n_action\": 2, \"ggi\": False}\n",
    "# initialize the agent\n",
    "policy_agent = PIAgent(params, gamma=0.99, theta=1e-10)\n",
    "# run policy iteration\n",
    "V, pi = policy_agent.run_policy_iteration()\n",
    "policy = {s: pi(s) for s in range(policy_agent.n_state)}\n",
    "\n",
    "# results for fixing the RL policy\n",
    "from solver.fix_policy import (\n",
    "    build_ggf_fix,\n",
    "    extract_results as extract_results_fix,\n",
    "    solve_ggf_fix,\n",
    ")\n",
    "\n",
    "model = build_ggf_fix(policy_agent.mrp_data, policy)\n",
    "# Solve the GGF model\n",
    "results, ggf_model = solve_ggf_fix(model=model)\n",
    "extract_results_fix(model=ggf_model, data=policy_agent.mrp_data, policy_rl=policy)"
   ]
  }
 ],
 "metadata": {
  "kernelspec": {
   "display_name": "Python 3 (ipykernel)",
   "language": "python",
   "name": "python3"
  },
  "language_info": {
   "codemirror_mode": {
    "name": "ipython",
    "version": 3
   },
   "file_extension": ".py",
   "mimetype": "text/x-python",
   "name": "python",
   "nbconvert_exporter": "python",
   "pygments_lexer": "ipython3",
   "version": "3.7.3"
  }
 },
 "nbformat": 4,
 "nbformat_minor": 5
}
