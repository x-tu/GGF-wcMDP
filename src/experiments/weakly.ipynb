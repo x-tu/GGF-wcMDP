{
 "cells": [
  {
   "cell_type": "code",
   "execution_count": 6,
   "id": "c9bea0cf-a61d-45a4-a512-dfbd7e9c28e3",
   "metadata": {},
   "outputs": [
    {
     "name": "stdout",
     "output_type": "stream",
     "text": [
      "/Users/xiaohui/Documents/Code/Fair-RL\n"
     ]
    }
   ],
   "source": [
    "# a temporary solution, run twice to set the current path as '../Fair-RL/src'\n",
    "%cd .."
   ]
  },
  {
   "cell_type": "code",
   "execution_count": 7,
   "id": "bd177df3-d816-4534-92c0-cdc22cc21db3",
   "metadata": {},
   "outputs": [
    {
     "name": "stdout",
     "output_type": "stream",
     "text": [
      "/Users/xiaohui/Documents/Code/Fair-RL/src\n"
     ]
    }
   ],
   "source": [
    "%cd src"
   ]
  },
  {
   "cell_type": "code",
   "execution_count": 8,
   "id": "4f199e56-8708-4139-9515-6cef0cf0d1fd",
   "metadata": {},
   "outputs": [
    {
     "name": "stdout",
     "output_type": "stream",
     "text": [
      "The autoreload extension is already loaded. To reload it, use:\n",
      "  %reload_ext autoreload\n"
     ]
    }
   ],
   "source": [
    "# used to auto-reload imported module after making modification inside .py files\n",
    "%load_ext autoreload\n",
    "%autoreload 2"
   ]
  },
  {
   "cell_type": "code",
   "execution_count": 11,
   "id": "c1db8c2a-34ae-4877-9b9a-bba9e3d7760d",
   "metadata": {},
   "outputs": [],
   "source": [
    "from experiments.configs.base import params\n",
    "from env.mrp_env_rccc import MachineReplacement\n",
    "\n",
    "# set up the environment\n",
    "env = MachineReplacement(\n",
    "    num_groups=params.num_groups,\n",
    "    num_states=params.num_states,\n",
    "    num_actions=params.num_actions,\n",
    "    num_steps=params.len_episode,\n",
    "    encoding_int=params.dqn.encoding_int,\n",
    ")"
   ]
  },
  {
   "cell_type": "code",
   "execution_count": 13,
   "id": "4aa0470c-87a2-4931-ae4e-cb013cf89475",
   "metadata": {},
   "outputs": [],
   "source": [
    "from utils.mrp import MRPData\n",
    "\n",
    "# set parameters\n",
    "params.num_actions = 2\n",
    "params.num_states = 3\n",
    "params.num_groups = 3\n",
    "\n",
    "mrp_data = MRPData(\n",
    "    num_groups=params.num_groups,\n",
    "    num_states=params.num_states,\n",
    "    num_actions=params.num_actions,\n",
    "    prob_remain=params.prob_remain,\n",
    "    weight_type=params.weight_type,\n",
    "    cost_types_operation=params.cost_type_operation,\n",
    "    cost_types_replace=params.cost_type_replace,\n",
    ")"
   ]
  },
  {
   "cell_type": "code",
   "execution_count": 19,
   "id": "5743bf76-5882-40b0-b123-c1c862d28e87",
   "metadata": {},
   "outputs": [
    {
     "name": "stdout",
     "output_type": "stream",
     "text": [
      "Set parameter Username\n",
      "Academic license - for non-commercial use only - expires 2024-11-21\n",
      "Solver solving time: 0.6601\n",
      "Number of solutions found: 1\n",
      "Proportion of stochastic policy: 13.79%\n",
      "Policy:                            Var X:              Costs - Group 1 | Group 2                            \n",
      "           0     1     2    3          0       1       2       3           0    1     2     3        0     1    2     3\n",
      "(0, 0, 0)  1     0     0    0     1.2698       0       0       0        0.00  1.0  0.00  0.00     0.00  0.00  1.0  0.00\n",
      "(0, 0, 1)  1     0     0    0     1.5268       0       0       0        0.00  1.0  0.00  0.00     0.00  0.00  1.0  0.00\n",
      "(0, 0, 2)  0     0     0    1          0       0       0  0.4869        0.00  1.0  0.00  0.00     0.00  0.00  1.0  0.00\n",
      "(0, 1, 0)  1     0     0    0     1.5525       0       0       0        0.00  1.0  0.00  0.00     0.17  0.17  1.0  0.17\n",
      "(0, 1, 1)  1     0     0    0     1.8509       0       0       0        0.00  1.0  0.00  0.00     0.17  0.17  1.0  0.17\n",
      "(0, 1, 2)  0     0     0    1          0       0       0  0.4344        0.00  1.0  0.00  0.00     0.17  0.17  1.0  0.17\n",
      "(0, 2, 0)  0     0     1    0          0       0  0.3388       0        0.00  1.0  0.00  0.00     0.67  0.67  1.0  0.67\n",
      "(0, 2, 1)  0     0     1    0          0       0  0.4774       0        0.00  1.0  0.00  0.00     0.67  0.67  1.0  0.67\n",
      "(0, 2, 2)  0     0     1    0          0       0  0.1597       0        0.00  1.0  0.00  0.00     0.67  0.67  1.0  0.67\n",
      "(1, 0, 0)  1     0     0    0     1.5372       0       0       0        0.17  1.0  0.17  0.17     0.00  0.00  1.0  0.00\n",
      "(1, 0, 1)  1     0     0    0     1.8573       0       0       0        0.17  1.0  0.17  0.17     0.00  0.00  1.0  0.00\n",
      "(1, 0, 2)  0     0     0    1          0       0       0   0.437        0.17  1.0  0.17  0.17     0.00  0.00  1.0  0.00\n",
      "(1, 1, 0)  1     0     0    0     1.8415       0       0       0        0.17  1.0  0.17  0.17     0.17  0.17  1.0  0.17\n",
      "(1, 1, 1)  1     0     0    0     2.2086       0       0       0        0.17  1.0  0.17  0.17     0.17  0.17  1.0  0.17\n",
      "(1, 1, 2)  0     0     0    1          0       0       0  0.4768        0.17  1.0  0.17  0.17     0.17  0.17  1.0  0.17\n",
      "(1, 2, 0)  0     0     1    0          0       0  0.4764       0        0.17  1.0  0.17  0.17     0.67  0.67  1.0  0.67\n",
      "(1, 2, 1)  0     0     1    0          0       0  0.5067       0        0.17  1.0  0.17  0.17     0.67  0.67  1.0  0.67\n",
      "(1, 2, 2)  0     0     0    1          0       0       0  0.1349        0.17  1.0  0.17  0.17     0.67  0.67  1.0  0.67\n",
      "(2, 0, 0)  0     1     0    0          0   0.439       0       0        0.67  1.0  0.67  0.67     0.00  0.00  1.0  0.00\n",
      "(2, 0, 1)  0     1     0    0          0   0.425       0       0        0.67  1.0  0.67  0.67     0.00  0.00  1.0  0.00\n",
      "(2, 0, 2)  0   0.8     0  0.2          0  0.0943       0   0.024        0.67  1.0  0.67  0.67     0.00  0.00  1.0  0.00\n",
      "(2, 1, 0)  0     1     0    0          0  0.4951       0       0        0.67  1.0  0.67  0.67     0.17  0.17  1.0  0.17\n",
      "(2, 1, 1)  0     1     0    0          0   0.492       0       0        0.67  1.0  0.67  0.67     0.17  0.17  1.0  0.17\n",
      "(2, 1, 2)  0     0     0    1          0       0       0  0.1245        0.67  1.0  0.67  0.67     0.17  0.17  1.0  0.17\n",
      "(2, 2, 0)  0     0     1    0          0       0  0.1469       0        0.67  1.0  0.67  0.67     0.67  0.67  1.0  0.67\n",
      "(2, 2, 1)  0     1     0    0          0  0.1317       0       0        0.67  1.0  0.67  0.67     0.67  0.67  1.0  0.67\n",
      "(2, 2, 2)  0  0.77  0.23    0          0  0.0414  0.0124       0        0.67  1.0  0.67  0.67     0.67  0.67  1.0  0.67\n",
      "    Var L Var N     Group Costs\n",
      "0  2.2303   0.0          3.9031\n",
      "1  1.1152   0.0          3.9031\n",
      "2  0.5576   0.0          3.9031\n",
      "Var X total: 19.9999\n",
      "GGF Value (DLP) L+N:  3.9031\n",
      "GGF Value (DLP) XC:   3.9031\n"
     ]
    }
   ],
   "source": [
    "from solver.ggf_dlp import build_dlp, extract_dlp, solve_dlp\n",
    "from utils.common import MDP4LP\n",
    "\n",
    "mdp = MDP4LP(\n",
    "    num_states=mrp_data.num_global_states,\n",
    "    num_actions=mrp_data.num_global_actions,\n",
    "    num_groups=mrp_data.num_groups,\n",
    "    transition=mrp_data.global_transitions,\n",
    "    costs=mrp_data.global_costs,\n",
    "    discount=params.gamma,\n",
    "    weights=mrp_data.weights,\n",
    "    minimize=True,\n",
    "    encoding_int=False,\n",
    "    base_num_states=params.num_states,\n",
    ")\n",
    "\n",
    "# calculate LP values\n",
    "model = build_dlp(mdp=mdp, initial_state = )\n",
    "# Solve the GGF model\n",
    "_, model, _ = solve_dlp(model=model)\n",
    "results = extract_dlp(model=model, print_results=True)"
   ]
  },
  {
   "cell_type": "code",
   "execution_count": 14,
   "id": "6584d35b-1e03-4197-91db-cd855b9e1ad0",
   "metadata": {},
   "outputs": [
    {
     "data": {
      "text/plain": [
       "<utils.mrp.MRPData at 0x12788f130>"
      ]
     },
     "execution_count": 14,
     "metadata": {},
     "output_type": "execute_result"
    }
   ],
   "source": [
    "mrp_data"
   ]
  }
 ],
 "metadata": {
  "kernelspec": {
   "display_name": "Python 3 (ipykernel)",
   "language": "python",
   "name": "python3"
  },
  "language_info": {
   "codemirror_mode": {
    "name": "ipython",
    "version": 3
   },
   "file_extension": ".py",
   "mimetype": "text/x-python",
   "name": "python",
   "nbconvert_exporter": "python",
   "pygments_lexer": "ipython3",
   "version": "3.9.6"
  }
 },
 "nbformat": 4,
 "nbformat_minor": 5
}
