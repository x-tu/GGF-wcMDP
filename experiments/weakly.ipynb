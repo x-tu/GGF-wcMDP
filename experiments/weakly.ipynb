{
 "cells": [
  {
   "cell_type": "markdown",
   "id": "8c600259-d2d9-4bb4-bcf3-daf4342b1a3a",
   "metadata": {},
   "source": [
    "# 1. Setup"
   ]
  },
  {
   "cell_type": "code",
   "execution_count": 2,
   "id": "c9bea0cf-a61d-45a4-a512-dfbd7e9c28e3",
   "metadata": {},
   "outputs": [
    {
     "name": "stdout",
     "output_type": "stream",
     "text": [
      "/Users/xiaohui/Documents/Code/Fair-RL\n"
     ]
    }
   ],
   "source": [
    "# a temporary solution, run twice to set the current path as '../Fair-RL/src'\n",
    "%cd .."
   ]
  },
  {
   "cell_type": "code",
   "execution_count": 3,
   "id": "bd177df3-d816-4534-92c0-cdc22cc21db3",
   "metadata": {},
   "outputs": [
    {
     "name": "stdout",
     "output_type": "stream",
     "text": [
      "/Users/xiaohui/Documents/Code/Fair-RL/src\n"
     ]
    }
   ],
   "source": [
    "%cd src"
   ]
  },
  {
   "cell_type": "code",
   "execution_count": 4,
   "id": "4f199e56-8708-4139-9515-6cef0cf0d1fd",
   "metadata": {},
   "outputs": [],
   "source": [
    "# used to auto-reload imported module after making modification inside .py files\n",
    "%load_ext autoreload\n",
    "%autoreload 2"
   ]
  },
  {
   "cell_type": "markdown",
   "id": "00d5d076-b1ea-4c2d-a076-29e10f9f4dc5",
   "metadata": {},
   "source": [
    "## 1.1 imports"
   ]
  },
  {
   "cell_type": "code",
   "execution_count": 5,
   "id": "c1db8c2a-34ae-4877-9b9a-bba9e3d7760d",
   "metadata": {},
   "outputs": [],
   "source": [
    "from experiments.configs.base import params\n",
    "from env.mrp_env_rccc import MachineReplacement\n",
    "from solver.ggf_dlp import build_dlp, extract_dlp, solve_dlp\n",
    "from utils.common import MDP4LP\n",
    "from utils.mrp import MRPData\n",
    "from utils.policy import calculate_state_value\n",
    "import pandas as pd\n",
    "import numpy as np\n",
    "from utils.encoding import state_vector_to_int_index, state_int_index_to_vector\n",
    "import matplotlib.pyplot as plt\n",
    "import seaborn as sns"
   ]
  },
  {
   "cell_type": "markdown",
   "id": "d5531d5b-f679-4938-8c15-d819fc3404b8",
   "metadata": {},
   "source": [
    "## 1.2 check parameters"
   ]
  },
  {
   "cell_type": "code",
   "execution_count": 9,
   "id": "6cbdf3a6-cff8-440e-9528-3788d61bcef9",
   "metadata": {},
   "outputs": [],
   "source": [
    "params.weight_type = 'exponential2'"
   ]
  },
  {
   "cell_type": "code",
   "execution_count": 10,
   "id": "4aa0470c-87a2-4931-ae4e-cb013cf89475",
   "metadata": {},
   "outputs": [],
   "source": [
    "# set parameters\n",
    "params.num_actions = 2\n",
    "params.num_states = 3\n",
    "params.num_groups = 3\n",
    "\n",
    "mrp_data = MRPData(\n",
    "    num_groups=params.num_groups,\n",
    "    num_states=params.num_states,\n",
    "    num_actions=params.num_actions,\n",
    "    prob_remain=params.prob_remain,\n",
    "    weight_type=params.weight_type,\n",
    "    cost_types_operation=params.cost_type_operation,\n",
    "    cost_types_replace=params.cost_type_replace,\n",
    ")\n",
    "\n",
    "mdp = MDP4LP(\n",
    "    num_states=mrp_data.num_global_states,\n",
    "    num_actions=mrp_data.num_global_actions,\n",
    "    num_groups=mrp_data.num_groups,\n",
    "    transition=mrp_data.global_transitions,\n",
    "    costs=mrp_data.global_costs,\n",
    "    discount=params.gamma,\n",
    "    weights=mrp_data.weights,\n",
    "    minimize=True,\n",
    "    encoding_int=False,\n",
    "    base_num_states=params.num_states,\n",
    ")"
   ]
  },
  {
   "cell_type": "code",
   "execution_count": 11,
   "id": "2d8d42ba-2dc8-4a6e-929f-e14012573db6",
   "metadata": {},
   "outputs": [
    {
     "data": {
      "text/plain": [
       "{'num_actions': 2,\n",
       " 'num_states': 3,\n",
       " 'num_groups': 3,\n",
       " 'ggi': True,\n",
       " 'rccc_wrt_max': 0.5,\n",
       " 'mat_type': 1,\n",
       " 'weight_type': 'exponential2',\n",
       " 'cost_type_operation': 'quadratic',\n",
       " 'cost_type_replace': 'rccc',\n",
       " 'prob_remain': 0.8,\n",
       " 'num_opt_solutions': 1,\n",
       " 'num_episodes': 1000,\n",
       " 'len_episode': 100,\n",
       " 'num_samples': 10,\n",
       " 'gamma': 0.95,\n",
       " 'seed': 0,\n",
       " 'prob1_state_idx': None,\n",
       " 'deterministic_policy': False,\n",
       " 'ql': {'alpha': 0.3,\n",
       "  'epsilon': 0.7,\n",
       "  'decaying_factor': 0.95,\n",
       "  'deterministic': False},\n",
       " 'dqn': {'h_size': 64,\n",
       "  'alpha': 0.0001,\n",
       "  'epsilon': 0.6,\n",
       "  'decaying_factor': 0.95,\n",
       "  'deterministic': False,\n",
       "  'encoding_int': False}}"
      ]
     },
     "execution_count": 11,
     "metadata": {},
     "output_type": "execute_result"
    }
   ],
   "source": [
    "params"
   ]
  },
  {
   "cell_type": "markdown",
   "id": "3ba2bfef-3cb6-4690-84e5-3157b694e87c",
   "metadata": {},
   "source": [
    "### 1.2.1 Non-GGF Data"
   ]
  },
  {
   "cell_type": "code",
   "execution_count": 12,
   "id": "38095ca8-e69b-4b09-ba53-96d79bcc11fa",
   "metadata": {},
   "outputs": [],
   "source": [
    "mrp_datanoGGF = MRPData(\n",
    "    num_groups=params.num_groups,\n",
    "    num_states=params.num_states,\n",
    "    num_actions=params.num_actions,\n",
    "    prob_remain=params.prob_remain,\n",
    "    weight_type=\"uniform\",\n",
    "    cost_types_operation=params.cost_type_operation,\n",
    "    cost_types_replace=params.cost_type_replace,\n",
    ")\n",
    "\n",
    "mdpnoGGF = MDP4LP(\n",
    "    num_states=mrp_data.num_global_states,\n",
    "    num_actions=mrp_data.num_global_actions,\n",
    "    num_groups=mrp_data.num_groups,\n",
    "    transition=mrp_data.global_transitions,\n",
    "    costs=mrp_data.global_costs,\n",
    "    discount=params.gamma,\n",
    "    weights=mrp_data.weights,\n",
    "    minimize=True,\n",
    "    encoding_int=False,\n",
    "    base_num_states=params.num_states,\n",
    ")"
   ]
  },
  {
   "cell_type": "markdown",
   "id": "d2602974-6cef-47a6-9c59-5ff8e4dd2791",
   "metadata": {},
   "source": [
    "## 1.3 Notations"
   ]
  },
  {
   "cell_type": "code",
   "execution_count": 13,
   "id": "8145ff54-8cd9-4002-b0e2-d3a901177e28",
   "metadata": {},
   "outputs": [],
   "source": [
    "uniform_dist = [1 / mrp_data.num_global_states for i in range(mrp_data.num_global_states)]"
   ]
  },
  {
   "cell_type": "code",
   "execution_count": 626,
   "id": "d36fd3de-773e-4af5-ab8e-c6f79c8d1a0f",
   "metadata": {},
   "outputs": [
    {
     "data": {
      "text/plain": [
       "'[0.     0.     0.     0.     0.     0.1667 0.     0.1667 0.     0.\\n 0.     0.1667 0.     0.     0.     0.1667 0.     0.     0.     0.1667\\n 0.     0.1667 0.     0.     0.     0.     0.    ]'"
      ]
     },
     "execution_count": 626,
     "metadata": {},
     "output_type": "execute_result"
    }
   ],
   "source": [
    "str(np.array(uniform_perm_state).round(4))"
   ]
  },
  {
   "cell_type": "code",
   "execution_count": null,
   "id": "d038ad5e-8618-444f-b3d3-43db9461da60",
   "metadata": {},
   "outputs": [],
   "source": [
    "uniform_perm_state"
   ]
  },
  {
   "cell_type": "markdown",
   "id": "10230af7-132b-4ab0-bb4c-2c6e6e72c380",
   "metadata": {},
   "source": [
    "# 2. Important Funtions"
   ]
  },
  {
   "cell_type": "markdown",
   "id": "c5654d64-a11d-46aa-8361-203889895d42",
   "metadata": {},
   "source": [
    "## 2.1 Solve LP and Calculate V"
   ]
  },
  {
   "cell_type": "code",
   "execution_count": 15,
   "id": "5743bf76-5882-40b0-b123-c1c862d28e87",
   "metadata": {},
   "outputs": [],
   "source": [
    "def solve_lp_and_calculate_v(initial_mu = None, print_results=False):\n",
    "    # calculate LP values\n",
    "    model = build_dlp(mdp=mdp, initial_mu=initial_mu)\n",
    "    # Solve the GGF model\n",
    "    _, model, _ = solve_dlp(model=model)\n",
    "    results = extract_dlp(model=model, print_results=print_results)\n",
    "\n",
    "    initial_state_prob = model.init_distribution\n",
    "    policy = results.policy\n",
    "\n",
    "    # calculate the state value\n",
    "    state_value_list = calculate_state_value(\n",
    "        discount=params.gamma,\n",
    "        initial_state_prob=initial_state_prob,\n",
    "        policy=policy.to_numpy(),\n",
    "        reward_or_cost=mrp_data.global_costs,\n",
    "        transition_prob=mrp_data.global_transitions,\n",
    "        time_horizon=params.num_episodes,\n",
    "    )\n",
    "    \n",
    "    GGF_value_list = []\n",
    "    for t in range(params.len_episode):\n",
    "        GGF_value_list.append(np.dot(mrp_data.weights, sorted(state_value_list[t])))\n",
    "    return state_value_list, GGF_value_list, results"
   ]
  },
  {
   "cell_type": "code",
   "execution_count": 125,
   "id": "51aeec97-1822-49e4-abf4-57ceb333b844",
   "metadata": {},
   "outputs": [],
   "source": [
    "def solve_no_ggf_lp_and_calculate_v(prob1_state_idx):\n",
    "    \n",
    "    # calculate LP values\n",
    "    model = build_dlp(mdp=mdpnoGGF, prob1_state_idx = prob1_state_idx)\n",
    "    # Solve the GGF model\n",
    "    _, model, _ = solve_dlp(model=model)\n",
    "    results = extract_dlp(model=model, print_results=True)\n",
    "\n",
    "    initial_state_prob = model.init_distribution\n",
    "    policy = results.policy\n",
    "\n",
    "    # calculate the state value\n",
    "    state_value_list = calculate_state_value(\n",
    "        discount=params.gamma,\n",
    "        initial_state_prob=initial_state_prob,\n",
    "        policy=policy.to_numpy(),\n",
    "        reward_or_cost=mrp_data.global_costs,\n",
    "        transition_prob=mrp_data.global_transitions,\n",
    "        time_horizon=params.num_episodes,\n",
    "    )\n",
    "    return state_value_list, results"
   ]
  },
  {
   "cell_type": "markdown",
   "id": "8af31cc1-19de-4092-b266-a5339f78ebc1",
   "metadata": {},
   "source": [
    "## 2.2 Construct the bar policy for any policy"
   ]
  },
  {
   "cell_type": "code",
   "execution_count": 637,
   "id": "c6449628-99c0-400c-8f49-4d07ab4995c2",
   "metadata": {},
   "outputs": [],
   "source": [
    "def construct_bar_policy(policy=None):\n",
    "    if not policy:\n",
    "        random_policy = np.random.random((mrp_data.num_global_states,mrp_data.num_global_actions))\n",
    "        # normalize the policy\n",
    "        random_policy = random_policy / random_policy.sum(axis=1)[:,None]\n",
    "        random_policy = pd.DataFrame(random_policy, index=results.policy.index, columns = ['(0, 0, 0)', '(1, 0, 0)', '(0, 1, 0)', '(0, 0, 1)'])\n",
    "        # random_policy\n",
    "    else:\n",
    "        random_policy = policy\n",
    "    \n",
    "    # construct the policy\n",
    "    perm_policy_list = np.zeros((len(perm_state_list), mrp_data.num_global_states, mrp_data.num_global_actions))\n",
    "    \n",
    "    for idx in range(len(all_permutation_matrix)):\n",
    "        # get the action permutation matrix\n",
    "        perm_action = np.zeros((params.num_groups+1, params.num_groups+1))\n",
    "        perm_action[0, 0] = 1\n",
    "        perm_action[1:, 1:] = all_permutation_matrix[idx]\n",
    "        temp_policy = np.zeros((mrp_data.num_global_states, mrp_data.num_global_actions))\n",
    "        for s_idx in range(mrp_data.num_global_states):\n",
    "            # get the permutated state index\n",
    "            s_vector = state_int_index_to_vector(state_int_index=s_idx, num_groups=params.num_groups, num_states=params.num_states)\n",
    "            perm_s_vector = np.matmul(s_vector, all_permutation_matrix[idx])\n",
    "            perm_s_idx = state_vector_to_int_index(state_vector=perm_s_vector, num_states=params.num_states)\n",
    "            temp_policy[perm_s_idx, :] = np.matmul(random_policy.iloc[s_idx], perm_action)\n",
    "        perm_policy_list[idx, :, :] = temp_policy\n",
    "    bar_policy = np.mean(perm_policy_list, axis=0)\n",
    "    bar_policy_pd = pd.DataFrame(bar_policy, index= results.policy.index)\n",
    "\n",
    "    # calculate the state value\n",
    "    uniform_dist = [1 / mrp_data.num_global_states for i in range(mrp_data.num_global_states)]\n",
    "    assert sum(uniform_dist) -1 <1e-6\n",
    "    state_value_bar = calculate_state_value(\n",
    "        discount=params.gamma,\n",
    "        initial_state_prob=uniform_perm_state,\n",
    "        policy=bar_policy,\n",
    "        reward_or_cost=mrp_data.global_costs,\n",
    "        transition_prob=mrp_data.global_transitions,\n",
    "        time_horizon=params.num_episodes,\n",
    "    )\n",
    "    # calculate the state value\n",
    "    state_value_random = calculate_state_value(\n",
    "        discount=params.gamma,\n",
    "        initial_state_prob=uniform_perm_state,\n",
    "        policy=random_policy.to_numpy(),\n",
    "        reward_or_cost=mrp_data.global_costs,\n",
    "        transition_prob=mrp_data.global_transitions,\n",
    "        time_horizon=params.num_episodes,\n",
    "    )\n",
    "    return bar_policy_pd, random_policy, state_value_bar, state_value_random"
   ]
  },
  {
   "cell_type": "markdown",
   "id": "2730c14b-83fe-4f65-942f-e2f35e9a89a7",
   "metadata": {},
   "source": [
    "# 3. Construct Bar policy"
   ]
  },
  {
   "cell_type": "code",
   "execution_count": 25,
   "id": "0ed93f14-4958-4cb9-8325-d8b2853f4d57",
   "metadata": {},
   "outputs": [],
   "source": [
    "from utils.permutation import generate_permutation_matrix_group\n",
    "all_permutation_matrix = generate_permutation_matrix_group(params.num_groups)\n",
    "inverse_permutation_matrix = [np.linalg.inv(permM) for permM in all_permutation_matrix]"
   ]
  },
  {
   "cell_type": "markdown",
   "id": "8e1975fc-cf07-47e7-a171-446b23e6fafb",
   "metadata": {},
   "source": [
    "## 3.1 Starts uniformly\n",
    "\n",
    "Given state [0, 1, 2], this means we start uniformly from all of its state permutation groups:\n",
    "\n",
    "[0, 1, 2]; [0, 2, 1]; [1, 0, 2]; [1, 2, 0]; [2, 1, 0]; [2, 0, 1]\n"
   ]
  },
  {
   "cell_type": "code",
   "execution_count": 23,
   "id": "93baf343-575a-4608-b7ec-60771bee7f31",
   "metadata": {},
   "outputs": [],
   "source": [
    "state = np.array([0, 1, 2])\n",
    "params.num_groups = 3\n",
    "params.len_episode = 300"
   ]
  },
  {
   "cell_type": "code",
   "execution_count": 26,
   "id": "c9b32eea-0de8-498c-9c78-abb6e966ae42",
   "metadata": {},
   "outputs": [
    {
     "data": {
      "text/plain": [
       "([array([0, 1, 2]),\n",
       "  array([0, 2, 1]),\n",
       "  array([1, 0, 2]),\n",
       "  array([2, 0, 1]),\n",
       "  array([1, 2, 0]),\n",
       "  array([2, 1, 0])],\n",
       " '[0, 0, 0, 0, 0, 0.16666666666666666, 0, 0.16666666666666666, 0, 0, 0, 0.16666666666666666, 0, 0, 0, 0.16666666666666666, 0, 0, 0, 0.16666666666666666, 0, 0.16666666666666666, 0, 0, 0, 0, 0]')"
      ]
     },
     "execution_count": 26,
     "metadata": {},
     "output_type": "execute_result"
    }
   ],
   "source": [
    "## uniformly start\n",
    "perm_state_list = [np.matmul(state, p_matrix) for p_matrix in all_permutation_matrix]\n",
    "perm_state_idx_list = [state_vector_to_int_index(perm_state, params.num_states) for perm_state in perm_state_list]\n",
    "# calculate initial state probability\n",
    "uniform_perm_state = [0] * mrp_data.num_global_states\n",
    "for idx in perm_state_idx_list:\n",
    "    uniform_perm_state[idx] += 1/len(perm_state_idx_list)\n",
    "assert sum(uniform_perm_state) - 1 < 1e-1\n",
    "perm_state_list, str(uniform_perm_state)"
   ]
  },
  {
   "cell_type": "code",
   "execution_count": 277,
   "id": "c68abcf3-b0fe-4854-b378-00b52d4d972b",
   "metadata": {},
   "outputs": [
    {
     "name": "stdout",
     "output_type": "stream",
     "text": [
      "Initial distribution:  [0, 0, 0, 0, 0, 0.16666666666666666, 0, 0.16666666666666666, 0, 0, 0, 0.16666666666666666, 0, 0, 0, 0.16666666666666666, 0, 0, 0, 0.16666666666666666, 0, 0.16666666666666666, 0, 0, 0, 0, 0]\n",
      "Solver solving time: 0.0863\n",
      "Number of solutions found: 1\n",
      "Proportion of stochastic policy: 13.79%\n",
      "Policy:                            Var X:              Costs - Group 1 | Group 2                            \n",
      "           0     1     2     3          0       1       2       3           0    1     2     3   \n",
      "(0, 0, 0)  1     0     0     0     1.0968       0       0       0        0.00  1.0  0.00  0.00   \n",
      "(0, 0, 1)  1     0     0     0     1.5997       0       0       0        0.00  1.0  0.00  0.00   \n",
      "(0, 0, 2)  0     0     0     1          0       0       0  0.4319        0.00  1.0  0.00  0.00   \n",
      "(0, 1, 0)  1     0     0     0     1.6072       0       0       0        0.00  1.0  0.00  0.00   \n",
      "(0, 1, 1)  1     0     0     0     1.8498       0       0       0        0.00  1.0  0.00  0.00   \n",
      "(0, 1, 2)  0     0     0     1          0       0       0  0.5554        0.00  1.0  0.00  0.00   \n",
      "(0, 2, 0)  0     0     1     0          0       0  0.3907       0        0.00  1.0  0.00  0.00   \n",
      "(0, 2, 1)  0     0     1     0          0       0  0.5435       0        0.00  1.0  0.00  0.00   \n",
      "(0, 2, 2)  0     0     1     0          0       0  0.0747       0        0.00  1.0  0.00  0.00   \n",
      "(1, 0, 0)  1     0     0     0     1.6163       0       0       0        0.17  1.0  0.17  0.17   \n",
      "(1, 0, 1)  1     0     0     0     1.8449       0       0       0        0.17  1.0  0.17  0.17   \n",
      "(1, 0, 2)  0     0     0     1          0       0       0   0.552        0.17  1.0  0.17  0.17   \n",
      "(1, 1, 0)  1     0     0     0     1.8398       0       0       0        0.17  1.0  0.17  0.17   \n",
      "(1, 1, 1)  1     0     0     0     2.1404       0       0       0        0.17  1.0  0.17  0.17   \n",
      "(1, 1, 2)  0     0     0     1          0       0       0  0.4268        0.17  1.0  0.17  0.17   \n",
      "(1, 2, 0)  0     0     1     0          0       0  0.5909       0        0.17  1.0  0.17  0.17   \n",
      "(1, 2, 1)  0     0     1     0          0       0  0.4361       0        0.17  1.0  0.17  0.17   \n",
      "(1, 2, 2)  0     0     0     1          0       0       0  0.0837        0.17  1.0  0.17  0.17   \n",
      "(2, 0, 0)  0     1     0     0          0  0.3355       0       0        0.67  1.0  0.67  0.67   \n",
      "(2, 0, 1)  0     1     0     0          0  0.5819       0       0        0.67  1.0  0.67  0.67   \n",
      "(2, 0, 2)  0     1     0     0          0  0.0907       0       0        0.67  1.0  0.67  0.67   \n",
      "(2, 1, 0)  0     1     0     0          0  0.5779       0       0        0.67  1.0  0.67  0.67   \n",
      "(2, 1, 1)  0     1     0     0          0  0.4459       0       0        0.67  1.0  0.67  0.67   \n",
      "(2, 1, 2)  0  0.03     0  0.97          0  0.0026       0  0.0852        0.67  1.0  0.67  0.67   \n",
      "(2, 2, 0)  0     1     0     0          0  0.0946       0       0        0.67  1.0  0.67  0.67   \n",
      "(2, 2, 1)  0     0     1     0          0       0  0.0887       0        0.67  1.0  0.67  0.67   \n",
      "(2, 2, 2)  0  0.36  0.64     0          0  0.0059  0.0104       0        0.67  1.0  0.67  0.67   \n",
      "    Var L Var N     Group Costs\n",
      "0  2.1979   0.0          3.8463\n",
      "1   1.099   0.0          3.8463\n",
      "2  0.5495   0.0          3.8463\n",
      "Var X total: 19.9999\n",
      "GGF Value (DLP) L+N:  3.8464\n",
      "GGF Value (DLP) XC:   3.8463\n"
     ]
    }
   ],
   "source": [
    "state_value_uniform, _, results_uniform = solve_lp_and_calculate_v(initial_mu = uniform_perm_state, print_results=True)"
   ]
  },
  {
   "cell_type": "markdown",
   "id": "ecbb50e6-1663-4a64-9d8e-f1ddb6c40d75",
   "metadata": {},
   "source": [
    "## 3.2 Starts uniquely"
   ]
  },
  {
   "cell_type": "code",
   "execution_count": 475,
   "id": "86e70f21-d023-46f0-923c-a925825c8302",
   "metadata": {},
   "outputs": [
    {
     "name": "stdout",
     "output_type": "stream",
     "text": [
      "[0, 0, 0, 0, 0, 1, 0, 0, 0, 0, 0, 0, 0, 0, 0, 0, 0, 0, 0, 0, 0, 0, 0, 0, 0, 0, 0]\n",
      "[0, 0, 0, 0, 0, 0, 0, 1, 0, 0, 0, 0, 0, 0, 0, 0, 0, 0, 0, 0, 0, 0, 0, 0, 0, 0, 0]\n",
      "[0, 0, 0, 0, 0, 0, 0, 0, 0, 0, 0, 1, 0, 0, 0, 0, 0, 0, 0, 0, 0, 0, 0, 0, 0, 0, 0]\n",
      "[0, 0, 0, 0, 0, 0, 0, 0, 0, 0, 0, 0, 0, 0, 0, 0, 0, 0, 0, 1, 0, 0, 0, 0, 0, 0, 0]\n",
      "[0, 0, 0, 0, 0, 0, 0, 0, 0, 0, 0, 0, 0, 0, 0, 1, 0, 0, 0, 0, 0, 0, 0, 0, 0, 0, 0]\n",
      "[0, 0, 0, 0, 0, 0, 0, 0, 0, 0, 0, 0, 0, 0, 0, 0, 0, 0, 0, 0, 0, 1, 0, 0, 0, 0, 0]\n"
     ]
    }
   ],
   "source": [
    "# start uniquely\n",
    "unique_state_prob_list = []\n",
    "for idx in perm_state_idx_list:\n",
    "    initial_state_prob = [0] * mrp_data.num_global_states\n",
    "    initial_state_prob[idx] = 1\n",
    "    unique_state_prob_list.append(initial_state_prob)\n",
    "    print(str(initial_state_prob))"
   ]
  },
  {
   "cell_type": "code",
   "execution_count": 526,
   "id": "1d2cd0db-990d-4e89-a878-09d7b8409735",
   "metadata": {},
   "outputs": [
    {
     "name": "stdout",
     "output_type": "stream",
     "text": [
      "Initial distribution:  [0, 0, 0, 0, 0, 1, 0, 0, 0, 0, 0, 0, 0, 0, 0, 0, 0, 0, 0, 0, 0, 0, 0, 0, 0, 0, 0]\n",
      "Solver solving time: 0.1007\n",
      "Number of solutions found: 1\n",
      "Initial distribution:  [0, 0, 0, 0, 0, 0, 0, 1, 0, 0, 0, 0, 0, 0, 0, 0, 0, 0, 0, 0, 0, 0, 0, 0, 0, 0, 0]\n",
      "Solver solving time: 0.0969\n",
      "Number of solutions found: 1\n",
      "Initial distribution:  [0, 0, 0, 0, 0, 0, 0, 0, 0, 0, 0, 1, 0, 0, 0, 0, 0, 0, 0, 0, 0, 0, 0, 0, 0, 0, 0]\n",
      "Solver solving time: 0.0966\n",
      "Number of solutions found: 1\n",
      "Initial distribution:  [0, 0, 0, 0, 0, 0, 0, 0, 0, 0, 0, 0, 0, 0, 0, 0, 0, 0, 0, 1, 0, 0, 0, 0, 0, 0, 0]\n",
      "Solver solving time: 0.0955\n",
      "Number of solutions found: 1\n",
      "Initial distribution:  [0, 0, 0, 0, 0, 0, 0, 0, 0, 0, 0, 0, 0, 0, 0, 1, 0, 0, 0, 0, 0, 0, 0, 0, 0, 0, 0]\n",
      "Solver solving time: 0.0984\n",
      "Number of solutions found: 1\n",
      "Initial distribution:  [0, 0, 0, 0, 0, 0, 0, 0, 0, 0, 0, 0, 0, 0, 0, 0, 0, 0, 0, 0, 0, 1, 0, 0, 0, 0, 0]\n",
      "Solver solving time: 0.0951\n",
      "Number of solutions found: 1\n"
     ]
    }
   ],
   "source": [
    "policy = []\n",
    "policy_np = np.zeros((len(perm_state_list), mrp_data.num_global_states, mrp_data.num_global_actions))\n",
    "idx = 0\n",
    "for initial_mu in unique_state_prob_list:\n",
    "    # calculate LP values\n",
    "    model = build_dlp(mdp=mdp, initial_mu=initial_mu)\n",
    "    # Solve the GGF model\n",
    "    _, model, _ = solve_dlp(model=model)\n",
    "    results = extract_dlp(model=model, print_results=False)\n",
    "    # get the policy\n",
    "    policy.append(results.policy.to_numpy())\n",
    "    policy_np[idx, :, :] = results.policy.to_numpy()\n",
    "    idx += 1"
   ]
  },
  {
   "cell_type": "code",
   "execution_count": 529,
   "id": "88711c52-0d1b-4314-8471-5e3a4137f3e6",
   "metadata": {},
   "outputs": [
    {
     "name": "stdout",
     "output_type": "stream",
     "text": [
      "             0         1         2         3\n",
      "(0, 0, 0)  1.0  0.000000  0.000000  0.000000\n",
      "(0, 0, 1)  1.0  0.000000  0.000000  0.000000\n",
      "(0, 0, 2)  0.0  0.000000  0.000000  1.000000\n",
      "(0, 1, 0)  1.0  0.000000  0.000000  0.000000\n",
      "(0, 1, 1)  1.0  0.000000  0.000000  0.000000\n",
      "(0, 1, 2)  0.0  0.000000  0.000000  1.000000\n",
      "(0, 2, 0)  0.0  0.000000  1.000000  0.000000\n",
      "(0, 2, 1)  0.0  0.000000  1.000000  0.000000\n",
      "(0, 2, 2)  0.0  0.000000  0.500000  0.500000\n",
      "(1, 0, 0)  1.0  0.000000  0.000000  0.000000\n",
      "(1, 0, 1)  1.0  0.000000  0.000000  0.000000\n",
      "(1, 0, 2)  0.0  0.000000  0.000000  1.000000\n",
      "(1, 1, 0)  1.0  0.000000  0.000000  0.000000\n",
      "(1, 1, 1)  1.0  0.000000  0.000000  0.000000\n",
      "(1, 1, 2)  0.0  0.000000  0.000000  1.000000\n",
      "(1, 2, 0)  0.0  0.000000  1.000000  0.000000\n",
      "(1, 2, 1)  0.0  0.000000  1.000000  0.000000\n",
      "(1, 2, 2)  0.0  0.000000  0.500000  0.500000\n",
      "(2, 0, 0)  0.0  1.000000  0.000000  0.000000\n",
      "(2, 0, 1)  0.0  1.000000  0.000000  0.000000\n",
      "(2, 0, 2)  0.0  0.500000  0.000000  0.500000\n",
      "(2, 1, 0)  0.0  1.000000  0.000000  0.000000\n",
      "(2, 1, 1)  0.0  1.000000  0.000000  0.000000\n",
      "(2, 1, 2)  0.0  0.500000  0.000000  0.500000\n",
      "(2, 2, 0)  0.0  0.500000  0.500000  0.000000\n",
      "(2, 2, 1)  0.0  0.500000  0.500000  0.000000\n",
      "(2, 2, 2)  0.0  0.333333  0.333333  0.333333\n"
     ]
    }
   ],
   "source": [
    "# construct the bar policy\n",
    "bar_policy012 = pd.DataFrame(np.mean(policy_np, axis=0), index = results.policy.index)\n",
    "print(bar_policy012)"
   ]
  },
  {
   "cell_type": "code",
   "execution_count": 531,
   "id": "5f3de875-64b0-4c94-ba4d-9102ec62ac93",
   "metadata": {},
   "outputs": [
    {
     "data": {
      "text/plain": [
       "array([3.84633021, 3.84633021, 3.84633021])"
      ]
     },
     "execution_count": 531,
     "metadata": {},
     "output_type": "execute_result"
    }
   ],
   "source": [
    "# calculate the state value\n",
    "state_value_list = calculate_state_value(\n",
    "    discount=params.gamma,\n",
    "    initial_state_prob=uniform_perm_state,\n",
    "    policy=bar_policy012.to_numpy(),\n",
    "    reward_or_cost=mrp_data.global_costs,\n",
    "    transition_prob=mrp_data.global_transitions,\n",
    "    time_horizon=params.num_episodes,\n",
    ")\n",
    "state_value_list[-1]"
   ]
  },
  {
   "cell_type": "code",
   "execution_count": 187,
   "id": "13d09536-4752-4f48-a459-eb00e85893d1",
   "metadata": {},
   "outputs": [
    {
     "name": "stdout",
     "output_type": "stream",
     "text": [
      "Initial distribution:  [0, 0, 0, 0, 0, 0.16666666666666666, 0, 0.16666666666666666, 0, 0, 0, 0.16666666666666666, 0, 0, 0, 0.16666666666666666, 0, 0, 0, 0.16666666666666666, 0, 0.16666666666666666, 0, 0, 0, 0, 0]\n",
      "Solver solving time: 0.0637\n",
      "Number of solutions found: 1\n",
      "Proportion of stochastic policy: 13.79%\n",
      "Policy:                            Var X:              Costs - Group 1 | Group 2                            \n",
      "           0     1     2     3          0       1       2       3           0    1     2     3        0     1    2     3\n",
      "(0, 0, 0)  1     0     0     0     1.0968       0       0       0        0.00  1.0  0.00  0.00     0.00  0.00  1.0  0.00\n",
      "(0, 0, 1)  1     0     0     0     1.5997       0       0       0        0.00  1.0  0.00  0.00     0.00  0.00  1.0  0.00\n",
      "(0, 0, 2)  0     0     0     1          0       0       0  0.4319        0.00  1.0  0.00  0.00     0.00  0.00  1.0  0.00\n",
      "(0, 1, 0)  1     0     0     0     1.6072       0       0       0        0.00  1.0  0.00  0.00     0.17  0.17  1.0  0.17\n",
      "(0, 1, 1)  1     0     0     0     1.8498       0       0       0        0.00  1.0  0.00  0.00     0.17  0.17  1.0  0.17\n",
      "(0, 1, 2)  0     0     0     1          0       0       0  0.5554        0.00  1.0  0.00  0.00     0.17  0.17  1.0  0.17\n",
      "(0, 2, 0)  0     0     1     0          0       0  0.3907       0        0.00  1.0  0.00  0.00     0.67  0.67  1.0  0.67\n",
      "(0, 2, 1)  0     0     1     0          0       0  0.5435       0        0.00  1.0  0.00  0.00     0.67  0.67  1.0  0.67\n",
      "(0, 2, 2)  0     0     1     0          0       0  0.0747       0        0.00  1.0  0.00  0.00     0.67  0.67  1.0  0.67\n",
      "(1, 0, 0)  1     0     0     0     1.6163       0       0       0        0.17  1.0  0.17  0.17     0.00  0.00  1.0  0.00\n",
      "(1, 0, 1)  1     0     0     0     1.8449       0       0       0        0.17  1.0  0.17  0.17     0.00  0.00  1.0  0.00\n",
      "(1, 0, 2)  0     0     0     1          0       0       0   0.552        0.17  1.0  0.17  0.17     0.00  0.00  1.0  0.00\n",
      "(1, 1, 0)  1     0     0     0     1.8398       0       0       0        0.17  1.0  0.17  0.17     0.17  0.17  1.0  0.17\n",
      "(1, 1, 1)  1     0     0     0     2.1404       0       0       0        0.17  1.0  0.17  0.17     0.17  0.17  1.0  0.17\n",
      "(1, 1, 2)  0     0     0     1          0       0       0  0.4268        0.17  1.0  0.17  0.17     0.17  0.17  1.0  0.17\n",
      "(1, 2, 0)  0     0     1     0          0       0  0.5909       0        0.17  1.0  0.17  0.17     0.67  0.67  1.0  0.67\n",
      "(1, 2, 1)  0     0     1     0          0       0  0.4361       0        0.17  1.0  0.17  0.17     0.67  0.67  1.0  0.67\n",
      "(1, 2, 2)  0     0     0     1          0       0       0  0.0837        0.17  1.0  0.17  0.17     0.67  0.67  1.0  0.67\n",
      "(2, 0, 0)  0     1     0     0          0  0.3355       0       0        0.67  1.0  0.67  0.67     0.00  0.00  1.0  0.00\n",
      "(2, 0, 1)  0     1     0     0          0  0.5819       0       0        0.67  1.0  0.67  0.67     0.00  0.00  1.0  0.00\n",
      "(2, 0, 2)  0     1     0     0          0  0.0907       0       0        0.67  1.0  0.67  0.67     0.00  0.00  1.0  0.00\n",
      "(2, 1, 0)  0     1     0     0          0  0.5779       0       0        0.67  1.0  0.67  0.67     0.17  0.17  1.0  0.17\n",
      "(2, 1, 1)  0     1     0     0          0  0.4459       0       0        0.67  1.0  0.67  0.67     0.17  0.17  1.0  0.17\n",
      "(2, 1, 2)  0  0.03     0  0.97          0  0.0026       0  0.0852        0.67  1.0  0.67  0.67     0.17  0.17  1.0  0.17\n",
      "(2, 2, 0)  0     1     0     0          0  0.0946       0       0        0.67  1.0  0.67  0.67     0.67  0.67  1.0  0.67\n",
      "(2, 2, 1)  0     0     1     0          0       0  0.0887       0        0.67  1.0  0.67  0.67     0.67  0.67  1.0  0.67\n",
      "(2, 2, 2)  0  0.36  0.64     0          0  0.0059  0.0104       0        0.67  1.0  0.67  0.67     0.67  0.67  1.0  0.67\n",
      "    Var L Var N     Group Costs\n",
      "0  2.1979   0.0          3.8463\n",
      "1   1.099   0.0          3.8463\n",
      "2  0.5495   0.0          3.8463\n",
      "Var X total: 19.9999\n",
      "GGF Value (DLP) L+N:  3.8464\n",
      "GGF Value (DLP) XC:   3.8463\n"
     ]
    }
   ],
   "source": [
    "# calculate LP values\n",
    "model = build_dlp(mdp=mdp, initial_mu = uniform_perm_state)\n",
    "# Solve the GGF model\n",
    "_, model, _ = solve_dlp(model=model)\n",
    "results = extract_dlp(model=model, print_results=True)"
   ]
  },
  {
   "cell_type": "markdown",
   "id": "24f56aa2-2646-4e24-bf10-03abfef1979f",
   "metadata": {},
   "source": [
    "# 3*. Follow-up: simulate the uniform policy"
   ]
  },
  {
   "cell_type": "markdown",
   "id": "1c892c23-5f26-4a8c-8543-bd5be3fd6f92",
   "metadata": {},
   "source": [
    "## 3.1 Simulate One Machine"
   ]
  },
  {
   "cell_type": "markdown",
   "id": "878b1b78-08c2-41c0-9dd8-93c9691b2681",
   "metadata": {},
   "source": [
    "### 3.1.1 Setup"
   ]
  },
  {
   "cell_type": "code",
   "execution_count": 132,
   "id": "3332638a-ae47-4427-905a-5c7c621cbe71",
   "metadata": {},
   "outputs": [],
   "source": [
    "# initial state\n",
    "s_index = 0\n",
    "num_samples = 100\n",
    "params.len_episode = 500\n",
    "num_groups = 1\n",
    "\n",
    "mrp_data_n1 = MRPData(\n",
    "    num_groups=num_groups,\n",
    "    num_states=params.num_states,\n",
    "    num_actions=params.num_actions,\n",
    "    prob_remain=params.prob_remain,\n",
    "    weight_type=params.weight_type,\n",
    "    cost_types_operation=params.cost_type_operation,\n",
    "    cost_types_replace=params.cost_type_replace,\n",
    ")\n",
    "\n",
    "mdp_n1 = MDP4LP(\n",
    "    num_states=mrp_data_n1.num_global_states,\n",
    "    num_actions=mrp_data_n1.num_global_actions,\n",
    "    num_groups=num_groups,\n",
    "    transition=mrp_data_n1.global_transitions,\n",
    "    costs=mrp_data_n1.global_costs,\n",
    "    discount=params.gamma,\n",
    "    weights=mrp_data_n1.weights,\n",
    "    minimize=True,\n",
    "    encoding_int=False,\n",
    "    base_num_states=params.num_states,\n",
    ")"
   ]
  },
  {
   "cell_type": "code",
   "execution_count": 133,
   "id": "97d57860-4488-44f1-aab0-44323dc2698e",
   "metadata": {},
   "outputs": [
    {
     "name": "stdout",
     "output_type": "stream",
     "text": [
      "Initial distribution:  [0.3333333333333333, 0.3333333333333333, 0.3333333333333333]\n",
      "Solver solving time: 0.0042\n",
      "Number of solutions found: 1\n",
      "Proportion of stochastic policy: 0.0%\n",
      "Policy:                    Var X:          Costs - Group 1 | Group 2                    \n",
      "      0  1          0       1           0    1   \n",
      "(0,)  1  0     8.2279       0        0.00  1.0   \n",
      "(1,)  1  0     9.6124       0        0.17  1.0   \n",
      "(2,)  0  1          0  2.1597        0.67  1.0   \n",
      "    Var L Var N     Group Costs\n",
      "0  3.7618   0.0          3.7618\n",
      "Var X total: 20.0\n",
      "GGF Value (DLP) L+N:  3.7618\n",
      "GGF Value (DLP) XC:   3.7618\n"
     ]
    }
   ],
   "source": [
    "# calculate LP values\n",
    "model = build_dlp(mdp=mdp_n1)\n",
    "# Solve the GGF model\n",
    "_, model, _ = solve_dlp(model=model)\n",
    "results_n1 = extract_dlp(model=model, print_results=True)\n",
    "# get the policy\n",
    "policy_n1 = results_n1.policy"
   ]
  },
  {
   "cell_type": "markdown",
   "id": "489aeb4f-6dc1-4e14-b4b6-5e76f52ee1ad",
   "metadata": {},
   "source": [
    "### 3.1.2 Simulation"
   ]
  },
  {
   "cell_type": "code",
   "execution_count": 323,
   "id": "3c1811dd-101c-486a-a331-6f0e62ef20d7",
   "metadata": {},
   "outputs": [
    {
     "data": {
      "text/plain": [
       "True"
      ]
     },
     "execution_count": 323,
     "metadata": {},
     "output_type": "execute_result"
    }
   ],
   "source": [
    "params.gamma ** (300) <= 1e-6"
   ]
  },
  {
   "cell_type": "code",
   "execution_count": 546,
   "id": "857ff7c3-a8ab-407b-9de2-ee416cb03eb2",
   "metadata": {},
   "outputs": [],
   "source": [
    "num_samples = 500\n",
    "params.len_episode = 300\n",
    "V = np.zeros((num_samples, params.len_episode))\n",
    "for n in range(num_samples):\n",
    "    s_index = np.random.choice(range(mrp_data_n1.num_global_states))\n",
    "    for t in range(params.len_episode):\n",
    "        # select the action\n",
    "        action_prob = policy_n1.iloc[s_index]\n",
    "        action_idx = np.random.choice(range(len(action_prob)), p=action_prob)\n",
    "        # calculate the reward\n",
    "        reward = mrp_data_n1.global_costs[s_index, action_idx][0]\n",
    "        V[n, t] += params.gamma ** t * reward\n",
    "        # transit to the next state\n",
    "        next_s_prob = mrp_data_n1.global_transitions[s_index, :, action_idx]\n",
    "        next_s_index = np.random.choice(range(len(next_s_prob)), p=next_s_prob)\n",
    "        s_index = next_s_index"
   ]
  },
  {
   "cell_type": "markdown",
   "id": "65cbfd1e-d060-4bc8-acd2-4a30f1dc2ef5",
   "metadata": {},
   "source": [
    "#### N=500 (std0.0385)"
   ]
  },
  {
   "cell_type": "code",
   "execution_count": 341,
   "id": "f659a394-d72b-4b78-a0a2-749a9c960238",
   "metadata": {},
   "outputs": [
    {
     "name": "stdout",
     "output_type": "stream",
     "text": [
      "Mean:  3.863\n",
      "Std:  0.0385\n"
     ]
    }
   ],
   "source": [
    "V_mean_accum = np.cumsum(V, axis=1)\n",
    "\n",
    "V_mean = np.mean(V_mean_accum, axis=0)\n",
    "V_std_n = np.std(V_mean_accum, axis=0) / np.sqrt(num_samples)\n",
    "\n",
    "print(\"Mean: \", round(V_mean[-1],4))\n",
    "print(\"Std: \", round(V_std_n[-1],4))"
   ]
  },
  {
   "cell_type": "code",
   "execution_count": 344,
   "id": "03ea9ab8-19dd-4cca-b977-7e8dd720ec41",
   "metadata": {},
   "outputs": [
    {
     "data": {
      "text/plain": [
       "Text(0.5, 1.0, 'Sample $N$=500')"
      ]
     },
     "execution_count": 344,
     "metadata": {},
     "output_type": "execute_result"
    },
    {
     "data": {
      "image/png": "[encoded data removed]",
      "text/plain": [
       "<Figure size 640x480 with 1 Axes>"
      ]
     },
     "metadata": {},
     "output_type": "display_data"
    }
   ],
   "source": [
    "# samples: 500\n",
    "sns.lineplot(V_mean, label=f'Sim: {round(V_mean[-1],4)}')\n",
    "plt.fill_between(range(params.len_episode), V_mean - 1.96 * V_std_n, V_mean + 1.96 * V_std_n, alpha=0.3)\n",
    "sns.lineplot(x=range(params.len_episode), y=results_n1.ggf_value_xc, label=f'True: {results_n1.ggf_value_xc}')\n",
    "plt.title(f'Sample $N$={num_samples}')"
   ]
  },
  {
   "cell_type": "code",
   "execution_count": 547,
   "id": "f9613fb8-7fc1-4c49-974f-c095b21ebf4f",
   "metadata": {},
   "outputs": [
    {
     "name": "stdout",
     "output_type": "stream",
     "text": [
      "Mean:  3.7815\n",
      "Std:  0.0389\n"
     ]
    },
    {
     "data": {
      "text/plain": [
       "Text(0.5, 1.0, 'Sample $N$=500')"
      ]
     },
     "execution_count": 547,
     "metadata": {},
     "output_type": "execute_result"
    },
    {
     "data": {
      "image/png": "[encoded data removed]",
      "text/plain": [
       "<Figure size 640x480 with 1 Axes>"
      ]
     },
     "metadata": {},
     "output_type": "display_data"
    }
   ],
   "source": [
    "V_mean_accum = np.cumsum(V, axis=1)\n",
    "\n",
    "V_mean = np.mean(V_mean_accum, axis=0)\n",
    "V_std_n = np.std(V_mean_accum, axis=0) / np.sqrt(num_samples)\n",
    "\n",
    "print(\"Mean: \", round(V_mean[-1],4))\n",
    "print(\"Std: \", round(V_std_n[-1],4))\n",
    "\n",
    "# samples: 500\n",
    "sns.lineplot(V_mean, label=f'Sim: {round(V_mean[-1],4)}')\n",
    "plt.fill_between(range(params.len_episode), V_mean - 1.96 * V_std_n, V_mean + 1.96 * V_std_n, alpha=0.3)\n",
    "sns.lineplot(x=range(params.len_episode), y=results_n1.ggf_value_xc, label=f'True: {results_n1.ggf_value_xc}')\n",
    "plt.title(f'Sample $N$={num_samples}')"
   ]
  },
  {
   "cell_type": "markdown",
   "id": "dbc15193-d616-4bb9-ae6c-51d9cc41654d",
   "metadata": {},
   "source": [
    "#### N=1000 (std0.0276)"
   ]
  },
  {
   "cell_type": "code",
   "execution_count": 355,
   "id": "1ac67f5f-f54f-44aa-a91e-d80d4fffcefe",
   "metadata": {},
   "outputs": [
    {
     "name": "stdout",
     "output_type": "stream",
     "text": [
      "Mean:  3.796\n",
      "Std:  0.0276\n"
     ]
    },
    {
     "data": {
      "text/plain": [
       "Text(0.5, 1.0, 'Sample $N$=1000')"
      ]
     },
     "execution_count": 355,
     "metadata": {},
     "output_type": "execute_result"
    },
    {
     "data": {
      "image/png": "[encoded data removed]",
      "text/plain": [
       "<Figure size 640x480 with 1 Axes>"
      ]
     },
     "metadata": {},
     "output_type": "display_data"
    }
   ],
   "source": [
    "V_mean_accum = np.cumsum(V, axis=1)\n",
    "\n",
    "V_mean = np.mean(V_mean_accum, axis=0)\n",
    "V_std_n = np.std(V_mean_accum, axis=0) / np.sqrt(num_samples)\n",
    "print(\"Mean: \", round(V_mean[-1],4))\n",
    "print(\"Std: \", round(V_std_n[-1],4))\n",
    "\n",
    "sns.lineplot(V_mean, label=f'Sim: {round(V_mean[-1],4)}')\n",
    "plt.fill_between(range(params.len_episode), V_mean - 1.96 * V_std_n, V_mean + 1.96 * V_std_n, alpha=0.3)\n",
    "sns.lineplot(x=range(params.len_episode), y=results_n1.ggf_value_xc, label=f'True: {results_n1.ggf_value_xc}')\n",
    "plt.title(f'Sample $N$={num_samples}')"
   ]
  },
  {
   "cell_type": "code",
   "execution_count": 358,
   "id": "afecdf5c-24e2-4dd0-b8de-643e5d80ea9f",
   "metadata": {},
   "outputs": [
    {
     "data": {
      "text/plain": [
       "0.054062234273262254"
      ]
     },
     "execution_count": 358,
     "metadata": {},
     "output_type": "execute_result"
    }
   ],
   "source": [
    "1.96 * V_std_n[-1]"
   ]
  },
  {
   "cell_type": "code",
   "execution_count": 357,
   "id": "2dbb9554-5897-495a-95bf-ddbe6944dd78",
   "metadata": {},
   "outputs": [
    {
     "data": {
      "text/plain": [
       "False"
      ]
     },
     "execution_count": 357,
     "metadata": {},
     "output_type": "execute_result"
    }
   ],
   "source": [
    "1.96 * V_std_n[-1] < 0.01"
   ]
  },
  {
   "cell_type": "markdown",
   "id": "55e42313-ef84-47aa-a69a-01f44447ede8",
   "metadata": {},
   "source": [
    "#### N=5000 (std0.0123)"
   ]
  },
  {
   "cell_type": "code",
   "execution_count": 361,
   "id": "c753ea88-8f02-4c0f-a054-832c8a4fa178",
   "metadata": {},
   "outputs": [
    {
     "name": "stdout",
     "output_type": "stream",
     "text": [
      "Mean:  3.785\n",
      "Std:  0.0123\n"
     ]
    },
    {
     "data": {
      "text/plain": [
       "Text(0.5, 1.0, 'Sample $N$=5000')"
      ]
     },
     "execution_count": 361,
     "metadata": {},
     "output_type": "execute_result"
    },
    {
     "data": {
      "image/png": "[encoded data removed]",
      "text/plain": [
       "<Figure size 640x480 with 1 Axes>"
      ]
     },
     "metadata": {},
     "output_type": "display_data"
    }
   ],
   "source": [
    "V_mean_accum = np.cumsum(V, axis=1)\n",
    "\n",
    "V_mean = np.mean(V_mean_accum, axis=0)\n",
    "V_std_n = np.std(V_mean_accum, axis=0) / np.sqrt(num_samples)\n",
    "print(\"Mean: \", round(V_mean[-1],4))\n",
    "print(\"Std: \", round(V_std_n[-1],4))\n",
    "\n",
    "sns.lineplot(V_mean, label=f'Sim: {round(V_mean[-1],4)}')\n",
    "plt.fill_between(range(params.len_episode), V_mean - 1.96 * V_std_n, V_mean + 1.96 * V_std_n, alpha=0.3)\n",
    "sns.lineplot(x=range(params.len_episode), y=results_n1.ggf_value_xc, label=f'True: {results_n1.ggf_value_xc}')\n",
    "plt.title(f'Sample $N$={num_samples}')"
   ]
  },
  {
   "cell_type": "code",
   "execution_count": 505,
   "id": "cb892367-ccfa-44a1-8e97-a2204ff9a8a9",
   "metadata": {},
   "outputs": [
    {
     "data": {
      "text/plain": [
       "0.00034093860561690574"
      ]
     },
     "execution_count": 505,
     "metadata": {},
     "output_type": "execute_result"
    }
   ],
   "source": [
    "1.96 * 0.0123 /np.sqrt(5000)"
   ]
  },
  {
   "cell_type": "code",
   "execution_count": 362,
   "id": "162665f2-db35-4478-9127-906b7d1a5595",
   "metadata": {},
   "outputs": [
    {
     "data": {
      "text/plain": [
       "False"
      ]
     },
     "execution_count": 362,
     "metadata": {},
     "output_type": "execute_result"
    }
   ],
   "source": [
    "1.96 * V_std_n[-1] < 0.01"
   ]
  },
  {
   "cell_type": "code",
   "execution_count": 363,
   "id": "aca03247-77f5-4658-8d51-e6360c9b834d",
   "metadata": {},
   "outputs": [
    {
     "data": {
      "text/plain": [
       "True"
      ]
     },
     "execution_count": 363,
     "metadata": {},
     "output_type": "execute_result"
    }
   ],
   "source": [
    "V_mean[-1] - 1.96 * V_std_n[-1]<= results_n1.ggf_value_xc<= V_mean[-1] + 1.96 * V_std_n[-1]"
   ]
  },
  {
   "cell_type": "markdown",
   "id": "90e7864a-30b6-4bf6-8293-f9551b6f89c5",
   "metadata": {},
   "source": [
    "#### N=10000 (std0.0086)"
   ]
  },
  {
   "cell_type": "code",
   "execution_count": 365,
   "id": "255fd04c-7fc0-4861-98ac-d721cc8d36cd",
   "metadata": {},
   "outputs": [
    {
     "name": "stdout",
     "output_type": "stream",
     "text": [
      "Mean:  3.7733\n",
      "Std:  0.0086\n"
     ]
    },
    {
     "data": {
      "text/plain": [
       "Text(0.5, 1.0, 'Sample $N$=10000')"
      ]
     },
     "execution_count": 365,
     "metadata": {},
     "output_type": "execute_result"
    },
    {
     "data": {
      "image/png": "[encoded data removed]",
      "text/plain": [
       "<Figure size 640x480 with 1 Axes>"
      ]
     },
     "metadata": {},
     "output_type": "display_data"
    }
   ],
   "source": [
    "V_mean_accum = np.cumsum(V, axis=1)\n",
    "\n",
    "V_mean = np.mean(V_mean_accum, axis=0)\n",
    "V_std_n = np.std(V_mean_accum, axis=0) / np.sqrt(num_samples)\n",
    "print(\"Mean: \", round(V_mean[-1],4))\n",
    "print(\"Std: \", round(V_std_n[-1],4))\n",
    "\n",
    "sns.lineplot(V_mean, label=f'Sim: {round(V_mean[-1],4)}')\n",
    "plt.fill_between(range(params.len_episode), V_mean - 1.96 * V_std_n, V_mean + 1.96 * V_std_n, alpha=0.3)\n",
    "sns.lineplot(x=range(params.len_episode), y=results_n1.ggf_value_xc, label=f'True: {results_n1.ggf_value_xc}')\n",
    "plt.title(f'Sample $N$={num_samples}')"
   ]
  },
  {
   "cell_type": "code",
   "execution_count": 368,
   "id": "7722d851-2903-475b-a003-6d6fba5e9f83",
   "metadata": {},
   "outputs": [
    {
     "data": {
      "text/plain": [
       "False"
      ]
     },
     "execution_count": 368,
     "metadata": {},
     "output_type": "execute_result"
    }
   ],
   "source": [
    "1.96 * V_std_n[-1] < 0.01"
   ]
  },
  {
   "cell_type": "code",
   "execution_count": 369,
   "id": "d9063302-7abd-46af-acb0-28d23773fba3",
   "metadata": {},
   "outputs": [
    {
     "data": {
      "text/plain": [
       "True"
      ]
     },
     "execution_count": 369,
     "metadata": {},
     "output_type": "execute_result"
    }
   ],
   "source": [
    "V_mean[-1] - 1.96 * V_std_n[-1]<= results_n1.ggf_value_xc<= V_mean[-1] + 1.96 * V_std_n[-1]"
   ]
  },
  {
   "cell_type": "markdown",
   "id": "aa9208d6-a52f-4fd3-a57b-2bb5abd1e31d",
   "metadata": {},
   "source": [
    "## 3.2 Simulate Multiple Machines"
   ]
  },
  {
   "cell_type": "code",
   "execution_count": 394,
   "id": "d847391a-7a42-446f-a014-17500a62b31f",
   "metadata": {},
   "outputs": [],
   "source": [
    "num_samples = 5000\n",
    "params.len_episode = 300\n",
    "temp_policy = results_uniform.policy\n",
    "V = np.zeros((num_samples, params.num_groups, params.len_episode))\n",
    "for n in range(num_samples):\n",
    "    s_index = np.random.choice(range(mrp_data.num_global_states))\n",
    "    for t in range(params.len_episode):\n",
    "        # select the action\n",
    "        action_prob = temp_policy.iloc[s_index]\n",
    "        action_idx = np.random.choice(range(len(action_prob)), p=action_prob)\n",
    "        # calculate the reward\n",
    "        reward = mrp_data.global_costs[s_index, action_idx]\n",
    "        V[n, :, t] += params.gamma ** t * reward\n",
    "        # transit to the next state\n",
    "        next_s_prob = mrp_data.global_transitions[s_index, :, action_idx]\n",
    "        next_s_index = np.random.choice(range(len(next_s_prob)), p=next_s_prob)\n",
    "        s_index = next_s_index"
   ]
  },
  {
   "cell_type": "markdown",
   "id": "de76907b-bb7d-4fb8-ab8e-6e29515ecfd0",
   "metadata": {},
   "source": [
    "### 3.2.1 Simulation"
   ]
  },
  {
   "cell_type": "code",
   "execution_count": 494,
   "id": "0278e802-4b45-4bee-b36b-ac994e56e57f",
   "metadata": {},
   "outputs": [],
   "source": [
    "def plot_figures(V, num_samples, results):\n",
    "    V_mean_accum = np.cumsum(V, axis=2)\n",
    "\n",
    "    V_mean = np.mean(V_mean_accum, axis=0).round(4)\n",
    "    V_std_n = np.std(V_mean_accum, axis=0) / np.sqrt(num_samples)\n",
    "    \n",
    "    print(\"Mean: \", V_mean[:, -1])\n",
    "    print(\"Std:  \", V_std_n[:, -1].round(4))\n",
    "    inside = True    \n",
    "    for g in range(params.num_groups):\n",
    "        if V_mean[g,-1] - 1.96 * V_std_n[g,-1]<= results_uniform.costs[g]<= V_mean[g,-1] + 1.96 * V_std_n[g,-1]:\n",
    "            pass\n",
    "        else:\n",
    "            inside = False\n",
    "        sns.lineplot(x=range(params.len_episode), y=V_mean[g,:], label=f'Group {g}: {round(V_mean[g,-1],4)}')\n",
    "        plt.fill_between(range(params.len_episode), V_mean[g] - 1.96 * V_std_n[g], V_mean[g] + 1.96 * V_std_n[g], alpha=0.3)\n",
    "        sns.lineplot(x=range(params.len_episode), y=results.costs[g], label=f'True GGF-V: {results.costs[g]}')\n",
    "    # sns.lineplot(x=range(params.len_episode), y=results_uniform.costs[0], label=f'True GGF-V: {results_uniform.costs[0]}')\n",
    "    plt.title(f'Sample $N$={num_samples}')\n",
    "    print(\"Inside Interval: \", inside)"
   ]
  },
  {
   "cell_type": "markdown",
   "id": "c9d8fbff-5c7e-4b0d-92ee-0403e97d7066",
   "metadata": {},
   "source": [
    "#### N=500"
   ]
  },
  {
   "cell_type": "code",
   "execution_count": 291,
   "id": "3f7afef6-1743-4dcd-91e1-b7a49361a84e",
   "metadata": {},
   "outputs": [
    {
     "data": {
      "text/plain": [
       "array([3.8463, 3.8463, 3.8463])"
      ]
     },
     "execution_count": 291,
     "metadata": {},
     "output_type": "execute_result"
    }
   ],
   "source": [
    "# True Values\n",
    "results_uniform.costs"
   ]
  },
  {
   "cell_type": "code",
   "execution_count": 393,
   "id": "7223c542-e448-4fa1-bad7-3f73089a86d0",
   "metadata": {},
   "outputs": [
    {
     "name": "stdout",
     "output_type": "stream",
     "text": [
      "Mean:  [3.8862 3.8542 3.9598]\n",
      "Std:   [0.0397 0.0422 0.0422]\n",
      "Inside Inverval:  True\n"
     ]
    },
    {
     "data": {
      "image/png": "[encoded data removed]",
      "text/plain": [
       "<Figure size 640x480 with 1 Axes>"
      ]
     },
     "metadata": {},
     "output_type": "display_data"
    }
   ],
   "source": [
    "plot_figures(V)"
   ]
  },
  {
   "cell_type": "markdown",
   "id": "39d34b8d-360a-4f78-8632-2a806e751a6f",
   "metadata": {},
   "source": [
    "#### N=5000"
   ]
  },
  {
   "cell_type": "code",
   "execution_count": 396,
   "id": "138495c9-c7e7-4c9f-9283-c36aef81f38a",
   "metadata": {},
   "outputs": [
    {
     "name": "stdout",
     "output_type": "stream",
     "text": [
      "Mean:  [3.9035 3.8895 3.9023]\n",
      "Std:   [0.0131 0.0131 0.0132]\n",
      "Inside Inverval:  True\n"
     ]
    },
    {
     "data": {
      "image/png": "[encoded data removed]",
      "text/plain": [
       "<Figure size 640x480 with 1 Axes>"
      ]
     },
     "metadata": {},
     "output_type": "display_data"
    }
   ],
   "source": [
    "plot_figures(V)"
   ]
  },
  {
   "cell_type": "code",
   "execution_count": 503,
   "id": "0a9a9e57-33d1-44bf-9a8d-20733cbb0841",
   "metadata": {},
   "outputs": [
    {
     "data": {
      "text/plain": [
       "0.00036311347427491587"
      ]
     },
     "execution_count": 503,
     "metadata": {},
     "output_type": "execute_result"
    }
   ],
   "source": [
    "1.96*0.0131 /np.sqrt(5000)"
   ]
  },
  {
   "cell_type": "markdown",
   "id": "ebdb3605-1962-4425-bca3-f3c5f86a3d39",
   "metadata": {},
   "source": [
    "## 3.3 Simulate Permutation"
   ]
  },
  {
   "cell_type": "code",
   "execution_count": 402,
   "id": "1a8ca5a1-12a0-48fc-8f42-af2adc3b097c",
   "metadata": {},
   "outputs": [],
   "source": [
    "from utils.policy import simulate_permuted_state_value"
   ]
  },
  {
   "cell_type": "code",
   "execution_count": 534,
   "id": "e13ba342-09bc-4971-a806-0b3f13be719b",
   "metadata": {},
   "outputs": [],
   "source": [
    "# initial state\n",
    "params.num_samples = 1000\n",
    "params.len_episode = 300\n",
    "# simulate the permuted state value\n",
    "Vt1000_012 = simulate_permuted_state_value(\n",
    "    params=params,\n",
    "    # policy=results_uniform.policy,\n",
    "    policy=bar_policy012,\n",
    "    mrp_data=mrp_data,\n",
    "    initial_state_prob=unique_state_prob_list[0],\n",
    "    all_permutation_matrix=all_permutation_matrix\n",
    ")"
   ]
  },
  {
   "cell_type": "code",
   "execution_count": 430,
   "id": "c30cdbfc-3b79-4c83-8054-95a399ecc93a",
   "metadata": {},
   "outputs": [
    {
     "name": "stdout",
     "output_type": "stream",
     "text": [
      "Mean:  [3.7294 3.8859 3.8212]\n",
      "Std:   [0.0945 0.0861 0.0901]\n",
      "Inside Interval:  True\n"
     ]
    },
    {
     "data": {
      "image/png": "[encoded data removed]",
      "text/plain": [
       "<Figure size 640x480 with 1 Axes>"
      ]
     },
     "metadata": {},
     "output_type": "display_data"
    }
   ],
   "source": [
    "plot_figures(Vt100, 100)"
   ]
  },
  {
   "cell_type": "code",
   "execution_count": 431,
   "id": "3bec8893-65c6-4ae8-bd6a-bed62085ecf2",
   "metadata": {},
   "outputs": [
    {
     "name": "stdout",
     "output_type": "stream",
     "text": [
      "Mean:  [3.795  3.8946 3.7991]\n",
      "Std:   [0.0623 0.0707 0.0683]\n",
      "Inside Interval:  True\n"
     ]
    },
    {
     "data": {
      "image/png": "[encoded data removed]",
      "text/plain": [
       "<Figure size 640x480 with 1 Axes>"
      ]
     },
     "metadata": {},
     "output_type": "display_data"
    }
   ],
   "source": [
    "plot_figures(Vt200,200)"
   ]
  },
  {
   "cell_type": "markdown",
   "id": "ac01d9d7-eb53-4244-8952-743573fba8d7",
   "metadata": {},
   "source": [
    "#### N=500"
   ]
  },
  {
   "cell_type": "code",
   "execution_count": 432,
   "id": "5f6aeb59-6826-406a-b2d1-2f76a61de82b",
   "metadata": {},
   "outputs": [
    {
     "name": "stdout",
     "output_type": "stream",
     "text": [
      "Mean:  [3.8253 3.7931 3.8564]\n",
      "Std:   [0.0444 0.0424 0.0406]\n",
      "Inside Interval:  True\n"
     ]
    },
    {
     "data": {
      "image/png": "[encoded data removed]",
      "text/plain": [
       "<Figure size 640x480 with 1 Axes>"
      ]
     },
     "metadata": {},
     "output_type": "display_data"
    }
   ],
   "source": [
    "plot_figures(Vt500,500)"
   ]
  },
  {
   "cell_type": "code",
   "execution_count": 401,
   "id": "82288048-f97b-4e04-a133-b003e96dc5ca",
   "metadata": {},
   "outputs": [
    {
     "data": {
      "text/plain": [
       "array([3.8463, 3.8463, 3.8463])"
      ]
     },
     "execution_count": 401,
     "metadata": {},
     "output_type": "execute_result"
    }
   ],
   "source": [
    "uniform_results.costs"
   ]
  },
  {
   "cell_type": "markdown",
   "id": "e517646e-f73e-4326-81f3-7ecac0a9867c",
   "metadata": {},
   "source": [
    "#### N=5000"
   ]
  },
  {
   "cell_type": "code",
   "execution_count": 433,
   "id": "e4e2dceb-84d1-452f-9439-e61c5b7ab078",
   "metadata": {},
   "outputs": [
    {
     "name": "stdout",
     "output_type": "stream",
     "text": [
      "Mean:  [3.864  3.8674 3.8339]\n",
      "Std:   [0.0131 0.0133 0.0131]\n",
      "Inside Interval:  True\n"
     ]
    },
    {
     "data": {
      "image/png": "[encoded data removed]",
      "text/plain": [
       "<Figure size 640x480 with 1 Axes>"
      ]
     },
     "metadata": {},
     "output_type": "display_data"
    }
   ],
   "source": [
    "plot_figures(Vt5000,5000)"
   ]
  },
  {
   "cell_type": "code",
   "execution_count": 506,
   "id": "31880fb3-bc55-4593-b812-2d071f83c06d",
   "metadata": {},
   "outputs": [
    {
     "data": {
      "text/plain": [
       "0.025676"
      ]
     },
     "execution_count": 506,
     "metadata": {},
     "output_type": "execute_result"
    }
   ],
   "source": [
    "0.0131 * 1.96"
   ]
  },
  {
   "cell_type": "markdown",
   "id": "6fad2afc-50ea-4619-aa96-1a8ec9a41482",
   "metadata": {},
   "source": [
    "### results012"
   ]
  },
  {
   "cell_type": "code",
   "execution_count": 517,
   "id": "56f7dab7-2706-4c11-bd40-9353a0351138",
   "metadata": {},
   "outputs": [
    {
     "name": "stdout",
     "output_type": "stream",
     "text": [
      "Initial distribution:  [0, 0, 0, 0, 0, 1, 0, 0, 0, 0, 0, 0, 0, 0, 0, 0, 0, 0, 0, 0, 0, 0, 0, 0, 0, 0, 0]\n",
      "Solver solving time: 0.1016\n",
      "Number of solutions found: 1\n",
      "Proportion of stochastic policy: 0.0%\n",
      "Policy:                            Var X:              Costs - Group 1 | Group 2                            \n",
      "           0  1  2  3          0       1       2       3           0    1     2     3        0     1    2     3\n",
      "(0, 0, 0)  1  0  0  0     1.0968       0       0       0        0.00  1.0  0.00  0.00     0.00  0.00  1.0  0.00\n",
      "(0, 0, 1)  1  0  0  0     1.3142       0       0       0        0.00  1.0  0.00  0.00     0.00  0.00  1.0  0.00\n",
      "(0, 0, 2)  0  0  0  1          0       0       0    0.26        0.00  1.0  0.00  0.00     0.00  0.00  1.0  0.00\n",
      "(0, 1, 0)  1  0  0  0     2.2334       0       0       0        0.00  1.0  0.00  0.00     0.17  0.17  1.0  0.17\n",
      "(0, 1, 1)  1  0  0  0      2.013       0       0       0        0.00  1.0  0.00  0.00     0.17  0.17  1.0  0.17\n",
      "(0, 1, 2)  0  0  0  1          0       0       0  1.3637        0.00  1.0  0.00  0.00     0.17  0.17  1.0  0.17\n",
      "(0, 2, 0)  0  0  1  0          0       0  0.5352       0        0.00  1.0  0.00  0.00     0.67  0.67  1.0  0.67\n",
      "(0, 2, 1)  0  0  1  0          0       0  0.4325       0        0.00  1.0  0.00  0.00     0.67  0.67  1.0  0.67\n",
      "(0, 2, 2)  0  0  0  1          0       0       0  0.0747        0.00  1.0  0.00  0.00     0.67  0.67  1.0  0.67\n",
      "(1, 0, 0)  1  0  0  0     1.2756       0       0       0        0.17  1.0  0.17  0.17     0.00  0.00  1.0  0.00\n",
      "(1, 0, 1)  1  0  0  0     1.5565       0       0       0        0.17  1.0  0.17  0.17     0.00  0.00  1.0  0.00\n",
      "(1, 0, 2)  0  0  0  1          0       0       0  0.3094        0.17  1.0  0.17  0.17     0.00  0.00  1.0  0.00\n",
      "(1, 1, 0)  1  0  0  0      1.965       0       0       0        0.17  1.0  0.17  0.17     0.17  0.17  1.0  0.17\n",
      "(1, 1, 1)  1  0  0  0     2.1404       0       0       0        0.17  1.0  0.17  0.17     0.17  0.17  1.0  0.17\n",
      "(1, 1, 2)  0  0  0  1          0       0       0  0.4123        0.17  1.0  0.17  0.17     0.17  0.17  1.0  0.17\n",
      "(1, 2, 0)  0  0  1  0          0       0  0.4738       0        0.17  1.0  0.17  0.17     0.67  0.67  1.0  0.67\n",
      "(1, 2, 1)  0  0  1  0          0       0  0.4534       0        0.17  1.0  0.17  0.17     0.67  0.67  1.0  0.67\n",
      "(1, 2, 2)  0  0  0  1          0       0       0  0.0837        0.17  1.0  0.17  0.17     0.67  0.67  1.0  0.67\n",
      "(2, 0, 0)  0  1  0  0          0   0.363       0       0        0.67  1.0  0.67  0.67     0.00  0.00  1.0  0.00\n",
      "(2, 0, 1)  0  1  0  0          0  0.3915       0       0        0.67  1.0  0.67  0.67     0.00  0.00  1.0  0.00\n",
      "(2, 0, 2)  0  0  0  1          0       0       0  0.0752        0.67  1.0  0.67  0.67     0.00  0.00  1.0  0.00\n",
      "(2, 1, 0)  0  1  0  0          0  0.4308       0       0        0.67  1.0  0.67  0.67     0.17  0.17  1.0  0.17\n",
      "(2, 1, 1)  0  1  0  0          0  0.4432       0       0        0.67  1.0  0.67  0.67     0.17  0.17  1.0  0.17\n",
      "(2, 1, 2)  0  0  0  1          0       0       0  0.0839        0.67  1.0  0.67  0.67     0.17  0.17  1.0  0.17\n",
      "(2, 2, 0)  0  0  1  0          0       0  0.1101       0        0.67  1.0  0.67  0.67     0.67  0.67  1.0  0.67\n",
      "(2, 2, 1)  0  0  1  0          0       0  0.0926       0        0.67  1.0  0.67  0.67     0.67  0.67  1.0  0.67\n",
      "(2, 2, 2)  0  0  0  1          0       0       0  0.0163        0.67  1.0  0.67  0.67     0.67  0.67  1.0  0.67\n",
      "    Var L   Var N     Group Costs\n",
      "0  2.3467 -0.1052          3.3255\n",
      "1  1.1605     0.0          4.0616\n",
      "2  0.5802  0.0258          4.1519\n",
      "Var X total: 20.0002\n",
      "GGF Value (DLP) L+N:  4.008\n",
      "GGF Value (DLP) XC:   4.008\n"
     ]
    }
   ],
   "source": [
    "# calculate LP values\n",
    "model012 = build_dlp(mdp=mdp, initial_mu=unique_state_prob_list[0])\n",
    "# Solve the GGF model\n",
    "_, model012, _ = solve_dlp(model=model012)\n",
    "results012 = extract_dlp(model=model012, print_results=True)\n",
    "# get the policy\n",
    "policy012 = results012.policy"
   ]
  },
  {
   "cell_type": "code",
   "execution_count": 521,
   "id": "50b14e68-2df6-4e6c-8b8d-df50f3225af7",
   "metadata": {},
   "outputs": [
    {
     "data": {
      "text/plain": [
       "3.8463"
      ]
     },
     "execution_count": 521,
     "metadata": {},
     "output_type": "execute_result"
    }
   ],
   "source": [
    "results012.costs.mean().round(4)"
   ]
  },
  {
   "cell_type": "code",
   "execution_count": 525,
   "id": "b7ec9416-ccd2-4c4f-9feb-4e2b4e9ad6a9",
   "metadata": {},
   "outputs": [
    {
     "data": {
      "text/plain": [
       "3.8400666666666665"
      ]
     },
     "execution_count": 525,
     "metadata": {},
     "output_type": "execute_result"
    }
   ],
   "source": [
    "np.mean([3.6012, 3.8016, 4.1174])"
   ]
  },
  {
   "cell_type": "code",
   "execution_count": 501,
   "id": "1c2d88d2-6e91-4088-83f8-e4ce808a066b",
   "metadata": {},
   "outputs": [
    {
     "name": "stdout",
     "output_type": "stream",
     "text": [
      "Mean:  [3.6012 3.8016 4.1174]\n",
      "Std:   [0.0292 0.0294 0.0294]\n",
      "Inside Interval:  False\n"
     ]
    },
    {
     "data": {
      "image/png": "[encoded data removed]",
      "text/plain": [
       "<Figure size 640x480 with 1 Axes>"
      ]
     },
     "metadata": {},
     "output_type": "display_data"
    }
   ],
   "source": [
    "plot_figures(Vt1000_012, 1000, results012)"
   ]
  },
  {
   "cell_type": "markdown",
   "id": "d83d6177-8ddb-472d-829e-23957fe46906",
   "metadata": {},
   "source": [
    "## 3.4 Closed-Form Calculation"
   ]
  },
  {
   "cell_type": "code",
   "execution_count": 53,
   "id": "50565529-3e59-43bf-b951-817a125d2530",
   "metadata": {},
   "outputs": [
    {
     "data": {
      "text/plain": [
       "[array([3.23606887, 4.0682404 , 4.23468137]),\n",
       " array([3.23602761, 4.23337631, 4.06958672]),\n",
       " array([4.06688763, 3.23737453, 4.23472847]),\n",
       " array([4.23602761, 3.23337631, 4.06958672]),\n",
       " array([4.06688763, 4.23737453, 3.23472847]),\n",
       " array([4.23606887, 4.0682404 , 3.23468137])]"
      ]
     },
     "execution_count": 53,
     "metadata": {},
     "output_type": "execute_result"
    }
   ],
   "source": [
    "# calculate the state value\n",
    "all_perm_state_value = []\n",
    "for init_prob in unique_state_prob_list:\n",
    "    temp_state_value_list = calculate_state_value(\n",
    "        discount=params.gamma,\n",
    "        initial_state_prob=init_prob,\n",
    "        policy=results_uniform.policy.to_numpy(),\n",
    "        reward_or_cost=mrp_data.global_costs,\n",
    "        transition_prob=mrp_data.global_transitions,\n",
    "        time_horizon=params.num_episodes,\n",
    "    )\n",
    "    all_perm_state_value.append(temp_state_value_list[-1])\n",
    "all_perm_state_value"
   ]
  },
  {
   "cell_type": "code",
   "execution_count": 56,
   "id": "05f9a4dc-3f1a-484e-ad09-5b6c539308b4",
   "metadata": {},
   "outputs": [
    {
     "name": "stdout",
     "output_type": "stream",
     "text": [
      "True\n",
      "True\n",
      "True\n",
      "True\n",
      "True\n",
      "True\n"
     ]
    }
   ],
   "source": [
    "# check permutation\n",
    "state_value_012 = all_perm_state_value[0]\n",
    "for idx in range(len(inverse_permutation_matrix)):\n",
    "    inverse_state_value = np.matmul(all_perm_state_value[idx], inverse_permutation_matrix[idx])\n",
    "    print(inverse_state_value.all() == state_value_012.all())"
   ]
  },
  {
   "cell_type": "markdown",
   "id": "49dfc410-ff7a-42b9-a9bb-82681295441e",
   "metadata": {},
   "source": [
    "# 4. Random policy"
   ]
  },
  {
   "cell_type": "code",
   "execution_count": 434,
   "id": "b4cb3b47-9b18-42db-b4a6-20640b957de1",
   "metadata": {},
   "outputs": [
    {
     "data": {
      "text/html": [
       "<div>\n",
       "<style scoped>\n",
       "    .dataframe tbody tr th:only-of-type {\n",
       "        vertical-align: middle;\n",
       "    }\n",
       "\n",
       "    .dataframe tbody tr th {\n",
       "        vertical-align: top;\n",
       "    }\n",
       "\n",
       "    .dataframe thead th {\n",
       "        text-align: right;\n",
       "    }\n",
       "</style>\n",
       "<table border=\"1\" class=\"dataframe\">\n",
       "  <thead>\n",
       "    <tr style=\"text-align: right;\">\n",
       "      <th></th>\n",
       "      <th>(0, 0, 0)</th>\n",
       "      <th>(1, 0, 0)</th>\n",
       "      <th>(0, 1, 0)</th>\n",
       "      <th>(0, 0, 1)</th>\n",
       "    </tr>\n",
       "  </thead>\n",
       "  <tbody>\n",
       "    <tr>\n",
       "      <th>(0, 0, 0)</th>\n",
       "      <td>0.149662</td>\n",
       "      <td>0.264559</td>\n",
       "      <td>0.255183</td>\n",
       "      <td>0.330596</td>\n",
       "    </tr>\n",
       "    <tr>\n",
       "      <th>(0, 0, 1)</th>\n",
       "      <td>0.316097</td>\n",
       "      <td>0.243847</td>\n",
       "      <td>0.370723</td>\n",
       "      <td>0.069333</td>\n",
       "    </tr>\n",
       "    <tr>\n",
       "      <th>(0, 0, 2)</th>\n",
       "      <td>0.458062</td>\n",
       "      <td>0.372350</td>\n",
       "      <td>0.136381</td>\n",
       "      <td>0.033208</td>\n",
       "    </tr>\n",
       "    <tr>\n",
       "      <th>(0, 1, 0)</th>\n",
       "      <td>0.428033</td>\n",
       "      <td>0.339702</td>\n",
       "      <td>0.168156</td>\n",
       "      <td>0.064110</td>\n",
       "    </tr>\n",
       "    <tr>\n",
       "      <th>(0, 1, 1)</th>\n",
       "      <td>0.477662</td>\n",
       "      <td>0.053199</td>\n",
       "      <td>0.099917</td>\n",
       "      <td>0.369222</td>\n",
       "    </tr>\n",
       "    <tr>\n",
       "      <th>(0, 1, 2)</th>\n",
       "      <td>0.263159</td>\n",
       "      <td>0.291919</td>\n",
       "      <td>0.407088</td>\n",
       "      <td>0.037834</td>\n",
       "    </tr>\n",
       "    <tr>\n",
       "      <th>(0, 2, 0)</th>\n",
       "      <td>0.098332</td>\n",
       "      <td>0.239274</td>\n",
       "      <td>0.362608</td>\n",
       "      <td>0.299786</td>\n",
       "    </tr>\n",
       "    <tr>\n",
       "      <th>(0, 2, 1)</th>\n",
       "      <td>0.106056</td>\n",
       "      <td>0.140445</td>\n",
       "      <td>0.374813</td>\n",
       "      <td>0.378686</td>\n",
       "    </tr>\n",
       "    <tr>\n",
       "      <th>(0, 2, 2)</th>\n",
       "      <td>0.034291</td>\n",
       "      <td>0.600649</td>\n",
       "      <td>0.338225</td>\n",
       "      <td>0.026835</td>\n",
       "    </tr>\n",
       "    <tr>\n",
       "      <th>(1, 0, 0)</th>\n",
       "      <td>0.224148</td>\n",
       "      <td>0.058693</td>\n",
       "      <td>0.429504</td>\n",
       "      <td>0.287655</td>\n",
       "    </tr>\n",
       "    <tr>\n",
       "      <th>(1, 0, 1)</th>\n",
       "      <td>0.392654</td>\n",
       "      <td>0.266331</td>\n",
       "      <td>0.278089</td>\n",
       "      <td>0.062926</td>\n",
       "    </tr>\n",
       "    <tr>\n",
       "      <th>(1, 0, 2)</th>\n",
       "      <td>0.243970</td>\n",
       "      <td>0.174694</td>\n",
       "      <td>0.504127</td>\n",
       "      <td>0.077209</td>\n",
       "    </tr>\n",
       "    <tr>\n",
       "      <th>(1, 1, 0)</th>\n",
       "      <td>0.348552</td>\n",
       "      <td>0.313600</td>\n",
       "      <td>0.278218</td>\n",
       "      <td>0.059629</td>\n",
       "    </tr>\n",
       "    <tr>\n",
       "      <th>(1, 1, 1)</th>\n",
       "      <td>0.177947</td>\n",
       "      <td>0.151580</td>\n",
       "      <td>0.268627</td>\n",
       "      <td>0.401846</td>\n",
       "    </tr>\n",
       "    <tr>\n",
       "      <th>(1, 1, 2)</th>\n",
       "      <td>0.291339</td>\n",
       "      <td>0.210979</td>\n",
       "      <td>0.037693</td>\n",
       "      <td>0.459989</td>\n",
       "    </tr>\n",
       "    <tr>\n",
       "      <th>(1, 2, 0)</th>\n",
       "      <td>0.397138</td>\n",
       "      <td>0.019549</td>\n",
       "      <td>0.137351</td>\n",
       "      <td>0.445962</td>\n",
       "    </tr>\n",
       "    <tr>\n",
       "      <th>(1, 2, 1)</th>\n",
       "      <td>0.353299</td>\n",
       "      <td>0.358121</td>\n",
       "      <td>0.114265</td>\n",
       "      <td>0.174315</td>\n",
       "    </tr>\n",
       "    <tr>\n",
       "      <th>(1, 2, 2)</th>\n",
       "      <td>0.052469</td>\n",
       "      <td>0.130527</td>\n",
       "      <td>0.346218</td>\n",
       "      <td>0.470787</td>\n",
       "    </tr>\n",
       "    <tr>\n",
       "      <th>(2, 0, 0)</th>\n",
       "      <td>0.090723</td>\n",
       "      <td>0.349144</td>\n",
       "      <td>0.425432</td>\n",
       "      <td>0.134701</td>\n",
       "    </tr>\n",
       "    <tr>\n",
       "      <th>(2, 0, 1)</th>\n",
       "      <td>0.217286</td>\n",
       "      <td>0.123635</td>\n",
       "      <td>0.426411</td>\n",
       "      <td>0.232668</td>\n",
       "    </tr>\n",
       "    <tr>\n",
       "      <th>(2, 0, 2)</th>\n",
       "      <td>0.627101</td>\n",
       "      <td>0.074081</td>\n",
       "      <td>0.218393</td>\n",
       "      <td>0.080424</td>\n",
       "    </tr>\n",
       "    <tr>\n",
       "      <th>(2, 1, 0)</th>\n",
       "      <td>0.142698</td>\n",
       "      <td>0.623275</td>\n",
       "      <td>0.214501</td>\n",
       "      <td>0.019526</td>\n",
       "    </tr>\n",
       "    <tr>\n",
       "      <th>(2, 1, 1)</th>\n",
       "      <td>0.387308</td>\n",
       "      <td>0.193899</td>\n",
       "      <td>0.047407</td>\n",
       "      <td>0.371386</td>\n",
       "    </tr>\n",
       "    <tr>\n",
       "      <th>(2, 1, 2)</th>\n",
       "      <td>0.306297</td>\n",
       "      <td>0.292190</td>\n",
       "      <td>0.311369</td>\n",
       "      <td>0.090144</td>\n",
       "    </tr>\n",
       "    <tr>\n",
       "      <th>(2, 2, 0)</th>\n",
       "      <td>0.144289</td>\n",
       "      <td>0.190976</td>\n",
       "      <td>0.293448</td>\n",
       "      <td>0.371287</td>\n",
       "    </tr>\n",
       "    <tr>\n",
       "      <th>(2, 2, 1)</th>\n",
       "      <td>0.166984</td>\n",
       "      <td>0.524217</td>\n",
       "      <td>0.087249</td>\n",
       "      <td>0.221550</td>\n",
       "    </tr>\n",
       "    <tr>\n",
       "      <th>(2, 2, 2)</th>\n",
       "      <td>0.311373</td>\n",
       "      <td>0.073661</td>\n",
       "      <td>0.268739</td>\n",
       "      <td>0.346227</td>\n",
       "    </tr>\n",
       "  </tbody>\n",
       "</table>\n",
       "</div>"
      ],
      "text/plain": [
       "           (0, 0, 0)  (1, 0, 0)  (0, 1, 0)  (0, 0, 1)\n",
       "(0, 0, 0)   0.149662   0.264559   0.255183   0.330596\n",
       "(0, 0, 1)   0.316097   0.243847   0.370723   0.069333\n",
       "(0, 0, 2)   0.458062   0.372350   0.136381   0.033208\n",
       "(0, 1, 0)   0.428033   0.339702   0.168156   0.064110\n",
       "(0, 1, 1)   0.477662   0.053199   0.099917   0.369222\n",
       "(0, 1, 2)   0.263159   0.291919   0.407088   0.037834\n",
       "(0, 2, 0)   0.098332   0.239274   0.362608   0.299786\n",
       "(0, 2, 1)   0.106056   0.140445   0.374813   0.378686\n",
       "(0, 2, 2)   0.034291   0.600649   0.338225   0.026835\n",
       "(1, 0, 0)   0.224148   0.058693   0.429504   0.287655\n",
       "(1, 0, 1)   0.392654   0.266331   0.278089   0.062926\n",
       "(1, 0, 2)   0.243970   0.174694   0.504127   0.077209\n",
       "(1, 1, 0)   0.348552   0.313600   0.278218   0.059629\n",
       "(1, 1, 1)   0.177947   0.151580   0.268627   0.401846\n",
       "(1, 1, 2)   0.291339   0.210979   0.037693   0.459989\n",
       "(1, 2, 0)   0.397138   0.019549   0.137351   0.445962\n",
       "(1, 2, 1)   0.353299   0.358121   0.114265   0.174315\n",
       "(1, 2, 2)   0.052469   0.130527   0.346218   0.470787\n",
       "(2, 0, 0)   0.090723   0.349144   0.425432   0.134701\n",
       "(2, 0, 1)   0.217286   0.123635   0.426411   0.232668\n",
       "(2, 0, 2)   0.627101   0.074081   0.218393   0.080424\n",
       "(2, 1, 0)   0.142698   0.623275   0.214501   0.019526\n",
       "(2, 1, 1)   0.387308   0.193899   0.047407   0.371386\n",
       "(2, 1, 2)   0.306297   0.292190   0.311369   0.090144\n",
       "(2, 2, 0)   0.144289   0.190976   0.293448   0.371287\n",
       "(2, 2, 1)   0.166984   0.524217   0.087249   0.221550\n",
       "(2, 2, 2)   0.311373   0.073661   0.268739   0.346227"
      ]
     },
     "execution_count": 434,
     "metadata": {},
     "output_type": "execute_result"
    }
   ],
   "source": [
    "random_policy = np.random.random((mrp_data.num_global_states,mrp_data.num_global_actions))\n",
    "# normalize the policy\n",
    "random_policy = random_policy / random_policy.sum(axis=1)[:,None]\n",
    "random_policy = pd.DataFrame(random_policy, index=results.policy.index, columns = ['(0, 0, 0)', '(1, 0, 0)', '(0, 1, 0)', '(0, 0, 1)'])\n",
    "random_policy"
   ]
  },
  {
   "cell_type": "code",
   "execution_count": 550,
   "id": "600db842-6c7a-42ab-afce-6529c6b28e61",
   "metadata": {},
   "outputs": [
    {
     "data": {
      "text/html": [
       "<div>\n",
       "<style scoped>\n",
       "    .dataframe tbody tr th:only-of-type {\n",
       "        vertical-align: middle;\n",
       "    }\n",
       "\n",
       "    .dataframe tbody tr th {\n",
       "        vertical-align: top;\n",
       "    }\n",
       "\n",
       "    .dataframe thead th {\n",
       "        text-align: right;\n",
       "    }\n",
       "</style>\n",
       "<table border=\"1\" class=\"dataframe\">\n",
       "  <thead>\n",
       "    <tr style=\"text-align: right;\">\n",
       "      <th></th>\n",
       "      <th>0</th>\n",
       "      <th>1</th>\n",
       "      <th>2</th>\n",
       "      <th>3</th>\n",
       "    </tr>\n",
       "  </thead>\n",
       "  <tbody>\n",
       "    <tr>\n",
       "      <th>(0, 0, 0)</th>\n",
       "      <td>0.149662</td>\n",
       "      <td>0.283446</td>\n",
       "      <td>0.283446</td>\n",
       "      <td>0.283446</td>\n",
       "    </tr>\n",
       "    <tr>\n",
       "      <th>(0, 0, 1)</th>\n",
       "      <td>0.322759</td>\n",
       "      <td>0.289257</td>\n",
       "      <td>0.289257</td>\n",
       "      <td>0.098727</td>\n",
       "    </tr>\n",
       "    <tr>\n",
       "      <th>(0, 0, 2)</th>\n",
       "      <td>0.215705</td>\n",
       "      <td>0.267987</td>\n",
       "      <td>0.267987</td>\n",
       "      <td>0.248320</td>\n",
       "    </tr>\n",
       "    <tr>\n",
       "      <th>(0, 1, 0)</th>\n",
       "      <td>0.322759</td>\n",
       "      <td>0.289257</td>\n",
       "      <td>0.098727</td>\n",
       "      <td>0.289257</td>\n",
       "    </tr>\n",
       "    <tr>\n",
       "      <th>(0, 1, 1)</th>\n",
       "      <td>0.406289</td>\n",
       "      <td>0.130305</td>\n",
       "      <td>0.231703</td>\n",
       "      <td>0.231703</td>\n",
       "    </tr>\n",
       "    <tr>\n",
       "      <th>(0, 1, 2)</th>\n",
       "      <td>0.228384</td>\n",
       "      <td>0.304732</td>\n",
       "      <td>0.237865</td>\n",
       "      <td>0.229020</td>\n",
       "    </tr>\n",
       "    <tr>\n",
       "      <th>(0, 2, 0)</th>\n",
       "      <td>0.215705</td>\n",
       "      <td>0.267987</td>\n",
       "      <td>0.248320</td>\n",
       "      <td>0.267987</td>\n",
       "    </tr>\n",
       "    <tr>\n",
       "      <th>(0, 2, 1)</th>\n",
       "      <td>0.228384</td>\n",
       "      <td>0.304732</td>\n",
       "      <td>0.229020</td>\n",
       "      <td>0.237865</td>\n",
       "    </tr>\n",
       "    <tr>\n",
       "      <th>(0, 2, 2)</th>\n",
       "      <td>0.268560</td>\n",
       "      <td>0.396776</td>\n",
       "      <td>0.167332</td>\n",
       "      <td>0.167332</td>\n",
       "    </tr>\n",
       "    <tr>\n",
       "      <th>(1, 0, 0)</th>\n",
       "      <td>0.322759</td>\n",
       "      <td>0.098727</td>\n",
       "      <td>0.289257</td>\n",
       "      <td>0.289257</td>\n",
       "    </tr>\n",
       "    <tr>\n",
       "      <th>(1, 0, 1)</th>\n",
       "      <td>0.406289</td>\n",
       "      <td>0.231703</td>\n",
       "      <td>0.130305</td>\n",
       "      <td>0.231703</td>\n",
       "    </tr>\n",
       "    <tr>\n",
       "      <th>(1, 0, 2)</th>\n",
       "      <td>0.228384</td>\n",
       "      <td>0.237865</td>\n",
       "      <td>0.304732</td>\n",
       "      <td>0.229020</td>\n",
       "    </tr>\n",
       "    <tr>\n",
       "      <th>(1, 1, 0)</th>\n",
       "      <td>0.406289</td>\n",
       "      <td>0.231703</td>\n",
       "      <td>0.231703</td>\n",
       "      <td>0.130305</td>\n",
       "    </tr>\n",
       "    <tr>\n",
       "      <th>(1, 1, 1)</th>\n",
       "      <td>0.177947</td>\n",
       "      <td>0.274018</td>\n",
       "      <td>0.274018</td>\n",
       "      <td>0.274018</td>\n",
       "    </tr>\n",
       "    <tr>\n",
       "      <th>(1, 1, 2)</th>\n",
       "      <td>0.343982</td>\n",
       "      <td>0.199984</td>\n",
       "      <td>0.199984</td>\n",
       "      <td>0.256051</td>\n",
       "    </tr>\n",
       "    <tr>\n",
       "      <th>(1, 2, 0)</th>\n",
       "      <td>0.228384</td>\n",
       "      <td>0.237865</td>\n",
       "      <td>0.229020</td>\n",
       "      <td>0.304732</td>\n",
       "    </tr>\n",
       "    <tr>\n",
       "      <th>(1, 2, 1)</th>\n",
       "      <td>0.343982</td>\n",
       "      <td>0.199984</td>\n",
       "      <td>0.256051</td>\n",
       "      <td>0.199984</td>\n",
       "    </tr>\n",
       "    <tr>\n",
       "      <th>(1, 2, 2)</th>\n",
       "      <td>0.175250</td>\n",
       "      <td>0.221149</td>\n",
       "      <td>0.301801</td>\n",
       "      <td>0.301801</td>\n",
       "    </tr>\n",
       "    <tr>\n",
       "      <th>(2, 0, 0)</th>\n",
       "      <td>0.215705</td>\n",
       "      <td>0.248320</td>\n",
       "      <td>0.267987</td>\n",
       "      <td>0.267987</td>\n",
       "    </tr>\n",
       "    <tr>\n",
       "      <th>(2, 0, 1)</th>\n",
       "      <td>0.228384</td>\n",
       "      <td>0.229020</td>\n",
       "      <td>0.304732</td>\n",
       "      <td>0.237865</td>\n",
       "    </tr>\n",
       "    <tr>\n",
       "      <th>(2, 0, 2)</th>\n",
       "      <td>0.268560</td>\n",
       "      <td>0.167332</td>\n",
       "      <td>0.396776</td>\n",
       "      <td>0.167332</td>\n",
       "    </tr>\n",
       "    <tr>\n",
       "      <th>(2, 1, 0)</th>\n",
       "      <td>0.228384</td>\n",
       "      <td>0.229020</td>\n",
       "      <td>0.237865</td>\n",
       "      <td>0.304732</td>\n",
       "    </tr>\n",
       "    <tr>\n",
       "      <th>(2, 1, 1)</th>\n",
       "      <td>0.343982</td>\n",
       "      <td>0.256051</td>\n",
       "      <td>0.199984</td>\n",
       "      <td>0.199984</td>\n",
       "    </tr>\n",
       "    <tr>\n",
       "      <th>(2, 1, 2)</th>\n",
       "      <td>0.175250</td>\n",
       "      <td>0.301801</td>\n",
       "      <td>0.221149</td>\n",
       "      <td>0.301801</td>\n",
       "    </tr>\n",
       "    <tr>\n",
       "      <th>(2, 2, 0)</th>\n",
       "      <td>0.268560</td>\n",
       "      <td>0.167332</td>\n",
       "      <td>0.167332</td>\n",
       "      <td>0.396776</td>\n",
       "    </tr>\n",
       "    <tr>\n",
       "      <th>(2, 2, 1)</th>\n",
       "      <td>0.175250</td>\n",
       "      <td>0.301801</td>\n",
       "      <td>0.301801</td>\n",
       "      <td>0.221149</td>\n",
       "    </tr>\n",
       "    <tr>\n",
       "      <th>(2, 2, 2)</th>\n",
       "      <td>0.311373</td>\n",
       "      <td>0.229542</td>\n",
       "      <td>0.229542</td>\n",
       "      <td>0.229542</td>\n",
       "    </tr>\n",
       "  </tbody>\n",
       "</table>\n",
       "</div>"
      ],
      "text/plain": [
       "                  0         1         2         3\n",
       "(0, 0, 0)  0.149662  0.283446  0.283446  0.283446\n",
       "(0, 0, 1)  0.322759  0.289257  0.289257  0.098727\n",
       "(0, 0, 2)  0.215705  0.267987  0.267987  0.248320\n",
       "(0, 1, 0)  0.322759  0.289257  0.098727  0.289257\n",
       "(0, 1, 1)  0.406289  0.130305  0.231703  0.231703\n",
       "(0, 1, 2)  0.228384  0.304732  0.237865  0.229020\n",
       "(0, 2, 0)  0.215705  0.267987  0.248320  0.267987\n",
       "(0, 2, 1)  0.228384  0.304732  0.229020  0.237865\n",
       "(0, 2, 2)  0.268560  0.396776  0.167332  0.167332\n",
       "(1, 0, 0)  0.322759  0.098727  0.289257  0.289257\n",
       "(1, 0, 1)  0.406289  0.231703  0.130305  0.231703\n",
       "(1, 0, 2)  0.228384  0.237865  0.304732  0.229020\n",
       "(1, 1, 0)  0.406289  0.231703  0.231703  0.130305\n",
       "(1, 1, 1)  0.177947  0.274018  0.274018  0.274018\n",
       "(1, 1, 2)  0.343982  0.199984  0.199984  0.256051\n",
       "(1, 2, 0)  0.228384  0.237865  0.229020  0.304732\n",
       "(1, 2, 1)  0.343982  0.199984  0.256051  0.199984\n",
       "(1, 2, 2)  0.175250  0.221149  0.301801  0.301801\n",
       "(2, 0, 0)  0.215705  0.248320  0.267987  0.267987\n",
       "(2, 0, 1)  0.228384  0.229020  0.304732  0.237865\n",
       "(2, 0, 2)  0.268560  0.167332  0.396776  0.167332\n",
       "(2, 1, 0)  0.228384  0.229020  0.237865  0.304732\n",
       "(2, 1, 1)  0.343982  0.256051  0.199984  0.199984\n",
       "(2, 1, 2)  0.175250  0.301801  0.221149  0.301801\n",
       "(2, 2, 0)  0.268560  0.167332  0.167332  0.396776\n",
       "(2, 2, 1)  0.175250  0.301801  0.301801  0.221149\n",
       "(2, 2, 2)  0.311373  0.229542  0.229542  0.229542"
      ]
     },
     "execution_count": 550,
     "metadata": {},
     "output_type": "execute_result"
    }
   ],
   "source": [
    "# construct the policy\n",
    "perm_policy_list = np.zeros((len(perm_state_list), mrp_data.num_global_states, mrp_data.num_global_actions))\n",
    "\n",
    "for idx in range(len(all_permutation_matrix)):\n",
    "    # get the action permutation matrix\n",
    "    perm_action = np.zeros((params.num_groups+1, params.num_groups+1))\n",
    "    perm_action[0, 0] = 1\n",
    "    perm_action[1:, 1:] = all_permutation_matrix[idx]\n",
    "    temp_policy = np.zeros((mrp_data.num_global_states, mrp_data.num_global_actions))\n",
    "    for s_idx in range(mrp_data.num_global_states):\n",
    "        # get the permutated state index\n",
    "        s_vector = state_int_index_to_vector(state_int_index=s_idx, num_groups=params.num_groups, num_states=params.num_states)\n",
    "        perm_s_vector = np.matmul(s_vector, all_permutation_matrix[idx])\n",
    "        perm_s_idx = state_vector_to_int_index(state_vector=perm_s_vector, num_states=params.num_states)\n",
    "        temp_policy[perm_s_idx, :] = np.matmul(random_policy.iloc[s_idx], perm_action)\n",
    "    perm_policy_list[idx, :, :] = temp_policy\n",
    "bar_policy = np.mean(perm_policy_list, axis=0)\n",
    "bar_policy_pd = pd.DataFrame(bar_policy, index= results.policy.index)\n",
    "bar_policy_pd"
   ]
  },
  {
   "cell_type": "code",
   "execution_count": 455,
   "id": "524b8965-0179-4131-a166-7f98f207a69e",
   "metadata": {},
   "outputs": [],
   "source": [
    "# calculate the state value\n",
    "initial_state_prob = [0] * mrp_data.num_global_states\n",
    "initial_state_prob[0] = 1"
   ]
  },
  {
   "cell_type": "code",
   "execution_count": 445,
   "id": "5a5b6d14-83d2-418d-aa99-29428b973a2f",
   "metadata": {},
   "outputs": [],
   "source": [
    "uniform_state_prob = [1/mrp_data.num_global_states] * mrp_data.num_global_states\n",
    "assert sum(uniform_state_prob) -1 <1e-6"
   ]
  },
  {
   "cell_type": "code",
   "execution_count": 556,
   "id": "12f28994-4f34-455e-b9ec-c5335bae98eb",
   "metadata": {},
   "outputs": [
    {
     "data": {
      "text/plain": [
       "array([8.1338, 8.41  , 8.6231])"
      ]
     },
     "execution_count": 556,
     "metadata": {},
     "output_type": "execute_result"
    }
   ],
   "source": [
    "state_value_list_random = calculate_state_value(\n",
    "    discount=params.gamma,\n",
    "    initial_state_prob=uniform_state_prob,\n",
    "    policy=random_policy.to_numpy(),\n",
    "    reward_or_cost=mrp_data.global_costs,\n",
    "    transition_prob=mrp_data.global_transitions,\n",
    "    time_horizon=params.num_episodes,\n",
    ")\n",
    "state_value_list_random[-1].round(4)"
   ]
  },
  {
   "cell_type": "code",
   "execution_count": 557,
   "id": "f3a2e9cf-408e-4f74-b5cf-d480c9b78ed7",
   "metadata": {},
   "outputs": [
    {
     "data": {
      "text/plain": [
       "array([8.1454, 8.1454, 8.1454])"
      ]
     },
     "execution_count": 557,
     "metadata": {},
     "output_type": "execute_result"
    }
   ],
   "source": [
    "# uniform on all: [1/n] * n\n",
    "# calculate the state value\n",
    "state_value_list_uniform = calculate_state_value(\n",
    "    discount=params.gamma,\n",
    "    initial_state_prob=uniform_state_prob,\n",
    "    policy=bar_policy,\n",
    "    reward_or_cost=mrp_data.global_costs,\n",
    "    transition_prob=mrp_data.global_transitions,\n",
    "    time_horizon=params.num_episodes,\n",
    ")\n",
    "state_value_list_uniform[-1].round(4)"
   ]
  },
  {
   "cell_type": "code",
   "execution_count": 558,
   "id": "fb6a40f1-d93f-487c-b54d-094158884d67",
   "metadata": {},
   "outputs": [
    {
     "data": {
      "text/plain": [
       "8.389"
      ]
     },
     "execution_count": 558,
     "metadata": {},
     "output_type": "execute_result"
    }
   ],
   "source": [
    "np.mean(state_value_list_random[-1]).round(4)"
   ]
  },
  {
   "cell_type": "code",
   "execution_count": 552,
   "id": "7ae59429-f069-43f1-b2af-bf595b37d110",
   "metadata": {},
   "outputs": [
    {
     "data": {
      "text/plain": [
       "array([8.15581473, 8.15581473, 8.15581473])"
      ]
     },
     "execution_count": 552,
     "metadata": {},
     "output_type": "execute_result"
    }
   ],
   "source": [
    "# calculate the state value\n",
    "state_value_list_uniform = calculate_state_value(\n",
    "    discount=params.gamma,\n",
    "    initial_state_prob=uniform_perm_state,\n",
    "    policy=bar_policy,\n",
    "    reward_or_cost=mrp_data.global_costs,\n",
    "    transition_prob=mrp_data.global_transitions,\n",
    "    time_horizon=params.num_episodes,\n",
    ")\n",
    "state_value_list_uniform[-1]"
   ]
  },
  {
   "cell_type": "code",
   "execution_count": 90,
   "id": "c9d0693a-d0ac-4288-89d0-9b266fcd0528",
   "metadata": {},
   "outputs": [
    {
     "data": {
      "text/plain": [
       "array([7.92249035, 7.92249035, 7.92249035])"
      ]
     },
     "execution_count": 90,
     "metadata": {},
     "output_type": "execute_result"
    }
   ],
   "source": [
    "state_value = np.zeros(params.num_groups)\n",
    "num_runs = 100\n",
    "for n in range(num_runs):\n",
    "    bar_policy_pd, state_value_list = construct_bar_policy()\n",
    "    state_value += state_value_list[-1]\n",
    "state_value/num_runs"
   ]
  },
  {
   "cell_type": "markdown",
   "id": "c51164a5-dace-431b-9d62-e44ceffb27d0",
   "metadata": {},
   "source": [
    "#### optimal policy"
   ]
  },
  {
   "cell_type": "code",
   "execution_count": 593,
   "id": "c3db7a66-aeb6-4a55-bdd9-a4040eeffdda",
   "metadata": {},
   "outputs": [
    {
     "name": "stdout",
     "output_type": "stream",
     "text": [
      "Initial distribution:  [0.037037037037037035, 0.037037037037037035, 0.037037037037037035, 0.037037037037037035, 0.037037037037037035, 0.037037037037037035, 0.037037037037037035, 0.037037037037037035, 0.037037037037037035, 0.037037037037037035, 0.037037037037037035, 0.037037037037037035, 0.037037037037037035, 0.037037037037037035, 0.037037037037037035, 0.037037037037037035, 0.037037037037037035, 0.037037037037037035, 0.037037037037037035, 0.037037037037037035, 0.037037037037037035, 0.037037037037037035, 0.037037037037037035, 0.037037037037037035, 0.037037037037037035, 0.037037037037037035, 0.037037037037037035]\n",
      "Solver solving time: 0.1665\n",
      "Number of solutions found: 1\n",
      "Proportion of stochastic policy: 13.79%\n",
      "Policy:                            Var X:              Costs - Group 1 | Group 2                            \n",
      "           0     1     2    3          0       1       2       3           0    1     2     3        0     1    2     3\n",
      "(0, 0, 0)  1     0     0    0     1.2698       0       0       0        0.00  1.0  0.00  0.00     0.00  0.00  1.0  0.00\n",
      "(0, 0, 1)  1     0     0    0     1.5268       0       0       0        0.00  1.0  0.00  0.00     0.00  0.00  1.0  0.00\n",
      "(0, 0, 2)  0     0     0    1          0       0       0  0.4869        0.00  1.0  0.00  0.00     0.00  0.00  1.0  0.00\n",
      "(0, 1, 0)  1     0     0    0     1.5525       0       0       0        0.00  1.0  0.00  0.00     0.17  0.17  1.0  0.17\n",
      "(0, 1, 1)  1     0     0    0     1.8509       0       0       0        0.00  1.0  0.00  0.00     0.17  0.17  1.0  0.17\n",
      "(0, 1, 2)  0     0     0    1          0       0       0  0.4344        0.00  1.0  0.00  0.00     0.17  0.17  1.0  0.17\n",
      "(0, 2, 0)  0     0     1    0          0       0  0.3388       0        0.00  1.0  0.00  0.00     0.67  0.67  1.0  0.67\n",
      "(0, 2, 1)  0     0     1    0          0       0  0.4774       0        0.00  1.0  0.00  0.00     0.67  0.67  1.0  0.67\n",
      "(0, 2, 2)  0     0     1    0          0       0  0.1597       0        0.00  1.0  0.00  0.00     0.67  0.67  1.0  0.67\n",
      "(1, 0, 0)  1     0     0    0     1.5372       0       0       0        0.17  1.0  0.17  0.17     0.00  0.00  1.0  0.00\n",
      "(1, 0, 1)  1     0     0    0     1.8573       0       0       0        0.17  1.0  0.17  0.17     0.00  0.00  1.0  0.00\n",
      "(1, 0, 2)  0     0     0    1          0       0       0   0.437        0.17  1.0  0.17  0.17     0.00  0.00  1.0  0.00\n",
      "(1, 1, 0)  1     0     0    0     1.8415       0       0       0        0.17  1.0  0.17  0.17     0.17  0.17  1.0  0.17\n",
      "(1, 1, 1)  1     0     0    0     2.2086       0       0       0        0.17  1.0  0.17  0.17     0.17  0.17  1.0  0.17\n",
      "(1, 1, 2)  0     0     0    1          0       0       0  0.4768        0.17  1.0  0.17  0.17     0.17  0.17  1.0  0.17\n",
      "(1, 2, 0)  0     0     1    0          0       0  0.4764       0        0.17  1.0  0.17  0.17     0.67  0.67  1.0  0.67\n",
      "(1, 2, 1)  0     0     1    0          0       0  0.5067       0        0.17  1.0  0.17  0.17     0.67  0.67  1.0  0.67\n",
      "(1, 2, 2)  0     0     0    1          0       0       0  0.1349        0.17  1.0  0.17  0.17     0.67  0.67  1.0  0.67\n",
      "(2, 0, 0)  0     1     0    0          0   0.439       0       0        0.67  1.0  0.67  0.67     0.00  0.00  1.0  0.00\n",
      "(2, 0, 1)  0     1     0    0          0   0.425       0       0        0.67  1.0  0.67  0.67     0.00  0.00  1.0  0.00\n",
      "(2, 0, 2)  0   0.8     0  0.2          0  0.0943       0   0.024        0.67  1.0  0.67  0.67     0.00  0.00  1.0  0.00\n",
      "(2, 1, 0)  0     1     0    0          0  0.4951       0       0        0.67  1.0  0.67  0.67     0.17  0.17  1.0  0.17\n",
      "(2, 1, 1)  0     1     0    0          0   0.492       0       0        0.67  1.0  0.67  0.67     0.17  0.17  1.0  0.17\n",
      "(2, 1, 2)  0     0     0    1          0       0       0  0.1245        0.67  1.0  0.67  0.67     0.17  0.17  1.0  0.17\n",
      "(2, 2, 0)  0     0     1    0          0       0  0.1469       0        0.67  1.0  0.67  0.67     0.67  0.67  1.0  0.67\n",
      "(2, 2, 1)  0     1     0    0          0  0.1317       0       0        0.67  1.0  0.67  0.67     0.67  0.67  1.0  0.67\n",
      "(2, 2, 2)  0  0.77  0.23    0          0  0.0414  0.0124       0        0.67  1.0  0.67  0.67     0.67  0.67  1.0  0.67\n",
      "    Var L Var N     Group Costs\n",
      "0  2.2303   0.0          3.9031\n",
      "1  1.1152   0.0          3.9031\n",
      "2  0.5576   0.0          3.9031\n",
      "Var X total: 19.9999\n",
      "GGF Value (DLP) L+N:  3.9031\n",
      "GGF Value (DLP) XC:   3.9031\n"
     ]
    }
   ],
   "source": [
    "s_value_uniform, _, r_uniform = solve_lp_and_calculate_v(print_results=True)"
   ]
  },
  {
   "cell_type": "code",
   "execution_count": 614,
   "id": "4ab1f0c3-b210-4161-bf9f-680b18912fdd",
   "metadata": {},
   "outputs": [
    {
     "name": "stdout",
     "output_type": "stream",
     "text": [
      "             0         1         2         3\n",
      "(0, 0, 0)  1.0  0.000000  0.000000  0.000000\n",
      "(0, 0, 1)  1.0  0.000000  0.000000  0.000000\n",
      "(0, 0, 2)  0.0  0.000000  0.000000  1.000000\n",
      "(0, 1, 0)  1.0  0.000000  0.000000  0.000000\n",
      "(0, 1, 1)  1.0  0.000000  0.000000  0.000000\n",
      "(0, 1, 2)  0.0  0.000000  0.000000  1.000000\n",
      "(0, 2, 0)  0.0  0.000000  1.000000  0.000000\n",
      "(0, 2, 1)  0.0  0.000000  1.000000  0.000000\n",
      "(0, 2, 2)  0.0  0.000000  0.500000  0.500000\n",
      "(1, 0, 0)  1.0  0.000000  0.000000  0.000000\n",
      "(1, 0, 1)  1.0  0.000000  0.000000  0.000000\n",
      "(1, 0, 2)  0.0  0.000000  0.000000  1.000000\n",
      "(1, 1, 0)  1.0  0.000000  0.000000  0.000000\n",
      "(1, 1, 1)  1.0  0.000000  0.000000  0.000000\n",
      "(1, 1, 2)  0.0  0.000000  0.000000  1.000000\n",
      "(1, 2, 0)  0.0  0.000000  1.000000  0.000000\n",
      "(1, 2, 1)  0.0  0.000000  1.000000  0.000000\n",
      "(1, 2, 2)  0.0  0.000000  0.500000  0.500000\n",
      "(2, 0, 0)  0.0  1.000000  0.000000  0.000000\n",
      "(2, 0, 1)  0.0  1.000000  0.000000  0.000000\n",
      "(2, 0, 2)  0.0  0.500000  0.000000  0.500000\n",
      "(2, 1, 0)  0.0  1.000000  0.000000  0.000000\n",
      "(2, 1, 1)  0.0  1.000000  0.000000  0.000000\n",
      "(2, 1, 2)  0.0  0.500000  0.000000  0.500000\n",
      "(2, 2, 0)  0.0  0.500000  0.500000  0.000000\n",
      "(2, 2, 1)  0.0  0.500000  0.500000  0.000000\n",
      "(2, 2, 2)  0.0  0.333333  0.333333  0.333333\n"
     ]
    }
   ],
   "source": [
    "print(bar_policy_star)"
   ]
  },
  {
   "cell_type": "code",
   "execution_count": 607,
   "id": "03beaf9e-2739-48af-9d20-722ef7653018",
   "metadata": {},
   "outputs": [],
   "source": [
    "bar_policy_star, state_value_bar, state_value_star = construct_bar_policy(policy=r_uniform.policy)"
   ]
  },
  {
   "cell_type": "code",
   "execution_count": 611,
   "id": "ee753ca5-3c84-466b-90af-909aabbed583",
   "metadata": {},
   "outputs": [
    {
     "data": {
      "text/plain": [
       "array([3.9031, 3.9031, 3.9031])"
      ]
     },
     "execution_count": 611,
     "metadata": {},
     "output_type": "execute_result"
    }
   ],
   "source": [
    "state_value_bar[-1].round(4)"
   ]
  },
  {
   "cell_type": "code",
   "execution_count": 610,
   "id": "536418d9-51a2-4bc1-af5f-a479657b5109",
   "metadata": {},
   "outputs": [
    {
     "data": {
      "text/plain": [
       "array([3.9031, 3.9031, 3.9031])"
      ]
     },
     "execution_count": 610,
     "metadata": {},
     "output_type": "execute_result"
    }
   ],
   "source": [
    "state_value_star[-1].round(4)"
   ]
  },
  {
   "cell_type": "markdown",
   "id": "5bc334a2-7fc6-466b-918a-2ebdc7105c82",
   "metadata": {},
   "source": [
    "### G([0, 0, 0])"
   ]
  },
  {
   "cell_type": "code",
   "execution_count": 456,
   "id": "c6984557-ccc9-4c83-99c1-b523c6c7c5b1",
   "metadata": {},
   "outputs": [
    {
     "data": {
      "text/plain": [
       "array([7.44818448, 7.44818448, 7.44818448])"
      ]
     },
     "execution_count": 456,
     "metadata": {},
     "output_type": "execute_result"
    }
   ],
   "source": [
    "# calculate the state value\n",
    "state_value_list_uniform = calculate_state_value(\n",
    "    discount=params.gamma,\n",
    "    initial_state_prob=initial_state_prob,\n",
    "    policy=bar_policy,\n",
    "    reward_or_cost=mrp_data.global_costs,\n",
    "    transition_prob=mrp_data.global_transitions,\n",
    "    time_horizon=params.num_episodes,\n",
    ")\n",
    "state_value_list_uniform[-1]"
   ]
  },
  {
   "cell_type": "markdown",
   "id": "a0c1013a-cb95-4e2f-b370-fcc2b26422d4",
   "metadata": {},
   "source": [
    "### G([0, 1, 2])"
   ]
  },
  {
   "cell_type": "code",
   "execution_count": 462,
   "id": "4f83b127-b9c7-4640-a772-a2d6e322a3c7",
   "metadata": {},
   "outputs": [
    {
     "data": {
      "text/plain": [
       "'[0.     0.     0.     0.     0.     0.1667 0.     0.1667 0.     0.\\n 0.     0.1667 0.     0.     0.     0.1667 0.     0.     0.     0.1667\\n 0.     0.1667 0.     0.     0.     0.     0.    ]'"
      ]
     },
     "execution_count": 462,
     "metadata": {},
     "output_type": "execute_result"
    }
   ],
   "source": [
    "str(np.array(uniform_perm_state).round(4))"
   ]
  },
  {
   "cell_type": "code",
   "execution_count": 464,
   "id": "bdf82e17-8eb0-4760-9dcb-18e2478ef6a6",
   "metadata": {},
   "outputs": [
    {
     "data": {
      "text/plain": [
       "'[[0, 0, 0, 0, 0, 1, 0, 0, 0, 0, 0, 0, 0, 0, 0, 0, 0, 0, 0, 0, 0, 0, 0, 0, 0, 0, 0], [0, 0, 0, 0, 0, 0, 0, 1, 0, 0, 0, 0, 0, 0, 0, 0, 0, 0, 0, 0, 0, 0, 0, 0, 0, 0, 0], [0, 0, 0, 0, 0, 0, 0, 0, 0, 0, 0, 1, 0, 0, 0, 0, 0, 0, 0, 0, 0, 0, 0, 0, 0, 0, 0], [0, 0, 0, 0, 0, 0, 0, 0, 0, 0, 0, 0, 0, 0, 0, 0, 0, 0, 0, 1, 0, 0, 0, 0, 0, 0, 0], [0, 0, 0, 0, 0, 0, 0, 0, 0, 0, 0, 0, 0, 0, 0, 1, 0, 0, 0, 0, 0, 0, 0, 0, 0, 0, 0], [0, 0, 0, 0, 0, 0, 0, 0, 0, 0, 0, 0, 0, 0, 0, 0, 0, 0, 0, 0, 0, 1, 0, 0, 0, 0, 0]]'"
      ]
     },
     "execution_count": 464,
     "metadata": {},
     "output_type": "execute_result"
    }
   ],
   "source": [
    "str(unique_state_prob_list)"
   ]
  },
  {
   "cell_type": "code",
   "execution_count": 509,
   "id": "b6c34d42-c018-448e-bc33-24530e86329f",
   "metadata": {},
   "outputs": [
    {
     "data": {
      "text/plain": [
       "array([8.1558, 8.1558, 8.1558])"
      ]
     },
     "execution_count": 509,
     "metadata": {},
     "output_type": "execute_result"
    }
   ],
   "source": [
    "# calculate the state value\n",
    "state_value_list_uniform = calculate_state_value(\n",
    "    discount=params.gamma,\n",
    "    initial_state_prob=uniform_perm_state,\n",
    "    policy=bar_policy,\n",
    "    reward_or_cost=mrp_data.global_costs,\n",
    "    transition_prob=mrp_data.global_transitions,\n",
    "    time_horizon=params.num_episodes,\n",
    ")\n",
    "state_value_list_uniform[-1].round(4)"
   ]
  },
  {
   "cell_type": "code",
   "execution_count": 511,
   "id": "26766cc4-3f71-4676-a587-375b52f8f4bf",
   "metadata": {},
   "outputs": [
    {
     "name": "stdout",
     "output_type": "stream",
     "text": [
      "[7.54856295 8.00548532 8.91339592] Mean: 8.1558\n",
      "[7.54856295 8.91339592 8.00548532] Mean: 8.1558\n",
      "[8.00548532 7.54856295 8.91339592] Mean: 8.1558\n",
      "[8.91339592 7.54856295 8.00548532] Mean: 8.1558\n",
      "[8.00548532 8.91339592 7.54856295] Mean: 8.1558\n",
      "[8.91339592 8.00548532 7.54856295] Mean: 8.1558\n"
     ]
    }
   ],
   "source": [
    "for unique_state_prob in unique_state_prob_list:\n",
    "    state_value_list_unique = calculate_state_value(\n",
    "        discount=params.gamma,\n",
    "        initial_state_prob=unique_state_prob,\n",
    "        policy=bar_policy,\n",
    "        reward_or_cost=mrp_data.global_costs,\n",
    "        transition_prob=mrp_data.global_transitions,\n",
    "        time_horizon=params.num_episodes,\n",
    "    )\n",
    "    print(state_value_list_unique[-1], \"Mean:\", np.mean(state_value_list_unique[-1]).round(4))"
   ]
  },
  {
   "cell_type": "markdown",
   "id": "1f02dcee-ccff-4000-ae50-f79383aef18b",
   "metadata": {},
   "source": [
    "### with bar policy"
   ]
  },
  {
   "cell_type": "code",
   "execution_count": 562,
   "id": "9ca8c3b3-0b57-4fb6-85b0-36043731ad1a",
   "metadata": {},
   "outputs": [
    {
     "name": "stdout",
     "output_type": "stream",
     "text": [
      "[0 0 0] [7.4482 7.4482 7.4482] Mean: 7.4482\n",
      "[0 0 1] [7.4538 7.4538 7.9145] Mean: 7.6074\n",
      "[0 0 2] [7.4653 7.4653 8.875 ] Mean: 7.9352\n",
      "[0 1 0] [7.4538 7.9145 7.4538] Mean: 7.6074\n",
      "[0 1 1] [7.277  7.9745 7.9745] Mean: 7.742\n",
      "[0 1 2] [7.5486 8.0055 8.9134] Mean: 8.1558\n",
      "[0 2 0] [7.4653 8.875  7.4653] Mean: 7.9352\n",
      "[0 2 1] [7.5486 8.9134 8.0055] Mean: 8.1558\n",
      "[0 2 2] [7.748  9.0376 9.0376] Mean: 8.6077\n",
      "[1 0 0] [7.9145 7.4538 7.4538] Mean: 7.6074\n",
      "[1 0 1] [7.9745 7.277  7.9745] Mean: 7.742\n",
      "[1 0 2] [8.0055 7.5486 8.9134] Mean: 8.1558\n",
      "[1 1 0] [7.9745 7.9745 7.277 ] Mean: 7.742\n",
      "[1 1 1] [7.9868 7.9868 7.9868] Mean: 7.9868\n",
      "[1 1 2] [8.0244 8.0244 8.8766] Mean: 8.3085\n",
      "[1 2 0] [8.0055 8.9134 7.5486] Mean: 8.1558\n",
      "[1 2 1] [8.0244 8.8766 8.0244] Mean: 8.3085\n",
      "[1 2 2] [8.0777 8.9097 8.9097] Mean: 8.6323\n",
      "[2 0 0] [8.875  7.4653 7.4653] Mean: 7.9352\n",
      "[2 0 1] [8.9134 7.5486 8.0055] Mean: 8.1558\n",
      "[2 0 2] [9.0376 7.748  9.0376] Mean: 8.6077\n",
      "[2 1 0] [8.9134 8.0055 7.5486] Mean: 8.1558\n",
      "[2 1 1] [8.8766 8.0244 8.0244] Mean: 8.3085\n",
      "[2 1 2] [8.9097 8.0777 8.9097] Mean: 8.6323\n",
      "[2 2 0] [9.0376 9.0376 7.748 ] Mean: 8.6077\n",
      "[2 2 1] [8.9097 8.9097 8.0777] Mean: 8.6323\n",
      "[2 2 2] [9.0565 9.0565 9.0565] Mean: 9.0565\n"
     ]
    }
   ],
   "source": [
    "all_state_values = np.zeros((mrp_data.num_global_states, 3))\n",
    "for state in range(mrp_data.num_global_states):\n",
    "    init_state_temp = [0] * mrp_data.num_global_states\n",
    "    init_state_temp[state] = 1\n",
    "    s_vector = state_int_index_to_vector(state_int_index=state, num_groups=params.num_groups, num_states=params.num_states)\n",
    "    state_value_list_unique = calculate_state_value(\n",
    "        discount=params.gamma,\n",
    "        initial_state_prob=init_state_temp,\n",
    "        policy=bar_policy,\n",
    "        reward_or_cost=mrp_data.global_costs,\n",
    "        transition_prob=mrp_data.global_transitions,\n",
    "        time_horizon=params.num_episodes,\n",
    "    )\n",
    "    all_state_values[state, :] = state_value_list_unique[-1]\n",
    "    print(str(s_vector), state_value_list_unique[-1].round(4), \"Mean:\", np.mean(state_value_list_unique[-1]).round(4))"
   ]
  },
  {
   "cell_type": "code",
   "execution_count": 564,
   "id": "06c395b7-e5e7-4416-8f53-36eaad851f4e",
   "metadata": {},
   "outputs": [
    {
     "data": {
      "text/plain": [
       "8.1454"
      ]
     },
     "execution_count": 564,
     "metadata": {},
     "output_type": "execute_result"
    }
   ],
   "source": [
    "all_state_values.mean().round(4)"
   ]
  },
  {
   "cell_type": "code",
   "execution_count": 622,
   "id": "e9524900-3e15-464a-864f-5be7acec8808",
   "metadata": {},
   "outputs": [
    {
     "data": {
      "text/plain": [
       "array([8.1454, 8.1454, 8.1454])"
      ]
     },
     "execution_count": 622,
     "metadata": {},
     "output_type": "execute_result"
    }
   ],
   "source": [
    "state_value_list_unique = calculate_state_value(\n",
    "        discount=params.gamma,\n",
    "        initial_state_prob=uniform_dist,\n",
    "        policy=bar_policy,\n",
    "        reward_or_cost=mrp_data.global_costs,\n",
    "        transition_prob=mrp_data.global_transitions,\n",
    "        time_horizon=params.num_episodes,\n",
    "    )\n",
    "state_value_list_unique[-1].round(4)"
   ]
  },
  {
   "cell_type": "markdown",
   "id": "a7363297-9a97-406b-9686-008f57144ab0",
   "metadata": {},
   "source": [
    "### with random policy"
   ]
  },
  {
   "cell_type": "code",
   "execution_count": 567,
   "id": "fffa9446-5b41-41e1-9f0f-9aacf3cbeff0",
   "metadata": {},
   "outputs": [
    {
     "name": "stdout",
     "output_type": "stream",
     "text": [
      "[0 0 0] [7.3637 7.7965 7.7618] Mean: 7.6407\n",
      "[0 0 1] [7.4542 7.8609 8.5055] Mean: 7.9402\n",
      "[0 0 2] [ 7.8894  7.4669 10.1456] Mean: 8.5006\n",
      "[0 1 0] [7.4235 8.2235 7.3781] Mean: 7.6751\n",
      "[0 1 1] [7.1421 8.1662 8.395 ] Mean: 7.9011\n",
      "[0 1 2] [ 7.8089  8.1885 10.0465] Mean: 8.6813\n",
      "[0 2 0] [7.2932 9.0344 7.8775] Mean: 8.0684\n",
      "[0 2 1] [7.2873 8.9865 8.5859] Mean: 8.2866\n",
      "[0 2 2] [ 8.3262  8.8799 10.1298] Mean: 9.112\n",
      "[1 0 0] [7.7933 8.1364 7.6135] Mean: 7.8478\n",
      "[1 0 1] [8.0454 7.8312 8.4301] Mean: 8.1022\n",
      "[1 0 2] [8.181  8.0707 9.8528] Mean: 8.7015\n",
      "[1 1 0] [7.8616 8.3645 7.3582] Mean: 7.8615\n",
      "[1 1 1] [7.8887 8.3192 8.3481] Mean: 8.1853\n",
      "[1 1 2] [8.0046 8.2111 9.0679] Mean: 8.4279\n",
      "[1 2 0] [7.7754 9.4474 8.1672] Mean: 8.4634\n",
      "[1 2 1] [8.0114 9.2998 8.555 ] Mean: 8.6221\n",
      "[1 2 2] [8.0552 9.1714 9.4043] Mean: 8.877\n",
      "[2 0 0] [8.6079 8.0614 7.4234] Mean: 8.0309\n",
      "[2 0 1] [9.0625 8.0083 8.3884] Mean: 8.4864\n",
      "[2 0 2] [9.4505 7.5207 9.9847] Mean: 8.9853\n",
      "[2 1 0] [8.3587 8.2765 7.2813] Mean: 7.9722\n",
      "[2 1 1] [8.7493 8.1613 8.3435] Mean: 8.418\n",
      "[2 1 2] [9.1379 8.1482 9.8895] Mean: 9.0586\n",
      "[2 2 0] [8.7568 9.1707 7.8746] Mean: 8.6007\n",
      "[2 2 1] [8.6013 9.2437 8.5569] Mean: 8.8007\n",
      "[2 2 2] [9.2827 9.0245 9.4576] Mean: 9.2549\n"
     ]
    }
   ],
   "source": [
    "all_state_values = np.zeros((mrp_data.num_global_states, 3))\n",
    "for state in range(mrp_data.num_global_states):\n",
    "    init_state_temp = [0] * mrp_data.num_global_states\n",
    "    init_state_temp[state] = 1\n",
    "    s_vector = state_int_index_to_vector(state_int_index=state, num_groups=params.num_groups, num_states=params.num_states)\n",
    "    state_value_list_unique = calculate_state_value(\n",
    "        discount=params.gamma,\n",
    "        initial_state_prob=init_state_temp,\n",
    "        policy=random_policy.to_numpy(),\n",
    "        reward_or_cost=mrp_data.global_costs,\n",
    "        transition_prob=mrp_data.global_transitions,\n",
    "        time_horizon=params.num_episodes,\n",
    "    )\n",
    "    all_state_values[state, :] = state_value_list_unique[-1]\n",
    "    print(str(s_vector), state_value_list_unique[-1].round(4), \"Mean:\", np.mean(state_value_list_unique[-1]).round(4))"
   ]
  },
  {
   "cell_type": "code",
   "execution_count": 568,
   "id": "deb0143f-675f-4074-8d3d-c3a6b1da93ea",
   "metadata": {},
   "outputs": [
    {
     "data": {
      "text/plain": [
       "8.389"
      ]
     },
     "execution_count": 568,
     "metadata": {},
     "output_type": "execute_result"
    }
   ],
   "source": [
    "all_state_values.mean().round(4)"
   ]
  },
  {
   "cell_type": "markdown",
   "id": "d124950d-9623-4d0c-bd53-d271c235db77",
   "metadata": {},
   "source": [
    "### 4.3 Compare random & bar policy"
   ]
  },
  {
   "cell_type": "code",
   "execution_count": 581,
   "id": "9a5d3ee0-f8f4-4422-98da-c57568639cca",
   "metadata": {},
   "outputs": [],
   "source": [
    "num_runs = 1000\n",
    "compare_values = []\n",
    "for n in range(num_runs):\n",
    "    bar_policy_pd, state_value_bar, state_value_random = construct_bar_policy()\n",
    "    compare_values.append(state_value_bar[-1].mean() < state_value_random[-1].mean())"
   ]
  },
  {
   "cell_type": "code",
   "execution_count": 578,
   "id": "e246ac17-db5b-4a91-ad65-3758b85afef7",
   "metadata": {},
   "outputs": [
    {
     "data": {
      "text/plain": [
       "1.0"
      ]
     },
     "execution_count": 578,
     "metadata": {},
     "output_type": "execute_result"
    }
   ],
   "source": [
    "sum(compare_values)/num_runs"
   ]
  },
  {
   "cell_type": "code",
   "execution_count": 638,
   "id": "fdae5a2d-9798-44e1-b688-6bde5ff7a8b4",
   "metadata": {},
   "outputs": [],
   "source": [
    "num_runs = 1000\n",
    "compare_values = []\n",
    "for n in range(num_runs):\n",
    "    bar_policy_pd, random_policy_pd, state_value_bar, state_value_random = construct_bar_policy()\n",
    "    compare_values.append(state_value_bar[-1].mean() < state_value_random[-1].mean())\n",
    "    if state_value_bar[-1].mean() >= state_value_random[-1].mean():\n",
    "        break"
   ]
  },
  {
   "cell_type": "code",
   "execution_count": 639,
   "id": "3f7775ef-e210-4319-95ff-f1e42b1b87d6",
   "metadata": {},
   "outputs": [
    {
     "data": {
      "text/plain": [
       "(8.126911327706697, 8.101100980232673)"
      ]
     },
     "execution_count": 639,
     "metadata": {},
     "output_type": "execute_result"
    }
   ],
   "source": [
    "state_value_bar[-1].mean(), state_value_random[-1].mean()"
   ]
  },
  {
   "cell_type": "code",
   "execution_count": 640,
   "id": "ef725d7d-4681-4262-b1e4-d3c5d7cb284e",
   "metadata": {},
   "outputs": [
    {
     "data": {
      "text/plain": [
       "(array([8.12691133, 8.12691133, 8.12691133]),\n",
       " array([8.90589206, 7.23843433, 8.15897655]))"
      ]
     },
     "execution_count": 640,
     "metadata": {},
     "output_type": "execute_result"
    }
   ],
   "source": [
    "state_value_bar[-1], state_value_random[-1]"
   ]
  },
  {
   "cell_type": "code",
   "execution_count": 641,
   "id": "0e2b1f8f-577f-4d2b-ae61-e6ddf61eb1ae",
   "metadata": {},
   "outputs": [
    {
     "data": {
      "text/html": [
       "<div>\n",
       "<style scoped>\n",
       "    .dataframe tbody tr th:only-of-type {\n",
       "        vertical-align: middle;\n",
       "    }\n",
       "\n",
       "    .dataframe tbody tr th {\n",
       "        vertical-align: top;\n",
       "    }\n",
       "\n",
       "    .dataframe thead th {\n",
       "        text-align: right;\n",
       "    }\n",
       "</style>\n",
       "<table border=\"1\" class=\"dataframe\">\n",
       "  <thead>\n",
       "    <tr style=\"text-align: right;\">\n",
       "      <th></th>\n",
       "      <th>(0, 0, 0)</th>\n",
       "      <th>(1, 0, 0)</th>\n",
       "      <th>(0, 1, 0)</th>\n",
       "      <th>(0, 0, 1)</th>\n",
       "    </tr>\n",
       "  </thead>\n",
       "  <tbody>\n",
       "    <tr>\n",
       "      <th>(0, 0, 0)</th>\n",
       "      <td>0.139402</td>\n",
       "      <td>0.256970</td>\n",
       "      <td>0.317062</td>\n",
       "      <td>0.286567</td>\n",
       "    </tr>\n",
       "    <tr>\n",
       "      <th>(0, 0, 1)</th>\n",
       "      <td>0.357618</td>\n",
       "      <td>0.389503</td>\n",
       "      <td>0.008671</td>\n",
       "      <td>0.244209</td>\n",
       "    </tr>\n",
       "    <tr>\n",
       "      <th>(0, 0, 2)</th>\n",
       "      <td>0.303143</td>\n",
       "      <td>0.381297</td>\n",
       "      <td>0.150488</td>\n",
       "      <td>0.165071</td>\n",
       "    </tr>\n",
       "    <tr>\n",
       "      <th>(0, 1, 0)</th>\n",
       "      <td>0.083932</td>\n",
       "      <td>0.235068</td>\n",
       "      <td>0.446261</td>\n",
       "      <td>0.234738</td>\n",
       "    </tr>\n",
       "    <tr>\n",
       "      <th>(0, 1, 1)</th>\n",
       "      <td>0.194765</td>\n",
       "      <td>0.234134</td>\n",
       "      <td>0.286704</td>\n",
       "      <td>0.284397</td>\n",
       "    </tr>\n",
       "    <tr>\n",
       "      <th>(0, 1, 2)</th>\n",
       "      <td>0.216885</td>\n",
       "      <td>0.322832</td>\n",
       "      <td>0.316023</td>\n",
       "      <td>0.144259</td>\n",
       "    </tr>\n",
       "    <tr>\n",
       "      <th>(0, 2, 0)</th>\n",
       "      <td>0.125640</td>\n",
       "      <td>0.416459</td>\n",
       "      <td>0.050567</td>\n",
       "      <td>0.407334</td>\n",
       "    </tr>\n",
       "    <tr>\n",
       "      <th>(0, 2, 1)</th>\n",
       "      <td>0.251674</td>\n",
       "      <td>0.301436</td>\n",
       "      <td>0.310614</td>\n",
       "      <td>0.136276</td>\n",
       "    </tr>\n",
       "    <tr>\n",
       "      <th>(0, 2, 2)</th>\n",
       "      <td>0.010334</td>\n",
       "      <td>0.131720</td>\n",
       "      <td>0.543060</td>\n",
       "      <td>0.314886</td>\n",
       "    </tr>\n",
       "    <tr>\n",
       "      <th>(1, 0, 0)</th>\n",
       "      <td>0.210344</td>\n",
       "      <td>0.344319</td>\n",
       "      <td>0.307534</td>\n",
       "      <td>0.137803</td>\n",
       "    </tr>\n",
       "    <tr>\n",
       "      <th>(1, 0, 1)</th>\n",
       "      <td>0.177940</td>\n",
       "      <td>0.403223</td>\n",
       "      <td>0.015706</td>\n",
       "      <td>0.403131</td>\n",
       "    </tr>\n",
       "    <tr>\n",
       "      <th>(1, 0, 2)</th>\n",
       "      <td>0.227710</td>\n",
       "      <td>0.333336</td>\n",
       "      <td>0.265744</td>\n",
       "      <td>0.173210</td>\n",
       "    </tr>\n",
       "    <tr>\n",
       "      <th>(1, 1, 0)</th>\n",
       "      <td>0.356579</td>\n",
       "      <td>0.322108</td>\n",
       "      <td>0.190087</td>\n",
       "      <td>0.131226</td>\n",
       "    </tr>\n",
       "    <tr>\n",
       "      <th>(1, 1, 1)</th>\n",
       "      <td>0.164849</td>\n",
       "      <td>0.415262</td>\n",
       "      <td>0.369349</td>\n",
       "      <td>0.050539</td>\n",
       "    </tr>\n",
       "    <tr>\n",
       "      <th>(1, 1, 2)</th>\n",
       "      <td>0.603600</td>\n",
       "      <td>0.008052</td>\n",
       "      <td>0.322153</td>\n",
       "      <td>0.066194</td>\n",
       "    </tr>\n",
       "    <tr>\n",
       "      <th>(1, 2, 0)</th>\n",
       "      <td>0.220652</td>\n",
       "      <td>0.368058</td>\n",
       "      <td>0.205821</td>\n",
       "      <td>0.205470</td>\n",
       "    </tr>\n",
       "    <tr>\n",
       "      <th>(1, 2, 1)</th>\n",
       "      <td>0.011236</td>\n",
       "      <td>0.325018</td>\n",
       "      <td>0.282015</td>\n",
       "      <td>0.381732</td>\n",
       "    </tr>\n",
       "    <tr>\n",
       "      <th>(1, 2, 2)</th>\n",
       "      <td>0.423145</td>\n",
       "      <td>0.122231</td>\n",
       "      <td>0.093881</td>\n",
       "      <td>0.360743</td>\n",
       "    </tr>\n",
       "    <tr>\n",
       "      <th>(2, 0, 0)</th>\n",
       "      <td>0.378073</td>\n",
       "      <td>0.220316</td>\n",
       "      <td>0.041559</td>\n",
       "      <td>0.360052</td>\n",
       "    </tr>\n",
       "    <tr>\n",
       "      <th>(2, 0, 1)</th>\n",
       "      <td>0.427551</td>\n",
       "      <td>0.102706</td>\n",
       "      <td>0.166924</td>\n",
       "      <td>0.302820</td>\n",
       "    </tr>\n",
       "    <tr>\n",
       "      <th>(2, 0, 2)</th>\n",
       "      <td>0.330492</td>\n",
       "      <td>0.167267</td>\n",
       "      <td>0.156863</td>\n",
       "      <td>0.345378</td>\n",
       "    </tr>\n",
       "    <tr>\n",
       "      <th>(2, 1, 0)</th>\n",
       "      <td>0.319864</td>\n",
       "      <td>0.123207</td>\n",
       "      <td>0.501011</td>\n",
       "      <td>0.055919</td>\n",
       "    </tr>\n",
       "    <tr>\n",
       "      <th>(2, 1, 1)</th>\n",
       "      <td>0.172471</td>\n",
       "      <td>0.297395</td>\n",
       "      <td>0.283922</td>\n",
       "      <td>0.246212</td>\n",
       "    </tr>\n",
       "    <tr>\n",
       "      <th>(2, 1, 2)</th>\n",
       "      <td>0.240019</td>\n",
       "      <td>0.301192</td>\n",
       "      <td>0.172603</td>\n",
       "      <td>0.286186</td>\n",
       "    </tr>\n",
       "    <tr>\n",
       "      <th>(2, 2, 0)</th>\n",
       "      <td>0.196650</td>\n",
       "      <td>0.274410</td>\n",
       "      <td>0.387863</td>\n",
       "      <td>0.141077</td>\n",
       "    </tr>\n",
       "    <tr>\n",
       "      <th>(2, 2, 1)</th>\n",
       "      <td>0.038955</td>\n",
       "      <td>0.217536</td>\n",
       "      <td>0.263011</td>\n",
       "      <td>0.480497</td>\n",
       "    </tr>\n",
       "    <tr>\n",
       "      <th>(2, 2, 2)</th>\n",
       "      <td>0.011949</td>\n",
       "      <td>0.396634</td>\n",
       "      <td>0.434098</td>\n",
       "      <td>0.157320</td>\n",
       "    </tr>\n",
       "  </tbody>\n",
       "</table>\n",
       "</div>"
      ],
      "text/plain": [
       "           (0, 0, 0)  (1, 0, 0)  (0, 1, 0)  (0, 0, 1)\n",
       "(0, 0, 0)   0.139402   0.256970   0.317062   0.286567\n",
       "(0, 0, 1)   0.357618   0.389503   0.008671   0.244209\n",
       "(0, 0, 2)   0.303143   0.381297   0.150488   0.165071\n",
       "(0, 1, 0)   0.083932   0.235068   0.446261   0.234738\n",
       "(0, 1, 1)   0.194765   0.234134   0.286704   0.284397\n",
       "(0, 1, 2)   0.216885   0.322832   0.316023   0.144259\n",
       "(0, 2, 0)   0.125640   0.416459   0.050567   0.407334\n",
       "(0, 2, 1)   0.251674   0.301436   0.310614   0.136276\n",
       "(0, 2, 2)   0.010334   0.131720   0.543060   0.314886\n",
       "(1, 0, 0)   0.210344   0.344319   0.307534   0.137803\n",
       "(1, 0, 1)   0.177940   0.403223   0.015706   0.403131\n",
       "(1, 0, 2)   0.227710   0.333336   0.265744   0.173210\n",
       "(1, 1, 0)   0.356579   0.322108   0.190087   0.131226\n",
       "(1, 1, 1)   0.164849   0.415262   0.369349   0.050539\n",
       "(1, 1, 2)   0.603600   0.008052   0.322153   0.066194\n",
       "(1, 2, 0)   0.220652   0.368058   0.205821   0.205470\n",
       "(1, 2, 1)   0.011236   0.325018   0.282015   0.381732\n",
       "(1, 2, 2)   0.423145   0.122231   0.093881   0.360743\n",
       "(2, 0, 0)   0.378073   0.220316   0.041559   0.360052\n",
       "(2, 0, 1)   0.427551   0.102706   0.166924   0.302820\n",
       "(2, 0, 2)   0.330492   0.167267   0.156863   0.345378\n",
       "(2, 1, 0)   0.319864   0.123207   0.501011   0.055919\n",
       "(2, 1, 1)   0.172471   0.297395   0.283922   0.246212\n",
       "(2, 1, 2)   0.240019   0.301192   0.172603   0.286186\n",
       "(2, 2, 0)   0.196650   0.274410   0.387863   0.141077\n",
       "(2, 2, 1)   0.038955   0.217536   0.263011   0.480497\n",
       "(2, 2, 2)   0.011949   0.396634   0.434098   0.157320"
      ]
     },
     "execution_count": 641,
     "metadata": {},
     "output_type": "execute_result"
    }
   ],
   "source": [
    "random_policy_pd"
   ]
  },
  {
   "cell_type": "markdown",
   "id": "39121521-3695-4785-8e6e-387a661e9c07",
   "metadata": {},
   "source": [
    "# 5. Value Function"
   ]
  },
  {
   "cell_type": "code",
   "execution_count": 30,
   "id": "368f7292-7e16-4a09-bd70-434482a65fee",
   "metadata": {},
   "outputs": [
    {
     "name": "stdout",
     "output_type": "stream",
     "text": [
      "Initial distribution:  [0, 0, 0, 0, 0, 0.16666666666666666, 0, 0.16666666666666666, 0, 0, 0, 0.16666666666666666, 0, 0, 0, 0.16666666666666666, 0, 0, 0, 0.16666666666666666, 0, 0.16666666666666666, 0, 0, 0, 0, 0]\n",
      "Solver solving time: 0.0431\n",
      "Number of solutions found: 1\n",
      "Proportion of stochastic policy: 13.79%\n",
      "Policy:                            Var X:              Costs - Group 1 | Group 2                            \n",
      "           0     1     2     3          0       1       2       3           0    1     2     3        0     1    2     3\n",
      "(0, 0, 0)  1     0     0     0     1.0968       0       0       0        0.00  1.0  0.00  0.00     0.00  0.00  1.0  0.00\n",
      "(0, 0, 1)  1     0     0     0     1.5997       0       0       0        0.00  1.0  0.00  0.00     0.00  0.00  1.0  0.00\n",
      "(0, 0, 2)  0     0     0     1          0       0       0  0.4319        0.00  1.0  0.00  0.00     0.00  0.00  1.0  0.00\n",
      "(0, 1, 0)  1     0     0     0     1.6072       0       0       0        0.00  1.0  0.00  0.00     0.17  0.17  1.0  0.17\n",
      "(0, 1, 1)  1     0     0     0     1.8498       0       0       0        0.00  1.0  0.00  0.00     0.17  0.17  1.0  0.17\n",
      "(0, 1, 2)  0     0     0     1          0       0       0  0.5554        0.00  1.0  0.00  0.00     0.17  0.17  1.0  0.17\n",
      "(0, 2, 0)  0     0     1     0          0       0  0.3907       0        0.00  1.0  0.00  0.00     0.67  0.67  1.0  0.67\n",
      "(0, 2, 1)  0     0     1     0          0       0  0.5435       0        0.00  1.0  0.00  0.00     0.67  0.67  1.0  0.67\n",
      "(0, 2, 2)  0     0     1     0          0       0  0.0747       0        0.00  1.0  0.00  0.00     0.67  0.67  1.0  0.67\n",
      "(1, 0, 0)  1     0     0     0     1.6163       0       0       0        0.17  1.0  0.17  0.17     0.00  0.00  1.0  0.00\n",
      "(1, 0, 1)  1     0     0     0     1.8449       0       0       0        0.17  1.0  0.17  0.17     0.00  0.00  1.0  0.00\n",
      "(1, 0, 2)  0     0     0     1          0       0       0   0.552        0.17  1.0  0.17  0.17     0.00  0.00  1.0  0.00\n",
      "(1, 1, 0)  1     0     0     0     1.8398       0       0       0        0.17  1.0  0.17  0.17     0.17  0.17  1.0  0.17\n",
      "(1, 1, 1)  1     0     0     0     2.1404       0       0       0        0.17  1.0  0.17  0.17     0.17  0.17  1.0  0.17\n",
      "(1, 1, 2)  0     0     0     1          0       0       0  0.4268        0.17  1.0  0.17  0.17     0.17  0.17  1.0  0.17\n",
      "(1, 2, 0)  0     0     1     0          0       0  0.5909       0        0.17  1.0  0.17  0.17     0.67  0.67  1.0  0.67\n",
      "(1, 2, 1)  0     0     1     0          0       0  0.4361       0        0.17  1.0  0.17  0.17     0.67  0.67  1.0  0.67\n",
      "(1, 2, 2)  0     0     0     1          0       0       0  0.0837        0.17  1.0  0.17  0.17     0.67  0.67  1.0  0.67\n",
      "(2, 0, 0)  0     1     0     0          0  0.3355       0       0        0.67  1.0  0.67  0.67     0.00  0.00  1.0  0.00\n",
      "(2, 0, 1)  0     1     0     0          0  0.5819       0       0        0.67  1.0  0.67  0.67     0.00  0.00  1.0  0.00\n",
      "(2, 0, 2)  0     1     0     0          0  0.0907       0       0        0.67  1.0  0.67  0.67     0.00  0.00  1.0  0.00\n",
      "(2, 1, 0)  0     1     0     0          0  0.5779       0       0        0.67  1.0  0.67  0.67     0.17  0.17  1.0  0.17\n",
      "(2, 1, 1)  0     1     0     0          0  0.4459       0       0        0.67  1.0  0.67  0.67     0.17  0.17  1.0  0.17\n",
      "(2, 1, 2)  0  0.03     0  0.97          0  0.0026       0  0.0852        0.67  1.0  0.67  0.67     0.17  0.17  1.0  0.17\n",
      "(2, 2, 0)  0     1     0     0          0  0.0946       0       0        0.67  1.0  0.67  0.67     0.67  0.67  1.0  0.67\n",
      "(2, 2, 1)  0     0     1     0          0       0  0.0887       0        0.67  1.0  0.67  0.67     0.67  0.67  1.0  0.67\n",
      "(2, 2, 2)  0  0.36  0.64     0          0  0.0059  0.0104       0        0.67  1.0  0.67  0.67     0.67  0.67  1.0  0.67\n",
      "    Var L Var N     Group Costs\n",
      "0  2.1979   0.0          3.8463\n",
      "1   1.099   0.0          3.8463\n",
      "2  0.5495   0.0          3.8463\n",
      "Var X total: 19.9999\n",
      "GGF Value (DLP) L+N:  3.8464\n",
      "GGF Value (DLP) XC:   3.8463\n"
     ]
    }
   ],
   "source": [
    "# calculate LP values\n",
    "model = build_dlp(mdp=mdp, initial_mu=uniform_perm_state)\n",
    "# Solve the GGF model\n",
    "_, model, _ = solve_dlp(model=model)\n",
    "results = extract_dlp(model=model, print_results=True)"
   ]
  },
  {
   "cell_type": "code",
   "execution_count": 31,
   "id": "4db6bf3b-3a33-437f-83a7-9cada54837cf",
   "metadata": {},
   "outputs": [
    {
     "name": "stdout",
     "output_type": "stream",
     "text": [
      "Initial distribution:  [0, 0, 0, 0, 0, 0.16666666666666666, 0, 0.16666666666666666, 0, 0, 0, 0.16666666666666666, 0, 0, 0, 0.16666666666666666, 0, 0, 0, 0.16666666666666666, 0, 0.16666666666666666, 0, 0, 0, 0, 0]\n",
      "Solver solving time: 0.0266\n",
      "Number of solutions found: 1\n",
      "Proportion of stochastic policy: 13.79%\n",
      "Policy:                            Var X:              Costs - Group 1 | Group 2                            \n",
      "           0     1     2     3          0       1       2       3           0    1     2     3        0     1    2     3\n",
      "(0, 0, 0)  1     0     0     0     1.0968       0       0       0        0.00  1.0  0.00  0.00     0.00  0.00  1.0  0.00\n",
      "(0, 0, 1)  1     0     0     0     1.5997       0       0       0        0.00  1.0  0.00  0.00     0.00  0.00  1.0  0.00\n",
      "(0, 0, 2)  0     0     0     1          0       0       0  0.4319        0.00  1.0  0.00  0.00     0.00  0.00  1.0  0.00\n",
      "(0, 1, 0)  1     0     0     0     1.6072       0       0       0        0.00  1.0  0.00  0.00     0.17  0.17  1.0  0.17\n",
      "(0, 1, 1)  1     0     0     0     1.8498       0       0       0        0.00  1.0  0.00  0.00     0.17  0.17  1.0  0.17\n",
      "(0, 1, 2)  0     0     0     1          0       0       0  0.5554        0.00  1.0  0.00  0.00     0.17  0.17  1.0  0.17\n",
      "(0, 2, 0)  0     0     1     0          0       0  0.3907       0        0.00  1.0  0.00  0.00     0.67  0.67  1.0  0.67\n",
      "(0, 2, 1)  0     0     1     0          0       0  0.5435       0        0.00  1.0  0.00  0.00     0.67  0.67  1.0  0.67\n",
      "(0, 2, 2)  0     0     1     0          0       0  0.0747       0        0.00  1.0  0.00  0.00     0.67  0.67  1.0  0.67\n",
      "(1, 0, 0)  1     0     0     0     1.6163       0       0       0        0.17  1.0  0.17  0.17     0.00  0.00  1.0  0.00\n",
      "(1, 0, 1)  1     0     0     0     1.8449       0       0       0        0.17  1.0  0.17  0.17     0.00  0.00  1.0  0.00\n",
      "(1, 0, 2)  0     0     0     1          0       0       0   0.552        0.17  1.0  0.17  0.17     0.00  0.00  1.0  0.00\n",
      "(1, 1, 0)  1     0     0     0     1.8398       0       0       0        0.17  1.0  0.17  0.17     0.17  0.17  1.0  0.17\n",
      "(1, 1, 1)  1     0     0     0     2.1404       0       0       0        0.17  1.0  0.17  0.17     0.17  0.17  1.0  0.17\n",
      "(1, 1, 2)  0     0     0     1          0       0       0  0.4268        0.17  1.0  0.17  0.17     0.17  0.17  1.0  0.17\n",
      "(1, 2, 0)  0     0     1     0          0       0  0.5909       0        0.17  1.0  0.17  0.17     0.67  0.67  1.0  0.67\n",
      "(1, 2, 1)  0     0     1     0          0       0  0.4361       0        0.17  1.0  0.17  0.17     0.67  0.67  1.0  0.67\n",
      "(1, 2, 2)  0     0     0     1          0       0       0  0.0837        0.17  1.0  0.17  0.17     0.67  0.67  1.0  0.67\n",
      "(2, 0, 0)  0     1     0     0          0  0.3355       0       0        0.67  1.0  0.67  0.67     0.00  0.00  1.0  0.00\n",
      "(2, 0, 1)  0     1     0     0          0  0.5819       0       0        0.67  1.0  0.67  0.67     0.00  0.00  1.0  0.00\n",
      "(2, 0, 2)  0     1     0     0          0  0.0907       0       0        0.67  1.0  0.67  0.67     0.00  0.00  1.0  0.00\n",
      "(2, 1, 0)  0     1     0     0          0  0.5779       0       0        0.67  1.0  0.67  0.67     0.17  0.17  1.0  0.17\n",
      "(2, 1, 1)  0     1     0     0          0  0.4459       0       0        0.67  1.0  0.67  0.67     0.17  0.17  1.0  0.17\n",
      "(2, 1, 2)  0  0.03     0  0.97          0  0.0026       0  0.0852        0.67  1.0  0.67  0.67     0.17  0.17  1.0  0.17\n",
      "(2, 2, 0)  0     1     0     0          0  0.0946       0       0        0.67  1.0  0.67  0.67     0.67  0.67  1.0  0.67\n",
      "(2, 2, 1)  0     0     1     0          0       0  0.0887       0        0.67  1.0  0.67  0.67     0.67  0.67  1.0  0.67\n",
      "(2, 2, 2)  0  0.36  0.64     0          0  0.0059  0.0104       0        0.67  1.0  0.67  0.67     0.67  0.67  1.0  0.67\n",
      "    Var L Var N     Group Costs\n",
      "0  2.1979   0.0          3.8463\n",
      "1   1.099   0.0          3.8463\n",
      "2  0.5495   0.0          3.8463\n",
      "Var X total: 19.9999\n",
      "GGF Value (DLP) L+N:  3.8464\n",
      "GGF Value (DLP) XC:   3.8463\n"
     ]
    }
   ],
   "source": [
    "# calculate LP values\n",
    "model_no_GGF = build_dlp(mdp=mdpnoGGF, initial_mu=uniform_perm_state)\n",
    "# Solve the GGF model\n",
    "_, model_no_GGF, _ = solve_dlp(model=model_no_GGF)\n",
    "results = extract_dlp(model=model_no_GGF, print_results=True)"
   ]
  }
 ],
 "metadata": {
  "kernelspec": {
   "display_name": "Python 3 (ipykernel)",
   "language": "python",
   "name": "python3"
  },
  "language_info": {
   "codemirror_mode": {
    "name": "ipython",
    "version": 3
   },
   "file_extension": ".py",
   "mimetype": "text/x-python",
   "name": "python",
   "nbconvert_exporter": "python",
   "pygments_lexer": "ipython3",
   "version": "3.9.6"
  }
 },
 "nbformat": 4,
 "nbformat_minor": 5
}
