{
 "cells": [
  {
   "cell_type": "markdown",
   "id": "60e91b20-0cbd-44f9-8f9d-56f8226df73b",
   "metadata": {},
   "source": [
    "# 1. Set-up"
   ]
  },
  {
   "cell_type": "code",
   "execution_count": 1,
   "id": "899219ad-3a88-4f83-8001-ee2f9accd01c",
   "metadata": {
    "is_executing": true
   },
   "outputs": [
    {
     "name": "stdout",
     "output_type": "stream",
     "text": [
      "/Users/xiaohui/Documents/Code/Fair-RL\n"
     ]
    },
    {
     "name": "stderr",
     "output_type": "stream",
     "text": [
      "/Users/xiaohui/Documents/Code/Fair-RL/venv/lib/python3.9/site-packages/IPython/core/magics/osm.py:417: UserWarning: using dhist requires you to install the `pickleshare` library.\n",
      "  self.shell.db['dhist'] = compress_dhist(dhist)[-100:]\n"
     ]
    }
   ],
   "source": [
    "# a temporary solution, run to set the current path as '../Fair-RL'\n",
    "%cd .."
   ]
  },
  {
   "cell_type": "code",
   "execution_count": 2,
   "id": "1d16d185-de5b-4449-9639-7e15044b09e0",
   "metadata": {},
   "outputs": [],
   "source": [
    "# used to auto-reload imported module after making modification inside .py files\n",
    "%load_ext autoreload\n",
    "%autoreload 2"
   ]
  },
  {
   "cell_type": "markdown",
   "id": "9fa9a5d8-a763-4922-8f1b-178f05a5f8ad",
   "metadata": {},
   "source": [
    "## 1.1 imports"
   ]
  },
  {
   "cell_type": "code",
   "execution_count": 3,
   "id": "c02aac6a-70a6-4386-9710-a077d33049aa",
   "metadata": {},
   "outputs": [],
   "source": [
    "from experiments.configs.base import params\n",
    "from env.mrp_env_rccc import MachineReplacement\n",
    "from solver.ggf_dlp import build_dlp, extract_dlp, solve_dlp\n",
    "from utils.common import MDP4LP\n",
    "from utils.mrp import MRPData\n",
    "from utils.policy import calculate_state_value\n",
    "import pandas as pd\n",
    "import numpy as np\n",
    "from utils.encoding import state_vector_to_int_index, state_int_index_to_vector\n",
    "import matplotlib.pyplot as plt\n",
    "import seaborn as sns"
   ]
  },
  {
   "cell_type": "code",
   "execution_count": 5,
   "id": "c48cd94a-8aab-47a4-821d-448b632628f2",
   "metadata": {},
   "outputs": [],
   "source": [
    "# set parameters\n",
    "params.num_actions = 2\n",
    "params.num_states = 3\n",
    "params.num_groups = 5\n",
    "\n",
    "mrp_data = MRPData(\n",
    "    num_groups=params.num_groups,\n",
    "    num_states=params.num_states,\n",
    "    num_actions=params.num_actions,\n",
    "    prob_remain=params.prob_remain,\n",
    "    weight_type=params.weight_type,\n",
    "    cost_types_operation=params.cost_type_operation,\n",
    "    cost_types_replace=params.cost_type_replace,\n",
    ")\n",
    "\n",
    "mdp = MDP4LP(\n",
    "    num_states=mrp_data.num_global_states,\n",
    "    num_actions=mrp_data.num_global_actions,\n",
    "    num_groups=mrp_data.num_groups,\n",
    "    transition=mrp_data.global_transitions,\n",
    "    costs=mrp_data.global_costs,\n",
    "    discount=params.gamma,\n",
    "    weights=mrp_data.weights,\n",
    "    minimize=True,\n",
    "    encoding_int=False,\n",
    "    base_num_states=params.num_states,\n",
    ")"
   ]
  },
  {
   "cell_type": "code",
   "execution_count": null,
   "id": "d6816b7b-0b8b-4685-a155-db05fb9acb7c",
   "metadata": {},
   "outputs": [],
   "source": []
  },
  {
   "cell_type": "code",
   "execution_count": 39,
   "id": "85a3e82c-b68f-4699-b48b-35af2d85911f",
   "metadata": {},
   "outputs": [],
   "source": [
    "params.weight_type = 'exponential3'"
   ]
  },
  {
   "cell_type": "code",
   "execution_count": 8,
   "id": "f545122c-e5e2-4525-a574-25b7eafcc967",
   "metadata": {},
   "outputs": [],
   "source": [
    "# set parameters\n",
    "params.num_actions = 2\n",
    "params.num_states = 3\n",
    "params.num_groups = 2\n",
    "\n",
    "mrp_data = MRPData(\n",
    "    num_groups=params.num_groups,\n",
    "    num_states=params.num_states,\n",
    "    num_actions=params.num_actions,\n",
    "    prob_remain=params.prob_remain,\n",
    "    weight_type=params.weight_type,\n",
    "    cost_types_operation=\"quadratic\",\n",
    "    cost_types_replace=\"zero\",\n",
    ")\n",
    "\n",
    "mdp = MDP4LP(\n",
    "    num_states=mrp_data.num_global_states,\n",
    "    num_actions=mrp_data.num_global_actions,\n",
    "    num_groups=mrp_data.num_groups,\n",
    "    transition=mrp_data.global_transitions,\n",
    "    costs=mrp_data.global_costs,\n",
    "    discount=params.gamma,\n",
    "    weights=mrp_data.weights,\n",
    "    minimize=True,\n",
    "    encoding_int=False,\n",
    "    base_num_states=params.num_states,\n",
    ")"
   ]
  },
  {
   "cell_type": "code",
   "execution_count": 9,
   "id": "3abda9b7-8dbb-4d25-aa71-c639afa24a7f",
   "metadata": {},
   "outputs": [
    {
     "name": "stdout",
     "output_type": "stream",
     "text": [
      "Initial distribution:  [0.1111111111111111, 0.1111111111111111, 0.1111111111111111, 0.1111111111111111, 0.1111111111111111, 0.1111111111111111, 0.1111111111111111, 0.1111111111111111, 0.1111111111111111]\n",
      "Solver solving time: 0.0538\n",
      "Number of solutions found: 1\n",
      "Proportion of stochastic policy: 20.0%\n",
      "Policy:                        Var X:            Costs - Group 1 | Group 2                        \n",
      "        0     1     2     0       1        2           0    1     2        0     1    2\n",
      "(0, 0)  0     0     1     0       0  11.4075        0.00  0.0  0.00     0.00  0.00  0.0\n",
      "(0, 1)  0     0     1     0       0   3.4683        0.00  0.0  0.00     0.25  0.25  0.0\n",
      "(0, 2)  0     0     1     0       0   0.2444        0.00  0.0  0.00     1.00  1.00  0.0\n",
      "(1, 0)  0     1     0     0  3.1981        0        0.25  0.0  0.25     0.00  0.00  0.0\n",
      "(1, 1)  0  0.72  0.28     0  0.7282    0.288        0.25  0.0  0.25     0.25  0.25  0.0\n",
      "(1, 2)  0     0     1     0       0   0.1444        0.25  0.0  0.25     1.00  1.00  0.0\n",
      "(2, 0)  0     1     0     0  0.2613        0        1.00  0.0  1.00     0.00  0.00  0.0\n",
      "(2, 1)  0     1     0     0  0.1487        0        1.00  0.0  1.00     0.25  0.25  0.0\n",
      "(2, 2)  0     0     1     0       0   0.1111        1.00  0.0  1.00     1.00  1.00  0.0\n",
      "    Var L Var N     Group Costs\n",
      "0  0.1461   0.0          0.2192\n",
      "1  0.0731   0.0          0.2192\n",
      "Var X total: 20.000000000000004\n",
      "GGF Value (DLP) L+N:  0.2192\n",
      "GGF Value (DLP) XC:   0.2192\n"
     ]
    }
   ],
   "source": [
    "# calculate LP values\n",
    "uniform_dist = [1 / mrp_data.num_global_states for i in range(mrp_data.num_global_states)]\n",
    "model = build_dlp(mdp=mdp, initial_mu=uniform_dist)\n",
    "# Solve the GGF model\n",
    "_, model, _ = solve_dlp(model=model)\n",
    "results = extract_dlp(model=model, print_results=True)"
   ]
  },
  {
   "cell_type": "code",
   "execution_count": 41,
   "id": "cb6ede09-56df-4816-82b4-fc4449393ec3",
   "metadata": {},
   "outputs": [
    {
     "name": "stdout",
     "output_type": "stream",
     "text": [
      "Initial distribution:  [0.1111111111111111, 0.1111111111111111, 0.1111111111111111, 0.1111111111111111, 0.1111111111111111, 0.1111111111111111, 0.1111111111111111, 0.1111111111111111, 0.1111111111111111]\n",
      "Solver solving time: 0.0085\n",
      "Number of solutions found: 1\n",
      "Proportion of stochastic policy: 20.0%\n",
      "Policy:                        Var X:            Costs - Group 1 | Group 2                        \n",
      "        0    1    2          0       1       2           0    1     2        0     1    2\n",
      "(0, 0)  1    0    0     3.2918       0       0        0.00  1.0  0.00     0.00  0.00  1.0\n",
      "(0, 1)  1    0    0     3.9055       0       0        0.00  1.0  0.00     0.17  0.17  1.0\n",
      "(0, 2)  0    0    1          0       0  0.9698        0.00  1.0  0.00     0.67  0.67  1.0\n",
      "(1, 0)  1    0    0     3.9055       0       0        0.17  1.0  0.17     0.00  0.00  1.0\n",
      "(1, 1)  1    0    0     4.6161       0       0        0.17  1.0  0.17     0.17  0.17  1.0\n",
      "(1, 2)  0    0    1          0       0  1.0274        0.17  1.0  0.17     0.67  0.67  1.0\n",
      "(2, 0)  0    1    0          0  0.9698       0        0.67  1.0  0.67     0.00  0.00  1.0\n",
      "(2, 1)  0    1    0          0  1.0274       0        0.67  1.0  0.67     0.17  0.17  1.0\n",
      "(2, 2)  0  0.5  0.5          0  0.1433  0.1433        0.67  1.0  0.67     0.67  0.67  1.0\n",
      "    Var L Var N     Group Costs\n",
      "0  2.8706   0.0          3.8275\n",
      "1  0.9569   0.0          3.8275\n",
      "Var X total: 19.9999\n",
      "GGF Value (DLP) L+N:  3.8275\n",
      "GGF Value (DLP) XC:   3.8275\n"
     ]
    }
   ],
   "source": [
    "# calculate LP values\n",
    "uniform_dist = [1 / mrp_data.num_global_states for i in range(mrp_data.num_global_states)]\n",
    "model = build_dlp(mdp=mdp, initial_mu=uniform_dist)\n",
    "# Solve the GGF model\n",
    "_, model, _ = solve_dlp(model=model)\n",
    "results = extract_dlp(model=model, print_results=True)"
   ]
  },
  {
   "cell_type": "code",
   "execution_count": 6,
   "id": "4b070e8b-e3d8-43fa-b8e6-f545f680c32b",
   "metadata": {},
   "outputs": [],
   "source": [
    "from utils.count import CountMDP"
   ]
  },
  {
   "cell_type": "code",
   "execution_count": 25,
   "id": "c956d853-680b-4a85-8555-b461598d5fbb",
   "metadata": {},
   "outputs": [],
   "source": [
    "count_mdp = CountMDP(\n",
    "    num_groups=2,\n",
    "    num_states=params.num_states,\n",
    "    num_actions=params.num_actions\n",
    ")"
   ]
  },
  {
   "cell_type": "code",
   "execution_count": 9,
   "id": "ab1d0b3f-d983-4575-82c8-e8f9c5a9ce94",
   "metadata": {},
   "outputs": [],
   "source": [
    "from solver.count_dlp import build_count_dlp, extract_count_dlp, solve_count_dlp"
   ]
  },
  {
   "cell_type": "code",
   "execution_count": 18,
   "id": "d45371ea-99b9-4418-901c-a187eee86e4e",
   "metadata": {},
   "outputs": [
    {
     "name": "stdout",
     "output_type": "stream",
     "text": [
      "          [0 0 0] [1 0 0] [0 1 0] [0 0 1]\n",
      "[5, 0, 0]  0.1638       0       0       0\n",
      "[4, 1, 0]  1.0568       0       0       0\n",
      "[4, 0, 1]       0       0       0  0.3492\n",
      "[3, 2, 0]  2.6876       0       0       0\n",
      "[3, 1, 1]       0       0       0  1.6306\n",
      "[3, 0, 2]       0       0       0  0.3071\n",
      "[2, 3, 0]  3.3807       0       0       0\n",
      "[2, 2, 1]       0       0       0  2.8057\n",
      "[2, 1, 2]       0       0       0  0.9371\n",
      "[2, 0, 3]       0       0       0  0.1396\n",
      "[1, 4, 0]  2.1667       0       0       0\n",
      "[1, 3, 1]       0       0       0  2.1393\n",
      "[1, 2, 2]       0       0       0  0.9136\n",
      "[1, 1, 3]       0       0       0  0.2349\n",
      "[1, 0, 4]       0       0       0  0.0343\n",
      "[0, 5, 0]       0       0  0.3694       0\n",
      "[0, 4, 1]       0       0       0  0.3901\n",
      "[0, 3, 2]       0       0       0   0.192\n",
      "[0, 2, 3]       0       0       0  0.0731\n",
      "[0, 1, 4]       0       0       0   0.024\n",
      "[0, 0, 5]       0       0       0  0.0041\n",
      "          [0 0 0]    [1 0 0]    [0 1 0]    [0 0 1]\n",
      "[5, 0, 0]       0          1  1000000.0  1000000.0\n",
      "[4, 1, 0]    0.17       1.17          1  1000000.0\n",
      "[4, 0, 1]    0.67       1.67  1000000.0          1\n",
      "[3, 2, 0]    0.33       1.33       1.17  1000000.0\n",
      "[3, 1, 1]    0.83       1.83       1.67       1.17\n",
      "[3, 0, 2]    1.33       2.33  1000000.0       1.67\n",
      "[2, 3, 0]     0.5        1.5       1.33  1000000.0\n",
      "[2, 2, 1]       1        2.0       1.83       1.33\n",
      "[2, 1, 2]     1.5        2.5       2.33       1.83\n",
      "[2, 0, 3]     2.0        3.0  1000000.0       2.33\n",
      "[1, 4, 0]    0.67       1.67        1.5  1000000.0\n",
      "[1, 3, 1]    1.17       2.17        2.0        1.5\n",
      "[1, 2, 2]    1.67       2.67        2.5        2.0\n",
      "[1, 1, 3]    2.17       3.17        3.0        2.5\n",
      "[1, 0, 4]    2.67       3.67  1000000.0        3.0\n",
      "[0, 5, 0]    0.83  1000000.0       1.67  1000000.0\n",
      "[0, 4, 1]    1.33  1000000.0       2.17       1.67\n",
      "[0, 3, 2]    1.83  1000000.0       2.67       2.17\n",
      "[0, 2, 3]    2.33  1000000.0       3.17       2.67\n",
      "[0, 1, 4]    2.83  1000000.0       3.67       3.17\n",
      "[0, 0, 5]    3.33  1000000.0  1000000.0       3.67\n",
      "Objective:  4.0899\n"
     ]
    }
   ],
   "source": [
    "# calculate LP values\n",
    "uniform_dist = [1/len(count_mdp.count_states)] * len(count_mdp.count_states)\n",
    "model = build_count_dlp(count_mdp=count_mdp, initial_mu=uniform_dist)\n",
    "# Solve the GGF model\n",
    "_, model = solve_count_dlp(model=model)\n",
    "results = extract_count_dlp(model=model, print_results=True)"
   ]
  },
  {
   "cell_type": "code",
   "execution_count": 20,
   "id": "14c98217-c432-43dd-9b0c-d03774996167",
   "metadata": {},
   "outputs": [
    {
     "data": {
      "text/plain": [
       "15.9101"
      ]
     },
     "execution_count": 20,
     "metadata": {},
     "output_type": "execute_result"
    }
   ],
   "source": [
    "20-4.0899"
   ]
  },
  {
   "cell_type": "code",
   "execution_count": 22,
   "id": "42c827cf-d5da-49a3-9f71-6105034f122c",
   "metadata": {},
   "outputs": [
    {
     "name": "stdout",
     "output_type": "stream",
     "text": [
      "          [0 0 0] [1 0 0] [0 1 0] [0 0 1]\n",
      "[4, 0, 0]  0.4676       0       0       0\n",
      "[3, 1, 0]   2.329       0       0       0\n",
      "[3, 0, 1]       0       0       0  0.7023\n",
      "[2, 2, 0]  4.2973       0       0       0\n",
      "[2, 1, 1]       0       0       0  2.3595\n",
      "[2, 0, 2]       0       0       0  0.4047\n",
      "[1, 3, 0]  3.4851       0       0       0\n",
      "[1, 2, 1]       0       0       0   2.601\n",
      "[1, 1, 2]       0       0       0  0.7802\n",
      "[1, 0, 3]       0       0       0  0.1117\n",
      "[0, 4, 0]  1.0496       0       0       0\n",
      "[0, 3, 1]       0       0       0   0.943\n",
      "[0, 2, 2]       0       0       0  0.3646\n",
      "[0, 1, 3]       0       0       0  0.0905\n",
      "[0, 0, 4]       0       0       0  0.0139\n",
      "          [0 0 0]    [1 0 0]    [0 1 0]    [0 0 1]\n",
      "[4, 0, 0]       0          1  1000000.0  1000000.0\n",
      "[3, 1, 0]    0.17       1.17          1  1000000.0\n",
      "[3, 0, 1]    0.67       1.67  1000000.0          1\n",
      "[2, 2, 0]    0.33       1.33       1.17  1000000.0\n",
      "[2, 1, 1]    0.83       1.83       1.67       1.17\n",
      "[2, 0, 2]    1.33       2.33  1000000.0       1.67\n",
      "[1, 3, 0]     0.5        1.5       1.33  1000000.0\n",
      "[1, 2, 1]       1        2.0       1.83       1.33\n",
      "[1, 1, 2]     1.5        2.5       2.33       1.83\n",
      "[1, 0, 3]     2.0        3.0  1000000.0       2.33\n",
      "[0, 4, 0]    0.67  1000000.0        1.5  1000000.0\n",
      "[0, 3, 1]    1.17  1000000.0        2.0        1.5\n",
      "[0, 2, 2]    1.67  1000000.0        2.5        2.0\n",
      "[0, 1, 3]    2.17  1000000.0        3.0        2.5\n",
      "[0, 0, 4]    2.67  1000000.0  1000000.0        3.0\n",
      "Objective:  3.9908\n"
     ]
    }
   ],
   "source": [
    "# calculate LP values\n",
    "uniform_dist = [1/len(count_mdp.count_states)] * len(count_mdp.count_states)\n",
    "model = build_count_dlp(count_mdp=count_mdp, initial_mu=uniform_dist)\n",
    "# Solve the GGF model\n",
    "_, model = solve_count_dlp(model=model)\n",
    "results = extract_count_dlp(model=model, print_results=True)"
   ]
  },
  {
   "cell_type": "code",
   "execution_count": 24,
   "id": "ae21582b-b267-402d-92a6-f6edbffbe341",
   "metadata": {},
   "outputs": [
    {
     "name": "stdout",
     "output_type": "stream",
     "text": [
      "          [0 0 0] [1 0 0] [0 1 0] [0 0 1]\n",
      "[3, 0, 0]  1.2698       0       0       0\n",
      "[2, 1, 0]  4.6165       0       0       0\n",
      "[2, 0, 1]       0       0       0  1.2647\n",
      "[1, 2, 0]  5.5497       0       0       0\n",
      "[1, 1, 1]       0       0       0  2.7453\n",
      "[1, 0, 2]       0       0       0   0.425\n",
      "[0, 3, 0]  2.2086       0       0       0\n",
      "[0, 2, 1]       0       0       0  1.4755\n",
      "[0, 1, 2]       0       0       0   0.391\n",
      "[0, 0, 3]       0       0       0  0.0538\n",
      "          [0 0 0]    [1 0 0]    [0 1 0]    [0 0 1]\n",
      "[3, 0, 0]       0          1  1000000.0  1000000.0\n",
      "[2, 1, 0]    0.17       1.17          1  1000000.0\n",
      "[2, 0, 1]    0.67       1.67  1000000.0          1\n",
      "[1, 2, 0]    0.33       1.33       1.17  1000000.0\n",
      "[1, 1, 1]    0.83       1.83       1.67       1.17\n",
      "[1, 0, 2]    1.33       2.33  1000000.0       1.67\n",
      "[0, 3, 0]     0.5  1000000.0       1.33  1000000.0\n",
      "[0, 2, 1]       1  1000000.0       1.83       1.33\n",
      "[0, 1, 2]     1.5  1000000.0       2.33       1.83\n",
      "[0, 0, 3]     2.0  1000000.0  1000000.0       2.33\n",
      "Objective:  3.9031\n"
     ]
    }
   ],
   "source": [
    "# calculate LP values\n",
    "uniform_dist = [1/len(count_mdp.count_states)] * len(count_mdp.count_states)\n",
    "model = build_count_dlp(count_mdp=count_mdp, initial_mu=uniform_dist)\n",
    "# Solve the GGF model\n",
    "_, model = solve_count_dlp(model=model)\n",
    "results = extract_count_dlp(model=model, print_results=True)"
   ]
  },
  {
   "cell_type": "code",
   "execution_count": 26,
   "id": "cb749dc5-d108-4f72-b6bc-815cb44bc06d",
   "metadata": {},
   "outputs": [
    {
     "name": "stdout",
     "output_type": "stream",
     "text": [
      "          [0 0 0] [1 0 0] [0 1 0] [0 0 1]\n",
      "[2, 0, 0]  3.2918       0       0       0\n",
      "[1, 1, 0]  7.8111       0       0       0\n",
      "[1, 0, 1]       0       0       0  1.9396\n",
      "[0, 2, 0]  4.6161       0       0       0\n",
      "[0, 1, 1]       0       0       0  2.0549\n",
      "[0, 0, 2]       0       0       0  0.2865\n",
      "          [0 0 0]    [1 0 0]    [0 1 0]    [0 0 1]\n",
      "[2, 0, 0]       0          1  1000000.0  1000000.0\n",
      "[1, 1, 0]    0.17       1.17          1  1000000.0\n",
      "[1, 0, 1]    0.67       1.67  1000000.0          1\n",
      "[0, 2, 0]    0.33  1000000.0       1.17  1000000.0\n",
      "[0, 1, 1]    0.83  1000000.0       1.67       1.17\n",
      "[0, 0, 2]    1.33  1000000.0  1000000.0       1.67\n",
      "Objective:  3.8275\n"
     ]
    }
   ],
   "source": [
    "# calculate LP values\n",
    "uniform_dist = [1/len(count_mdp.count_states)] * len(count_mdp.count_states)\n",
    "model = build_count_dlp(count_mdp=count_mdp, initial_mu=uniform_dist)\n",
    "# Solve the GGF model\n",
    "_, model = solve_count_dlp(model=model)\n",
    "results = extract_count_dlp(model=model, print_results=True)"
   ]
  }
 ],
 "metadata": {
  "kernelspec": {
   "display_name": "Python 3 (ipykernel)",
   "language": "python",
   "name": "python3"
  },
  "language_info": {
   "codemirror_mode": {
    "name": "ipython",
    "version": 3
   },
   "file_extension": ".py",
   "mimetype": "text/x-python",
   "name": "python",
   "nbconvert_exporter": "python",
   "pygments_lexer": "ipython3",
   "version": "3.9.6"
  }
 },
 "nbformat": 4,
 "nbformat_minor": 5
}
