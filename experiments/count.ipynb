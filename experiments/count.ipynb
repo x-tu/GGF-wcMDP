{
 "cells": [
  {
   "cell_type": "markdown",
   "id": "60e91b20-0cbd-44f9-8f9d-56f8226df73b",
   "metadata": {},
   "source": [
    "# 1. Set-up"
   ]
  },
  {
   "cell_type": "code",
   "execution_count": null,
   "id": "899219ad-3a88-4f83-8001-ee2f9accd01c",
   "metadata": {
    "is_executing": true
   },
   "outputs": [],
   "source": [
    "# a temporary solution, run twice to set the current path as '../Fair-RL/src'\n",
    "%cd .."
   ]
  },
  {
   "cell_type": "code",
   "execution_count": 3,
   "id": "a20425bc-4f53-4bb4-9271-3870ceb492fb",
   "metadata": {},
   "outputs": [
    {
     "name": "stdout",
     "output_type": "stream",
     "text": [
      "/Users/xiaohui/Documents/Code/Fair-RL/src\n"
     ]
    }
   ],
   "source": [
    "%cd src"
   ]
  },
  {
   "cell_type": "code",
   "execution_count": 4,
   "id": "1d16d185-de5b-4449-9639-7e15044b09e0",
   "metadata": {},
   "outputs": [],
   "source": [
    "# used to auto-reload imported module after making modification inside .py files\n",
    "%load_ext autoreload\n",
    "%autoreload 2"
   ]
  },
  {
   "cell_type": "markdown",
   "id": "9fa9a5d8-a763-4922-8f1b-178f05a5f8ad",
   "metadata": {},
   "source": [
    "## 1.1 imports"
   ]
  },
  {
   "cell_type": "code",
   "execution_count": 5,
   "id": "c02aac6a-70a6-4386-9710-a077d33049aa",
   "metadata": {},
   "outputs": [],
   "source": [
    "from experiments.configs.base import params\n",
    "from env.mrp_env_rccc import MachineReplacement\n",
    "from solver.ggf_dlp import build_dlp, extract_dlp, solve_dlp\n",
    "from utils.common import MDP4LP\n",
    "from utils.mrp import MRPData\n",
    "from utils.policy import calculate_state_value\n",
    "import pandas as pd\n",
    "import numpy as np\n",
    "from utils.encoding import state_vector_to_int_index, state_int_index_to_vector\n",
    "import matplotlib.pyplot as plt\n",
    "import seaborn as sns"
   ]
  },
  {
   "cell_type": "code",
   "execution_count": 39,
   "id": "85a3e82c-b68f-4699-b48b-35af2d85911f",
   "metadata": {},
   "outputs": [],
   "source": [
    "params.weight_type = 'exponential3'"
   ]
  },
  {
   "cell_type": "code",
   "execution_count": 40,
   "id": "f545122c-e5e2-4525-a574-25b7eafcc967",
   "metadata": {},
   "outputs": [],
   "source": [
    "# set parameters\n",
    "params.num_actions = 2\n",
    "params.num_states = 3\n",
    "params.num_groups = 2\n",
    "\n",
    "mrp_data = MRPData(\n",
    "    num_groups=params.num_groups,\n",
    "    num_states=params.num_states,\n",
    "    num_actions=params.num_actions,\n",
    "    prob_remain=params.prob_remain,\n",
    "    weight_type=params.weight_type,\n",
    "    cost_types_operation=params.cost_type_operation,\n",
    "    cost_types_replace=params.cost_type_replace,\n",
    ")\n",
    "\n",
    "mdp = MDP4LP(\n",
    "    num_states=mrp_data.num_global_states,\n",
    "    num_actions=mrp_data.num_global_actions,\n",
    "    num_groups=mrp_data.num_groups,\n",
    "    transition=mrp_data.global_transitions,\n",
    "    costs=mrp_data.global_costs,\n",
    "    discount=params.gamma,\n",
    "    weights=mrp_data.weights,\n",
    "    minimize=True,\n",
    "    encoding_int=False,\n",
    "    base_num_states=params.num_states,\n",
    ")"
   ]
  },
  {
   "cell_type": "code",
   "execution_count": 41,
   "id": "cb6ede09-56df-4816-82b4-fc4449393ec3",
   "metadata": {},
   "outputs": [
    {
     "name": "stdout",
     "output_type": "stream",
     "text": [
      "Initial distribution:  [0.1111111111111111, 0.1111111111111111, 0.1111111111111111, 0.1111111111111111, 0.1111111111111111, 0.1111111111111111, 0.1111111111111111, 0.1111111111111111, 0.1111111111111111]\n",
      "Solver solving time: 0.0085\n",
      "Number of solutions found: 1\n",
      "Proportion of stochastic policy: 20.0%\n",
      "Policy:                        Var X:            Costs - Group 1 | Group 2                        \n",
      "        0    1    2          0       1       2           0    1     2        0     1    2\n",
      "(0, 0)  1    0    0     3.2918       0       0        0.00  1.0  0.00     0.00  0.00  1.0\n",
      "(0, 1)  1    0    0     3.9055       0       0        0.00  1.0  0.00     0.17  0.17  1.0\n",
      "(0, 2)  0    0    1          0       0  0.9698        0.00  1.0  0.00     0.67  0.67  1.0\n",
      "(1, 0)  1    0    0     3.9055       0       0        0.17  1.0  0.17     0.00  0.00  1.0\n",
      "(1, 1)  1    0    0     4.6161       0       0        0.17  1.0  0.17     0.17  0.17  1.0\n",
      "(1, 2)  0    0    1          0       0  1.0274        0.17  1.0  0.17     0.67  0.67  1.0\n",
      "(2, 0)  0    1    0          0  0.9698       0        0.67  1.0  0.67     0.00  0.00  1.0\n",
      "(2, 1)  0    1    0          0  1.0274       0        0.67  1.0  0.67     0.17  0.17  1.0\n",
      "(2, 2)  0  0.5  0.5          0  0.1433  0.1433        0.67  1.0  0.67     0.67  0.67  1.0\n",
      "    Var L Var N     Group Costs\n",
      "0  2.8706   0.0          3.8275\n",
      "1  0.9569   0.0          3.8275\n",
      "Var X total: 19.9999\n",
      "GGF Value (DLP) L+N:  3.8275\n",
      "GGF Value (DLP) XC:   3.8275\n"
     ]
    }
   ],
   "source": [
    "# calculate LP values\n",
    "uniform_dist = [1 / mrp_data.num_global_states for i in range(mrp_data.num_global_states)]\n",
    "model = build_dlp(mdp=mdp, initial_mu=uniform_dist)\n",
    "# Solve the GGF model\n",
    "_, model, _ = solve_dlp(model=model)\n",
    "results = extract_dlp(model=model, print_results=True)"
   ]
  },
  {
   "cell_type": "code",
   "execution_count": 8,
   "id": "4b070e8b-e3d8-43fa-b8e6-f545f680c32b",
   "metadata": {},
   "outputs": [],
   "source": [
    "from utils.count import CountMDP"
   ]
  },
  {
   "cell_type": "code",
   "execution_count": 9,
   "id": "c956d853-680b-4a85-8555-b461598d5fbb",
   "metadata": {},
   "outputs": [],
   "source": [
    "count_mrp = MRPData(\n",
    "    num_groups=params.num_groups,\n",
    "    num_states=params.num_states,\n",
    "    num_actions=params.num_actions\n",
    ")"
   ]
  },
  {
   "cell_type": "code",
   "execution_count": null,
   "id": "ab1d0b3f-d983-4575-82c8-e8f9c5a9ce94",
   "metadata": {},
   "outputs": [],
   "source": [
    "count_mrp"
   ]
  }
 ],
 "metadata": {
  "kernelspec": {
   "display_name": "Python 3 (ipykernel)",
   "language": "python",
   "name": "python3"
  },
  "language_info": {
   "codemirror_mode": {
    "name": "ipython",
    "version": 3
   },
   "file_extension": ".py",
   "mimetype": "text/x-python",
   "name": "python",
   "nbconvert_exporter": "python",
   "pygments_lexer": "ipython3",
   "version": "3.9.6"
  }
 },
 "nbformat": 4,
 "nbformat_minor": 5
}
